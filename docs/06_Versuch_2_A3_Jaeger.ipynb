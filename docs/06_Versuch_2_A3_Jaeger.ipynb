{
 "cells": [
  {
   "cell_type": "code",
   "execution_count": 1,
   "metadata": {},
   "outputs": [],
   "source": [
    "def num_eq(eq):\n",
    "    Eq_list.append(eq)\n",
    "    eq_num = eq_subs(eq, *Eq_list).subs(params).simplify()\n",
    "    return eq_num\n"
   ]
  },
  {
   "cell_type": "code",
   "execution_count": 2,
   "metadata": {},
   "outputs": [],
   "source": [
    "%run \"..\\src\\utils\\notebook_style.ipynb\""
   ]
  },
  {
   "cell_type": "markdown",
   "metadata": {},
   "source": [
    "# Numerische Integration der Krümmung\n",
    "\n",
    "## Einführung\n",
    "\n",
    "Ziel ist die Deformationen des Versuchs A3 in der Versuchsanordnung 2 aus @Jaeger2006 nachzurechnen."
   ]
  },
  {
   "cell_type": "markdown",
   "metadata": {},
   "source": [
    "## Momenten-Krümmungsdiagramm\n",
    "\n",
    "Das Momenten-Krümmungsdiagramm ist geeignet zur Beschreibung des Tragverhaltens von überwiegend auf Biegung beanspruchte Stabtragwerke.\n",
    "Zur rechnerischen Ermittlung gelten folgende Annahmen, wie in @Spathelf2022 beschrieben:\n",
    "\n",
    "- Eben- und senkrechtbleiben der Querschnitte\n",
    "- Die Betonzugfestigkeit $f_{ct}$ wird, für Zustände nach dem Überschreiten von $f_{ct}$, vernachlässigt\n",
    "- Linear elastisches Verhalten von Stahl und Beton für die Spannungs- und Verformungsberechnung\n",
    "- Die Bewehrung überträgt Zug- und Druckkräfte ausschliesslich in Stabrichtung\n",
    "\n",
    "### Anwendung auf Versuchsbeispiel\n",
    "\n",
    "Folgend wird ein Momentenkrümmungsdiagramm für den Querschnitt aus dem beschriebenen Versuch berechnet. Die vorhandene Querkraftbewehrung ist nicht dargestellt in @fig-qs_a3.\n",
    "\n",
    "\n",
    "![Querschnitt des Versuchs A3 zur Bestimmung des Momenten-Krümmungdiagramms](../images/QS_Versuch_A3.svg){#fig-qs_a3}\n",
    "\n",
    "\n",
    "Vereinfacht wird der Querschnitt folgender massen:\n",
    "\n",
    "\n",
    "![Vereinfachung der Bewehrungsführung](../images/QS_analyse_1.svg){#fig_qs_1}\n"
   ]
  },
  {
   "cell_type": "markdown",
   "metadata": {},
   "source": [
    "#### Verwendete Parameter"
   ]
  },
  {
   "cell_type": "code",
   "execution_count": 3,
   "metadata": {},
   "outputs": [],
   "source": [
    "f_ct, E_c, b, h, W_c, M_r, E_s, f_c= sp.symbols('f_ct, E_c, b, h, W_c, M_r E_s f_c')\n",
    "\n",
    "A_i, A_c, A_s, s_x, diam_s = sp.symbols('A_i, A_c, A_s, s_x \\\\oslash_s')\n",
    "\n",
    "chi_r, I_1 = sp.symbols('chi_r, I^I')\n",
    "\n",
    "zeta_c, c_nom, I_2 = sp.symbols('zeta_c c_nom I^{II}')\n",
    "\n",
    "chi_M = sp.Function('chi')(M)\n",
    "\n",
    "sigma_c_inf_1, F_c1, z_1 = sp.symbols('sigma_c_inf\\,1, F_c\\,1 z_\\,1')\n",
    "\n",
    "F_A = sp.symbols('F_A')\n",
    "\n",
    "z_2 = sp.symbols('F_c\\,2 z_\\,2')\n",
    "\n",
    "F_z2, F_c2, f_sy, x_2, epsilon_s2, epsilon_c2, sigma_s2, chi_II, sigma_c_inf_2, M_2 = sp.symbols('F_z\\,2 F_c\\,2 f_sy x_\\,2 varepsilon_s\\,2 varepsilon_c\\,2 sigma_s\\,2 \\chi^{II} sigma_c_inf\\,2 M_2')\n",
    "\n",
    "EI_II, EI_I = sp.symbols('EI^{II} EI^I')\n",
    "\n",
    "\n",
    "epsilon_sy, x_3, F_c3, F_s3, chi_y, M_y = sp.symbols('varepsilon_sy x_\\,3 F_c\\,3, F_s\\,3, \\chi_y M_y')\n",
    "\n",
    "x_4, M_R, epsilon_cw, epsilon_su,epsilon_sw, chi_u = sp.symbols('x_4, M_R varepsilon_cw varepsilon_su varepsilon_sw chi_u')\n",
    "EI_III = sp.symbols('EI^{III}')\n",
    "\n",
    "\n",
    "w_1 = sp.symbols('w_1')\n",
    "Eq_list = []\n"
   ]
  },
  {
   "cell_type": "code",
   "execution_count": 4,
   "metadata": {},
   "outputs": [
    {
     "data": {
      "text/markdown": [
       "|   |   |\n",
       "|---|---|\n",
       "| $E_{c} = 37700.0 \\, \\frac{\\text{N}}{\\text{mm}^{2}}$ | $E_{s} = 200000.0 \\, \\frac{\\text{N}}{\\text{mm}^{2}}$ |\n",
       "| $F_{A} = 215000 \\, \\text{N}$ | $\\oslash_{s} = 12.0 \\, \\text{mm}$ |\n",
       "| $b = 800.0 \\, \\text{mm}$ | $c_{nom} = 20.0 \\, \\text{mm}$ |\n",
       "| $f_{c} = 63.3 \\, \\frac{\\text{N}}{\\text{mm}^{2}}$ | $f_{ct} = 3.0 \\, \\frac{\\text{N}}{\\text{mm}^{2}}$ |\n",
       "| $f_{sy} = 500.0 \\, \\frac{\\text{N}}{\\text{mm}^{2}}$ | $h = 200.0 \\, \\text{mm}$ |\n",
       "| $s_{x} = 80.0 \\, \\text{mm}$ | $\\varepsilon_{cw} = 0.0023 \\, $ |\n",
       "| $\\varepsilon_{sw} = 0.1117 \\, $ | |\n"
      ],
      "text/plain": [
       "<IPython.core.display.Markdown object>"
      ]
     },
     "metadata": {},
     "output_type": "display_data"
    }
   ],
   "source": [
    "params = {\n",
    "    f_ct:3.*unit.N / unit.mm**2,\n",
    "    E_c:37700.*unit.N / unit.mm**2,\n",
    "    E_s:200000.*unit.N / unit.mm**2,\n",
    "    b:800.*unit.mm,\n",
    "    h:200.*unit.mm,\n",
    "    s_x: 80.*unit.mm,\n",
    "    diam_s:12.*unit.mm,\n",
    "    c_nom:20.*unit.mm,\n",
    "    F_A:215000*unit.N,\n",
    "    f_sy:500.*unit.N/unit.mm**2,\n",
    "    f_c: 63.3*unit.N/unit.mm**2,\n",
    "    epsilon_cw : 2.3/1000,\n",
    "    epsilon_sw : 111.7/1000,\n",
    "}\n",
    "\n",
    "\n",
    "# params = {\n",
    "#     f_ct:2.42*unit.N / unit.mm**2,\n",
    "#     E_c:32000.*unit.N / unit.mm**2,\n",
    "#     E_s:205000.*unit.N / unit.mm**2,\n",
    "#     b:300.*unit.mm,\n",
    "#     h:450.*unit.mm,\n",
    "#     s_x: 300/0.75*unit.mm,\n",
    "#     diam_s:14.*unit.mm,\n",
    "#     c_nom:30.*unit.mm,\n",
    "#     F_A:50000*unit.N,\n",
    "#     f_sy:435.*unit.N/unit.mm**2,\n",
    "#     f_c: 16.5*unit.N/unit.mm**2,\n",
    "#     epsilon_cw : 3/1000,\n",
    "#     epsilon_sw : 45/1000,\n",
    "# }\n",
    "params_plot = param_value(params)\n",
    "dict_to_table(params)"
   ]
  },
  {
   "cell_type": "markdown",
   "metadata": {},
   "source": [
    "#### Schwerpunkt des Querschnitts\n",
    "\n",
    "Durch die Bestimmung der Wertigkeit $n$ kann der Querschnitt als homogener Betonquerschnitt zur Bestimmung des Schwerpunkts behandelt werden."
   ]
  },
  {
   "cell_type": "code",
   "execution_count": 5,
   "metadata": {},
   "outputs": [
    {
     "data": {
      "text/latex": [
       "\\begin{equation}n = \\frac{E_{s}}{E_{c}}\\end{equation}"
      ],
      "text/plain": [
       "     Eₛ\n",
       "n = ───\n",
       "    E_c"
      ]
     },
     "metadata": {},
     "output_type": "display_data"
    },
    {
     "data": {
      "text/latex": [
       "\\begin{equation}n = 5.3\\end{equation}"
      ],
      "text/plain": [
       "n = 5.3"
      ]
     },
     "metadata": {},
     "output_type": "display_data"
    }
   ],
   "source": [
    "eq_n = sp.Eq(n, E_s / E_c)\n",
    "eq_n_num = num_eq(eq_n)\n",
    "\n",
    "\n",
    "\n",
    "display(eq_n,eq_n_num.evalf(3))"
   ]
  },
  {
   "cell_type": "markdown",
   "metadata": {},
   "source": [
    "Die Querschnittsfläche der Bewehrung:"
   ]
  },
  {
   "cell_type": "code",
   "execution_count": 6,
   "metadata": {},
   "outputs": [
    {
     "data": {
      "text/latex": [
       "\\begin{equation}A_{s} = 2 \\text{m} \\frac{\\pi \\oslash_{s}^{2}}{4 s_{x}}\\end{equation}"
      ],
      "text/plain": [
       "                       2\n",
       "             π⋅\\oslashₛ \n",
       "Aₛ = 2⋅meter⋅───────────\n",
       "                 4⋅sₓ   "
      ]
     },
     "metadata": {},
     "output_type": "display_data"
    },
    {
     "data": {
      "text/latex": [
       "\\begin{equation}A_{s} = 2.83 \\cdot 10^{3} \\text{mm}^{2}\\end{equation}"
      ],
      "text/plain": [
       "                       2\n",
       "Aₛ = 2.83e+3⋅millimeter "
      ]
     },
     "metadata": {},
     "output_type": "display_data"
    }
   ],
   "source": [
    "eq_A_s = sp.Eq(A_s, sp.Mul(2*unit.m,sp.pi * diam_s **2 / (4 * s_x), evaluate=False))\n",
    "eq_A_s_num = unit.convert_to(num_eq(eq_A_s), unit.mm)\n",
    "\n",
    "display(eq_A_s, eq_A_s_num.evalf(3))"
   ]
  },
  {
   "cell_type": "markdown",
   "metadata": {},
   "source": [
    "Die Betonquerschnittsfläche:"
   ]
  },
  {
   "cell_type": "code",
   "execution_count": 7,
   "metadata": {},
   "outputs": [
    {
     "data": {
      "text/latex": [
       "\\begin{equation}A_{c} = b h\\end{equation}"
      ],
      "text/plain": [
       "A_c = b⋅h"
      ]
     },
     "metadata": {},
     "output_type": "display_data"
    },
    {
     "data": {
      "text/latex": [
       "\\begin{equation}A_{c} = 160000.0 \\text{mm}^{2}\\end{equation}"
      ],
      "text/plain": [
       "                         2\n",
       "A_c = 160000.0⋅millimeter "
      ]
     },
     "metadata": {},
     "output_type": "display_data"
    }
   ],
   "source": [
    "eq_A_c = sp.Eq(A_c, b*h)\n",
    "eq_A_c_num = unit.convert_to(num_eq(eq_A_c), unit.mm)\n",
    "\n",
    "\n",
    "display(eq_A_c, eq_A_c_num)"
   ]
  },
  {
   "cell_type": "markdown",
   "metadata": {},
   "source": [
    "Die ideelle Querschnittsfläche resultiert zu:"
   ]
  },
  {
   "cell_type": "code",
   "execution_count": 8,
   "metadata": {},
   "outputs": [
    {
     "data": {
      "text/latex": [
       "\\begin{equation}A_{i} = A_{c} + A_{s} \\left(n - 1\\right)\\end{equation}"
      ],
      "text/plain": [
       "Aᵢ = A_c + Aₛ⋅(n - 1)"
      ]
     },
     "metadata": {},
     "output_type": "display_data"
    },
    {
     "data": {
      "text/latex": [
       "\\begin{equation}A_{i} = 172172.0 \\text{mm}^{2}\\end{equation}"
      ],
      "text/plain": [
       "                        2\n",
       "Aᵢ = 172172.0⋅millimeter "
      ]
     },
     "metadata": {},
     "output_type": "display_data"
    }
   ],
   "source": [
    "eq_Ai = sp.Eq(A_i, A_c + A_s *(n-1))\n",
    "eq_Ai_num = unit.convert_to(num_eq(eq_Ai), unit.mm)\n",
    "\n",
    "\n",
    "display(eq_Ai,eq_Ai_num.evalf(6))"
   ]
  },
  {
   "cell_type": "code",
   "execution_count": 9,
   "metadata": {},
   "outputs": [
    {
     "data": {
      "text/latex": [
       "\\begin{equation}\\zeta_{c} = \\frac{\\frac{A_{c} h}{2} + A_{s} \\left(1.5 \\oslash_{s} + c_{nom}\\right) \\left(n - 1\\right)}{A_{i}}\\end{equation}"
      ],
      "text/plain": [
       "      A_c⋅h                                   \n",
       "      ───── + Aₛ⋅(1.5⋅\\oslashₛ + cₙₒₘ)⋅(n - 1)\n",
       "        2                                     \n",
       "ζ_c = ────────────────────────────────────────\n",
       "                         Aᵢ                   "
      ]
     },
     "metadata": {},
     "output_type": "display_data"
    },
    {
     "data": {
      "text/latex": [
       "\\begin{equation}\\zeta_{c} = 95.6 \\text{mm}\\end{equation}"
      ],
      "text/plain": [
       "ζ_c = 95.6⋅millimeter"
      ]
     },
     "metadata": {},
     "output_type": "display_data"
    }
   ],
   "source": [
    "eq_zeta_c = sp.Eq(zeta_c, sp.Mul(1/A_i,A_c * h/2 + A_s*(n-1) * (c_nom +1.5*diam_s), evaluate=False))\n",
    "eq_zeta_c_num = unit.convert_to(num_eq(eq_zeta_c), unit.mm)\n",
    "\n",
    "display(eq_zeta_c, eq_zeta_c_num.simplify().evalf(3))"
   ]
  },
  {
   "cell_type": "markdown",
   "metadata": {},
   "source": [
    "#### Flächenträgheitsmoment\n",
    "\n",
    "Das Flächenträgheitsmoment wird ebenfalls am ideellen Querschnitt bestimmt. Die Eigenträgheitsmomente der Kreisquerschnitte der Bewehrung sind nicht berücksichtigt, lediglich der Steiner-Anteil fliesst in die Berechnung ein:"
   ]
  },
  {
   "cell_type": "code",
   "execution_count": 10,
   "metadata": {},
   "outputs": [
    {
     "data": {
      "text/latex": [
       "\\begin{equation}I^{I} = A_{s} \\left(n - 1\\right) \\left(\\frac{3 \\oslash_{s}}{2} + c_{nom} - \\zeta_{c}\\right)^{2} + \\frac{b h^{3}}{12} + b h \\left(\\frac{h}{2} - \\zeta_{c}\\right)^{2}\\end{equation}"
      ],
      "text/plain": [
       "                                           2      3                2\n",
       "                  ⎛3⋅\\oslashₛ             ⎞    b⋅h        ⎛h      ⎞ \n",
       "I__I = Aₛ⋅(n - 1)⋅⎜────────── + cₙₒₘ - ζ_c⎟  + ──── + b⋅h⋅⎜─ - ζ_c⎟ \n",
       "                  ⎝    2                  ⎠     12        ⎝2      ⎠ "
      ]
     },
     "metadata": {},
     "output_type": "display_data"
    },
    {
     "data": {
      "text/latex": [
       "\\begin{equation}I^{I} = 5.77 \\cdot 10^{8} \\text{mm}^{4}\\end{equation}"
      ],
      "text/plain": [
       "                         4\n",
       "I__I = 5.77e+8⋅millimeter "
      ]
     },
     "metadata": {},
     "output_type": "display_data"
    }
   ],
   "source": [
    "eq_I_1 = sp.Eq(I_1, b * h**3/12 +b*h*(h/2 - zeta_c)**2 + A_s * (n-1) * (c_nom + sp.Rational(1.5)*diam_s - zeta_c)**2)\n",
    "eq_I_1_num = unit.convert_to(num_eq(eq_I_1), unit.mm)\n",
    "display(eq_I_1, eq_I_1_num.evalf(3))\n"
   ]
  },
  {
   "cell_type": "markdown",
   "metadata": {},
   "source": [
    "#### Ungerissen - Zustand 1\n",
    "\n",
    "Der Querschnitt verbleibt elastisch. Folglich kann das Flächenträgheitsmoment mit $E_c$ multipliziert werden und es resultiert die ungerissene Biegesteifigkeit:"
   ]
  },
  {
   "cell_type": "code",
   "execution_count": 11,
   "metadata": {},
   "outputs": [
    {
     "data": {
      "text/latex": [
       "\\begin{equation}EI^{I} = E_{c} I^{I}\\end{equation}"
      ],
      "text/plain": [
       "EI__I = E_c⋅I__I"
      ]
     },
     "metadata": {},
     "output_type": "display_data"
    },
    {
     "data": {
      "text/latex": [
       "\\begin{equation}EI^{I} = 2.17 \\cdot 10^{7} \\text{m}^{2} \\text{N}\\end{equation}"
      ],
      "text/plain": [
       "                     2       \n",
       "EI__I = 2.17e+7⋅meter ⋅newton"
      ]
     },
     "metadata": {},
     "output_type": "display_data"
    }
   ],
   "source": [
    "\n",
    "eq_EI_1 = sp.Eq(EI_I, I_1 * E_c)\n",
    "eq_EI_I_num = num_eq(eq_EI_1)\n",
    "\n",
    "\n",
    "\n",
    "display(eq_EI_1, eq_EI_I_num.evalf(3))"
   ]
  },
  {
   "cell_type": "markdown",
   "metadata": {},
   "source": [
    "\n",
    "##### Rissmoment\n",
    "\n",
    "Durch die Ermittlung des Rissmoments kann die Krümmung vor dem Reissen des Betons ermittelt werden. Die Betonzugkraft wird nicht berücksichtigt.\n",
    "\n",
    "![Querschnittsanalyse vor dem Reissen des Betons](../images/QS_analyse_2.svg){#fig-qs2}\n"
   ]
  },
  {
   "cell_type": "markdown",
   "metadata": {},
   "source": [
    "Die Druckspannung bestimmt sich zu:"
   ]
  },
  {
   "cell_type": "code",
   "execution_count": 12,
   "metadata": {},
   "outputs": [
    {
     "data": {
      "text/latex": [
       "\\begin{equation}\\sigma_{c inf,1} = \\frac{f_{ct} \\left(h - \\zeta_{c}\\right)}{\\zeta_{c}}\\end{equation}"
      ],
      "text/plain": [
       "            f_ct⋅(h - ζ_c)\n",
       "σ_c_inf,1 = ──────────────\n",
       "                 ζ_c      "
      ]
     },
     "metadata": {},
     "output_type": "display_data"
    },
    {
     "data": {
      "text/latex": [
       "\\begin{equation}\\sigma_{c inf,1} = \\frac{3.27 \\text{N}}{\\text{mm}^{2}}\\end{equation}"
      ],
      "text/plain": [
       "            3.27⋅newton\n",
       "σ_c_inf,1 = ───────────\n",
       "                      2\n",
       "            millimeter "
      ]
     },
     "metadata": {},
     "output_type": "display_data"
    }
   ],
   "source": [
    "eq_sigma_c_inf1 = sp.Eq(sigma_c_inf_1,f_ct / zeta_c * (h-zeta_c))\n",
    "eq_sigma_c_inf1_num = unit.convert_to(num_eq(eq_sigma_c_inf1),unit.mm)\n",
    "\n",
    "\n",
    "display(eq_sigma_c_inf1, eq_sigma_c_inf1_num.evalf(3))\n"
   ]
  },
  {
   "cell_type": "markdown",
   "metadata": {},
   "source": [
    "Der Hebelarm der inneren Kräfte:"
   ]
  },
  {
   "cell_type": "code",
   "execution_count": 13,
   "metadata": {},
   "outputs": [
    {
     "data": {
      "text/latex": [
       "\\begin{equation}z_{,1} = - 1.5 \\oslash_{s} - c_{nom} + \\frac{2 h}{3} + \\frac{\\zeta_{c}}{3}\\end{equation}"
      ],
      "text/plain": [
       "                              2⋅h   ζ_c\n",
       "z_,1 = -1.5⋅\\oslashₛ - cₙₒₘ + ─── + ───\n",
       "                               3     3 "
      ]
     },
     "metadata": {},
     "output_type": "display_data"
    },
    {
     "data": {
      "text/latex": [
       "\\begin{equation}z_{,1} = 127.0 \\text{mm}\\end{equation}"
      ],
      "text/plain": [
       "z_,1 = 127.0⋅millimeter"
      ]
     },
     "metadata": {},
     "output_type": "display_data"
    }
   ],
   "source": [
    "eq_z_r = sp.Eq(z_1, h - ((h-zeta_c)/3 + c_nom + 3/2 * diam_s))\n",
    "eq_z_r_num = unit.convert_to(num_eq(eq_z_r), unit.mm)\n",
    "\n",
    "display(eq_z_r, eq_z_r_num.evalf(3))"
   ]
  },
  {
   "cell_type": "markdown",
   "metadata": {},
   "source": [
    "Die Betondruckkraft:"
   ]
  },
  {
   "cell_type": "code",
   "execution_count": 14,
   "metadata": {},
   "outputs": [
    {
     "data": {
      "text/latex": [
       "\\begin{equation}F_{c,1} = \\frac{b \\sigma_{c inf,1} \\left(h - \\zeta_{c}\\right)}{2}\\end{equation}"
      ],
      "text/plain": [
       "        b⋅σ_c_inf,1⋅(h - ζ_c)\n",
       "F_c,1 = ─────────────────────\n",
       "                  2          "
      ]
     },
     "metadata": {},
     "output_type": "display_data"
    },
    {
     "data": {
      "text/latex": [
       "\\begin{equation}F_{c,1} = 1.37 \\cdot 10^{5} \\text{N}\\end{equation}"
      ],
      "text/plain": [
       "F_c,1 = 1.37e+5⋅newton"
      ]
     },
     "metadata": {},
     "output_type": "display_data"
    }
   ],
   "source": [
    "eq_F_c_r = sp.Eq(F_c1,  sigma_c_inf_1 * b * (h-zeta_c)/2)\n",
    "eq_F_c_r_num = num_eq(eq_F_c_r)\n",
    "\n",
    "display(eq_F_c_r, eq_F_c_r_num.evalf(3))\n"
   ]
  },
  {
   "cell_type": "markdown",
   "metadata": {},
   "source": [
    "Und schliesslich das Rissmoment:"
   ]
  },
  {
   "cell_type": "code",
   "execution_count": 15,
   "metadata": {},
   "outputs": [
    {
     "data": {
      "text/latex": [
       "\\begin{equation}M_{r} = F_{c,1} z_{,1}\\end{equation}"
      ],
      "text/plain": [
       "Mᵣ = F_c,1⋅z_,1"
      ]
     },
     "metadata": {},
     "output_type": "display_data"
    },
    {
     "data": {
      "text/latex": [
       "\\begin{equation}M_{r} = 1.74 \\cdot 10^{4} \\text{m} \\text{N}\\end{equation}"
      ],
      "text/plain": [
       "Mᵣ = 1.74e+4⋅meter⋅newton"
      ]
     },
     "metadata": {},
     "output_type": "display_data"
    }
   ],
   "source": [
    "eq_M_r = sp.Eq(M_r, F_c1 * z_1)\n",
    "eq_M_r_num = num_eq(eq_M_r)\n",
    "\n",
    "\n",
    "display(eq_M_r, eq_M_r_num.evalf(3))"
   ]
  },
  {
   "cell_type": "markdown",
   "metadata": {},
   "source": [
    "Aus dem Rissmoment folgt die Krümmung beim Reissen:"
   ]
  },
  {
   "cell_type": "code",
   "execution_count": 16,
   "metadata": {},
   "outputs": [
    {
     "data": {
      "text/latex": [
       "\\begin{equation}\\chi_{r} = \\frac{M_{r}}{EI^{I}}\\end{equation}"
      ],
      "text/plain": [
       "       Mᵣ \n",
       "χᵣ = ─────\n",
       "     EI__I"
      ]
     },
     "metadata": {},
     "output_type": "display_data"
    },
    {
     "data": {
      "text/latex": [
       "\\begin{equation}\\chi_{r} = \\frac{0.0008}{\\text{m}}\\end{equation}"
      ],
      "text/plain": [
       "     0.0008\n",
       "χᵣ = ──────\n",
       "     meter "
      ]
     },
     "metadata": {},
     "output_type": "display_data"
    }
   ],
   "source": [
    "eq_chi_r = sp.Eq(chi_r, M_r / (EI_I))\n",
    "eq_chi_r_num = unit.convert_to(num_eq(eq_chi_r), unit.m)\n",
    "\n",
    "\n",
    "display(eq_chi_r,eq_chi_r_num.evalf(3))"
   ]
  },
  {
   "cell_type": "markdown",
   "metadata": {},
   "source": [
    "#### Gerissen Elastisch - Zustand 2\n",
    "\n",
    "Der Querschnitt nach dem Reissen ist in @fig-qs3 dargestellt. Der Betonstahl hat die Fliessgrenze noch nicht erreicht. Der Beton die Druckfestigkeit ebenfalls nicht.\n",
    "\n",
    "![Querschnittsanalyse nach dem Reissen des Betons](../images/QS_analyse_3.svg){#fig-qs3}\n",
    "\n",
    "Dabei beträgt die statische Höhe:"
   ]
  },
  {
   "cell_type": "code",
   "execution_count": 17,
   "metadata": {},
   "outputs": [
    {
     "data": {
      "text/latex": [
       "\\begin{equation}d = - \\frac{3 \\oslash_{s}}{2} - c_{nom} + h\\end{equation}"
      ],
      "text/plain": [
       "      3⋅\\oslashₛ           \n",
       "d = - ────────── - cₙₒₘ + h\n",
       "          2                "
      ]
     },
     "metadata": {},
     "output_type": "display_data"
    },
    {
     "data": {
      "text/latex": [
       "\\begin{equation}d = 162.0 \\text{mm}\\end{equation}"
      ],
      "text/plain": [
       "d = 162.0⋅millimeter"
      ]
     },
     "metadata": {},
     "output_type": "display_data"
    }
   ],
   "source": [
    "eq_d = sp.Eq(d,h - c_nom - sp.Rational(1.5) * diam_s)\n",
    "eq_d_num = num_eq(eq_d)\n",
    "\n",
    "display(eq_d, eq_d_num)"
   ]
  },
  {
   "cell_type": "markdown",
   "metadata": {},
   "source": [
    "Nachfolgend werden bekannte Beziehungen dargestellt. Mittels Gleichgewicht der Kräfte lässt sich die Betondruckzonenhöhe und folglich die gerissene Biegesteifigkeit herleiten.\n",
    "\n",
    "Die Betonstahlzugkraft beträgt:\n"
   ]
  },
  {
   "cell_type": "code",
   "execution_count": 18,
   "metadata": {},
   "outputs": [
    {
     "data": {
      "text/latex": [
       "\\begin{equation}F_{z,2} = A_{s} \\sigma_{s,2}\\end{equation}"
      ],
      "text/plain": [
       "F_z,2 = Aₛ⋅σ_s,2"
      ]
     },
     "metadata": {},
     "output_type": "display_data"
    }
   ],
   "source": [
    "eq_F_z2 = sp.Eq(F_z2, sigma_s2*A_s)\n",
    "\n",
    "Eq_list.append(eq_F_z2)\n",
    "\n",
    "display(eq_F_z2)\n"
   ]
  },
  {
   "cell_type": "markdown",
   "metadata": {},
   "source": [
    "Die Betonstahlspannung für linear elastisches Verhalten:"
   ]
  },
  {
   "cell_type": "code",
   "execution_count": 19,
   "metadata": {},
   "outputs": [
    {
     "data": {
      "text/latex": [
       "\\begin{equation}\\sigma_{s,2} = E_{s} \\varepsilon_{s,2}\\end{equation}"
      ],
      "text/plain": [
       "σ_s,2 = Eₛ⋅varepsilon_s,2"
      ]
     },
     "execution_count": 19,
     "metadata": {},
     "output_type": "execute_result"
    }
   ],
   "source": [
    "eq_sigma_s2 = sp.Eq(sigma_s2, epsilon_s2 * E_s)\n",
    "Eq_list.append(eq_sigma_s2)\n",
    "eq_sigma_s2"
   ]
  },
  {
   "cell_type": "markdown",
   "metadata": {},
   "source": [
    "Die Betondruckkraft anhand des dreieckigen Verlaufs in @fig-qs3:\n"
   ]
  },
  {
   "cell_type": "code",
   "execution_count": 20,
   "metadata": {},
   "outputs": [
    {
     "data": {
      "text/latex": [
       "\\begin{equation}F_{c,2} = \\frac{b \\sigma_{c inf,2} x_{,2}}{2}\\end{equation}"
      ],
      "text/plain": [
       "        b⋅σ_c_inf,2⋅x_,2\n",
       "F_c,2 = ────────────────\n",
       "               2        "
      ]
     },
     "execution_count": 20,
     "metadata": {},
     "output_type": "execute_result"
    }
   ],
   "source": [
    "eq_F_c2 = sp.Eq(F_c2, sigma_c_inf_2 * b * x_2 /2)\n",
    "Eq_list.append(eq_F_c2)\n",
    "eq_F_c2\n"
   ]
  },
  {
   "cell_type": "markdown",
   "metadata": {},
   "source": [
    "Die Betonspannung ebenfalls bestimmt durch ein linear elastisches Verhalten:"
   ]
  },
  {
   "cell_type": "code",
   "execution_count": 21,
   "metadata": {},
   "outputs": [
    {
     "data": {
      "text/latex": [
       "\\begin{equation}\\sigma_{c inf,2} = E_{c} \\varepsilon_{c,2}\\end{equation}"
      ],
      "text/plain": [
       "σ_c_inf,2 = E_c⋅varepsilon_c,2"
      ]
     },
     "execution_count": 21,
     "metadata": {},
     "output_type": "execute_result"
    }
   ],
   "source": [
    "eq_sigma_c_inf2 = sp.Eq(sigma_c_inf_2, epsilon_c2* E_c)\n",
    "Eq_list.append(eq_sigma_c_inf2)\n",
    "eq_sigma_c_inf2"
   ]
  },
  {
   "cell_type": "markdown",
   "metadata": {},
   "source": [
    "Die Betondehnung anhand des Dehnungsverlaufs in @fig-qs3:"
   ]
  },
  {
   "cell_type": "code",
   "execution_count": 22,
   "metadata": {},
   "outputs": [
    {
     "data": {
      "text/latex": [
       "\\begin{equation}\\varepsilon_{c,2} = \\frac{\\varepsilon_{s,2} x_{,2}}{d - x_{,2}}\\end{equation}"
      ],
      "text/plain": [
       "                 varepsilon_s,2⋅x_,2\n",
       "varepsilon_c,2 = ───────────────────\n",
       "                       d - x_,2     "
      ]
     },
     "execution_count": 22,
     "metadata": {},
     "output_type": "execute_result"
    }
   ],
   "source": [
    "eq_epsilon_c2 = sp.Eq(epsilon_c2, epsilon_s2 /(d-x_2) * x_2)\n",
    "Eq_list.append(eq_epsilon_c2)\n",
    "eq_epsilon_c2"
   ]
  },
  {
   "cell_type": "markdown",
   "metadata": {},
   "source": [
    "Abschliessend sind die Kräfte ins Gleichgewicht zu setzen:"
   ]
  },
  {
   "cell_type": "code",
   "execution_count": 23,
   "metadata": {},
   "outputs": [
    {
     "data": {
      "text/latex": [
       "\\begin{equation}F_{c,2} = F_{z,2}\\end{equation}"
      ],
      "text/plain": [
       "F_c,2 = F_z,2"
      ]
     },
     "execution_count": 23,
     "metadata": {},
     "output_type": "execute_result"
    }
   ],
   "source": [
    "eq_ggw_1 = sp.Eq(F_c2, F_z2)\n",
    "Eq_list.append(eq_ggw_1)\n",
    "eq_ggw_1"
   ]
  },
  {
   "cell_type": "markdown",
   "metadata": {},
   "source": [
    "Einsetzen der bestimmten Gleichungen in die Gleichgewichtsbeziehung:"
   ]
  },
  {
   "cell_type": "code",
   "execution_count": 24,
   "metadata": {},
   "outputs": [
    {
     "data": {
      "text/latex": [
       "\\begin{equation}n = \\frac{E_{s}}{E_{c}}\\end{equation}"
      ],
      "text/plain": [
       "     Eₛ\n",
       "n = ───\n",
       "    E_c"
      ]
     },
     "metadata": {},
     "output_type": "display_data"
    },
    {
     "data": {
      "text/latex": [
       "\\begin{equation}\\rho = \\frac{A_{s}}{b d}\\end{equation}"
      ],
      "text/plain": [
       "     Aₛ\n",
       "ρ = ───\n",
       "    b⋅d"
      ]
     },
     "metadata": {},
     "output_type": "display_data"
    }
   ],
   "source": [
    "eq_rho = sp.Eq(rho, A_s/(b*d))\n",
    "Eq_list.append(eq_rho)\n",
    "display(eq_n, eq_rho)"
   ]
  },
  {
   "cell_type": "markdown",
   "metadata": {},
   "source": [
    "Dabei wird mit $n$ und $\\rho$ substituiert um die Gleichung zu vereinfachen."
   ]
  },
  {
   "cell_type": "code",
   "execution_count": 25,
   "metadata": {},
   "outputs": [
    {
     "data": {
      "text/latex": [
       "\\begin{equation}E_{s} b d \\rho \\varepsilon_{s,2} = \\frac{E_{s} b \\varepsilon_{s,2} x_{,2}^{2}}{2 n \\left(d - x_{,2}\\right)}\\end{equation}"
      ],
      "text/plain": [
       "                                                  2\n",
       "                          Eₛ⋅b⋅varepsilon_s,2⋅x_,2 \n",
       "Eₛ⋅b⋅d⋅ρ⋅varepsilon_s,2 = ─────────────────────────\n",
       "                                2⋅n⋅(d - x_,2)     "
      ]
     },
     "execution_count": 25,
     "metadata": {},
     "output_type": "execute_result"
    }
   ],
   "source": [
    "eq_ggw_1_subs = eq_subs(eq_F_c2, eq_sigma_c_inf2, eq_ggw_1, eq_epsilon_c2, eq_F_z2).subs(E_c, E_s/n).subs(sigma_s2, epsilon_s2 * E_s).subs(A_s, rho*b*d)\n",
    "eq_ggw_1_subs"
   ]
  },
  {
   "cell_type": "markdown",
   "metadata": {},
   "source": [
    "Dies ist nach $x$ aufzulösen:"
   ]
  },
  {
   "cell_type": "code",
   "execution_count": 26,
   "metadata": {},
   "outputs": [
    {
     "data": {
      "text/latex": [
       "\\begin{equation}x_{,2} = d \\left(- n \\rho + \\sqrt{n \\rho \\left(n \\rho + 2\\right)}\\right)\\end{equation}"
      ],
      "text/plain": [
       "         ⎛         _______________⎞\n",
       "x_,2 = d⋅⎝-n⋅ρ + ╲╱ n⋅ρ⋅(n⋅ρ + 2) ⎠"
      ]
     },
     "metadata": {},
     "output_type": "display_data"
    },
    {
     "data": {
      "text/latex": [
       "\\begin{equation}x_{,2} = 61.4 \\text{mm}\\end{equation}"
      ],
      "text/plain": [
       "x_,2 = 61.4⋅millimeter"
      ]
     },
     "metadata": {},
     "output_type": "display_data"
    }
   ],
   "source": [
    "eq_x_2 = sp.Eq(x_2,sp.solve(eq_ggw_1_subs, x_2)[0])\n",
    "eq_x_2_num = unit.convert_to(num_eq(eq_x_2),unit.mm)\n",
    "Eq_list.append(eq_x_2)\n",
    "display(eq_x_2, eq_x_2_num.evalf(3))"
   ]
  },
  {
   "cell_type": "markdown",
   "metadata": {},
   "source": [
    "Zur Bestimmung der Krümmung ist die Betonstahldehnung erforderlich. Diese bedingt ein einwirkendes Moment. Dazu wird das bereits bekannte Rissmoment angesetzt."
   ]
  },
  {
   "cell_type": "code",
   "execution_count": 27,
   "metadata": {},
   "outputs": [
    {
     "data": {
      "text/latex": [
       "\\begin{equation}M_{2} = F_{z,2} \\left(d - \\frac{x_{,2}}{3}\\right)\\end{equation}"
      ],
      "text/plain": [
       "           ⎛    x_,2⎞\n",
       "M₂ = F_z,2⋅⎜d - ────⎟\n",
       "           ⎝     3  ⎠"
      ]
     },
     "metadata": {},
     "output_type": "display_data"
    },
    {
     "data": {
      "text/latex": [
       "\\begin{equation}M_{2} = M_{r}\\end{equation}"
      ],
      "text/plain": [
       "M₂ = Mᵣ"
      ]
     },
     "metadata": {},
     "output_type": "display_data"
    },
    {
     "data": {
      "text/latex": [
       "\\begin{equation}M_{r} = A_{s} E_{s} \\varepsilon_{s,2} \\left(d - \\frac{x_{,2}}{3}\\right)\\end{equation}"
      ],
      "text/plain": [
       "                          ⎛    x_,2⎞\n",
       "Mᵣ = Aₛ⋅Eₛ⋅varepsilon_s,2⋅⎜d - ────⎟\n",
       "                          ⎝     3  ⎠"
      ]
     },
     "metadata": {},
     "output_type": "display_data"
    }
   ],
   "source": [
    "eq_M_2 = sp.Eq(M_2, F_z2 * (d-x_2/3))\n",
    "eq_M_2_M_r = sp.Eq(M_2, M_r)\n",
    "Eq_list.append(eq_M_2)\n",
    "Eq_list.append(eq_M_2_M_r)\n",
    "\n",
    "display(eq_M_2,eq_M_2_M_r, eq_subs(eq_M_2,eq_M_2_M_r, eq_F_z2, eq_sigma_s2))"
   ]
  },
  {
   "cell_type": "markdown",
   "metadata": {},
   "source": [
    "Daraus resultiert die Betonstahldehnung:"
   ]
  },
  {
   "cell_type": "code",
   "execution_count": 28,
   "metadata": {},
   "outputs": [
    {
     "data": {
      "text/latex": [
       "\\begin{equation}\\varepsilon_{s,2} = 0.000217\\end{equation}"
      ],
      "text/plain": [
       "varepsilon_s,2 = 0.000217"
      ]
     },
     "metadata": {},
     "output_type": "display_data"
    }
   ],
   "source": [
    "eq_epsilon_s2 = sp.Eq(epsilon_s2,sp.solve(eq_subs(eq_M_2, eq_x_2, eq_sigma_s2, eq_F_z2, eq_M_2_M_r), epsilon_s2)[0])\n",
    "\n",
    "eq_epsilon_s2_num = num_eq(eq_epsilon_s2)\n",
    "Eq_list.append(eq_epsilon_s2_num)\n",
    "\n",
    "\n",
    "display(eq_epsilon_s2_num.evalf(3))"
   ]
  },
  {
   "cell_type": "markdown",
   "metadata": {},
   "source": [
    "Die Krümmung kann anhand des Dehnungsverlaufs in @fig-qs3 bestimmt werden:"
   ]
  },
  {
   "cell_type": "code",
   "execution_count": 29,
   "metadata": {},
   "outputs": [
    {
     "data": {
      "text/latex": [
       "\\begin{equation}\\chi^{II} = \\frac{\\varepsilon_{s,2}}{d - x_{,2}}\\end{equation}"
      ],
      "text/plain": [
       "             varepsilon_s,2\n",
       "\\chi__{II} = ──────────────\n",
       "                d - x_,2   "
      ]
     },
     "metadata": {},
     "output_type": "display_data"
    },
    {
     "data": {
      "text/latex": [
       "\\begin{equation}\\chi^{II} = \\frac{0.00216}{\\text{m}}\\end{equation}"
      ],
      "text/plain": [
       "             0.00216\n",
       "\\chi__{II} = ───────\n",
       "              meter "
      ]
     },
     "metadata": {},
     "output_type": "display_data"
    }
   ],
   "source": [
    "eq_chi_II = sp.Eq(chi_II, epsilon_s2/(d-x_2))\n",
    "eq_chi_II_num = unit.convert_to(eq_subs(eq_chi_II, eq_x_2_num, eq_d_num, eq_epsilon_s2_num).simplify(), unit.m)\n",
    "Eq_list.append(eq_chi_II)\n",
    "\n",
    "display(eq_chi_II,eq_chi_II_num.evalf(3))\n"
   ]
  },
  {
   "cell_type": "markdown",
   "metadata": {},
   "source": [
    "Abschliessend folgt die gerissene Biegesteifigkeit zu:"
   ]
  },
  {
   "cell_type": "code",
   "execution_count": 30,
   "metadata": {},
   "outputs": [
    {
     "data": {
      "text/latex": [
       "\\begin{equation}EI^{II} = \\frac{M_{2}}{\\chi^{II}}\\end{equation}"
      ],
      "text/plain": [
       "               M₂    \n",
       "EI__{II} = ──────────\n",
       "           \\chi__{II}"
      ]
     },
     "metadata": {},
     "output_type": "display_data"
    },
    {
     "data": {
      "text/latex": [
       "\\begin{equation}EI^{II} = 8.05 \\cdot 10^{6} \\text{m}^{2} \\text{N}\\end{equation}"
      ],
      "text/plain": [
       "                        2       \n",
       "EI__{II} = 8.05e+6⋅meter ⋅newton"
      ]
     },
     "metadata": {},
     "output_type": "display_data"
    }
   ],
   "source": [
    "\n",
    "eq_EI_II = sp.Eq(EI_II, M_2 / chi_II)\n",
    "eq_EI_II_num = eq_subs(eq_EI_II, *Eq_list).subs(params).simplify()\n",
    "\n",
    "display(eq_EI_II,eq_EI_II_num.evalf(3))\n",
    "\n"
   ]
  },
  {
   "cell_type": "markdown",
   "metadata": {},
   "source": [
    "#### Fliessen der Bewehrung - Zustand 3\n",
    "\n",
    "Die Biegesteifigkeit $EI^{II}$ gilt bis die Bewehrung fliesst oder der Beton beginnt zu plastifizieren. \n",
    "\n",
    "![Querschnittsanalyse für reine Biegung beim Fliessen der Bewehrung](../images/QS_analyse_4.svg){#fig-qs4}"
   ]
  },
  {
   "cell_type": "markdown",
   "metadata": {},
   "source": [
    "Dazu gilt es zuerst Gleichgewicht der Kräfte zu formulieren:"
   ]
  },
  {
   "cell_type": "code",
   "execution_count": 31,
   "metadata": {},
   "outputs": [
    {
     "data": {
      "text/latex": [
       "\\begin{equation}A_{s} f_{sy} = \\frac{b f_{c} x_{,3}}{2}\\end{equation}"
      ],
      "text/plain": [
       "          b⋅f_c⋅x_,3\n",
       "Aₛ⋅f_sy = ──────────\n",
       "              2     "
      ]
     },
     "execution_count": 31,
     "metadata": {},
     "output_type": "execute_result"
    }
   ],
   "source": [
    "eq_ggw_fliessen = sp.Eq(A_s * f_sy, x_3 * b * f_c/2)\n",
    "eq_ggw_fliessen"
   ]
  },
  {
   "cell_type": "markdown",
   "metadata": {},
   "source": [
    "Aufgelöst nach der Druckzonenhöhe:"
   ]
  },
  {
   "cell_type": "code",
   "execution_count": 32,
   "metadata": {},
   "outputs": [
    {
     "data": {
      "text/latex": [
       "\\begin{equation}x_{,3} = \\frac{2 A_{s} f_{sy}}{b f_{c}}\\end{equation}"
      ],
      "text/plain": [
       "       2⋅Aₛ⋅f_sy\n",
       "x_,3 = ─────────\n",
       "         b⋅f_c  "
      ]
     },
     "metadata": {},
     "output_type": "display_data"
    },
    {
     "data": {
      "text/latex": [
       "\\begin{equation}x_{,3} = 55.8 \\text{mm}\\end{equation}"
      ],
      "text/plain": [
       "x_,3 = 55.8⋅millimeter"
      ]
     },
     "metadata": {},
     "output_type": "display_data"
    }
   ],
   "source": [
    "eq_x_3 = sp.Eq(x_3,sp.solve(eq_ggw_fliessen, x_3)[0])\n",
    "Eq_list.append(eq_x_3)\n",
    "\n",
    "eq_x_3_num = unit.convert_to(num_eq(eq_x_3), unit.mm)\n",
    "\n",
    "display(eq_x_3, eq_x_3_num.evalf(3))"
   ]
  },
  {
   "cell_type": "markdown",
   "metadata": {},
   "source": [
    "Daraus lässt sich das Fliessmoment bestimmen, welches den Endpunkt im Momenten-Krümmungsdiagramm für den Zustand 2 definiert:"
   ]
  },
  {
   "cell_type": "code",
   "execution_count": 33,
   "metadata": {},
   "outputs": [
    {
     "data": {
      "text/latex": [
       "\\begin{equation}M_{y} = A_{s} f_{sy} \\left(d - \\frac{x_{,3}}{3}\\right)\\end{equation}"
      ],
      "text/plain": [
       "              ⎛    x_,3⎞\n",
       "M_y = Aₛ⋅f_sy⋅⎜d - ────⎟\n",
       "              ⎝     3  ⎠"
      ]
     },
     "metadata": {},
     "output_type": "display_data"
    },
    {
     "data": {
      "text/latex": [
       "\\begin{equation}M_{y} = 2.03 \\cdot 10^{5} \\text{m} \\text{N}\\end{equation}"
      ],
      "text/plain": [
       "M_y = 2.03e+5⋅meter⋅newton"
      ]
     },
     "metadata": {},
     "output_type": "display_data"
    }
   ],
   "source": [
    "eq_M_y = sp.Eq(M_y, A_s * f_sy * (d-x_3/3))\n",
    "eq_M_y_num = num_eq(eq_M_y)\n",
    "display(eq_M_y, eq_M_y_num.evalf(3))"
   ]
  },
  {
   "cell_type": "markdown",
   "metadata": {},
   "source": [
    "Die Fliessdehnung des Betonstahls entspricht:"
   ]
  },
  {
   "cell_type": "code",
   "execution_count": 34,
   "metadata": {},
   "outputs": [
    {
     "data": {
      "text/latex": [
       "\\begin{equation}\\varepsilon_{sy} = \\frac{f_{sy}}{E_{s}}\\end{equation}"
      ],
      "text/plain": [
       "                f_sy\n",
       "varepsilon_sy = ────\n",
       "                 Eₛ "
      ]
     },
     "execution_count": 34,
     "metadata": {},
     "output_type": "execute_result"
    }
   ],
   "source": [
    "eq_epsilon_sy = sp.Eq(epsilon_sy, f_sy / E_s)\n",
    "\n",
    "Eq_list.append(eq_epsilon_sy)\n",
    "\n",
    "eq_epsilon_sy"
   ]
  },
  {
   "cell_type": "markdown",
   "metadata": {},
   "source": [
    "Abschliessend die Krümmung für den Endpunkt des Zustands 2:"
   ]
  },
  {
   "cell_type": "code",
   "execution_count": 35,
   "metadata": {},
   "outputs": [
    {
     "data": {
      "text/latex": [
       "\\begin{equation}\\chi_{y} = \\frac{\\varepsilon_{sy}}{d - x_{,3}}\\end{equation}"
      ],
      "text/plain": [
       "         varepsilon_sy\n",
       "\\chi_y = ─────────────\n",
       "            d - x_,3  "
      ]
     },
     "metadata": {},
     "output_type": "display_data"
    },
    {
     "data": {
      "text/latex": [
       "\\begin{equation}\\chi_{y} = \\frac{0.0235}{\\text{m}}\\end{equation}"
      ],
      "text/plain": [
       "         0.0235\n",
       "\\chi_y = ──────\n",
       "         meter "
      ]
     },
     "metadata": {},
     "output_type": "display_data"
    }
   ],
   "source": [
    "eq_chi_y = sp.Eq(chi_y, epsilon_sy / (d-x_3))\n",
    "\n",
    "eq_chi_y_num = num_eq(eq_chi_y)\n",
    "\n",
    "display(eq_chi_y, eq_chi_y_num.evalf(3))"
   ]
  },
  {
   "cell_type": "markdown",
   "metadata": {},
   "source": [
    "#### Maximaler Biegewiderstand - Zustand 4\n",
    "\n",
    "Abschliessen kann der maximale Biegewiderstand durch die plastifizierung der Betondruckzone bestimmt werden. Eine Verfestigung des Betonstahls wird nicht berücksichtigt. Sowie gilt es zu kontrollieren, ob die Betonstahldehnung unterhalb der Bruchdehnung liegt.\n",
    "\n",
    "![Querschnittsanalyse für reine Biegung beim Fliessen der Bewehrung und plastifizierter Betondruckzone](../images/QS_analyse_5.svg){#fig-qs5}\n",
    "\n",
    "Vereinfacht werden die Spannungen in der Druckzone konstant verteilt betrachtet. Dazu wird die Druckzonenhöhe abgemindert um Faktor 0.85."
   ]
  },
  {
   "cell_type": "markdown",
   "metadata": {},
   "source": [
    "Das Gleichgewicht der Kräfte führt zu:"
   ]
  },
  {
   "cell_type": "code",
   "execution_count": 36,
   "metadata": {},
   "outputs": [
    {
     "data": {
      "text/latex": [
       "\\begin{equation}A_{s} f_{sy} = 0.85 b f_{c} x_{4}\\end{equation}"
      ],
      "text/plain": [
       "Aₛ⋅f_sy = 0.85⋅b⋅f_c⋅x₄"
      ]
     },
     "metadata": {},
     "output_type": "display_data"
    }
   ],
   "source": [
    "eq_ggw_R = sp.Eq(A_s * f_sy, sp.Mul(0.85,x_4 * b * f_c, evaluate=False))\n",
    "\n",
    "display(eq_ggw_R)"
   ]
  },
  {
   "cell_type": "markdown",
   "metadata": {},
   "source": [
    "Die Druckzonenhöhe folgt zu:"
   ]
  },
  {
   "cell_type": "code",
   "execution_count": 37,
   "metadata": {},
   "outputs": [
    {
     "data": {
      "text/latex": [
       "\\begin{equation}x_{4} = 32.8 \\text{mm}\\end{equation}"
      ],
      "text/plain": [
       "x₄ = 32.8⋅millimeter"
      ]
     },
     "metadata": {},
     "output_type": "display_data"
    }
   ],
   "source": [
    "eq_x_4 = sp.Eq(x_4, sp.solve(eq_ggw_R, x_4)[0])\n",
    "eq_x_4_num = unit.convert_to(num_eq(eq_x_4),unit.mm)\n",
    "display(eq_x_4_num.evalf(3))"
   ]
  },
  {
   "cell_type": "code",
   "execution_count": 38,
   "metadata": {},
   "outputs": [
    {
     "data": {
      "text/latex": [
       "\\begin{equation}M_{R} = A_{s} f_{sy} \\left(d - 0.425 x_{4}\\right)\\end{equation}"
      ],
      "text/plain": [
       "M_R = Aₛ⋅f_sy⋅(d - 0.425⋅x₄)"
      ]
     },
     "metadata": {},
     "output_type": "display_data"
    },
    {
     "data": {
      "text/latex": [
       "\\begin{equation}M_{R} = 2.09 \\cdot 10^{5} \\text{m} \\text{N}\\end{equation}"
      ],
      "text/plain": [
       "M_R = 2.09e+5⋅meter⋅newton"
      ]
     },
     "metadata": {},
     "output_type": "display_data"
    }
   ],
   "source": [
    "eq_M_R = sp.Eq(M_R, A_s * f_sy * (d-0.85*x_4/2))\n",
    "eq_M_R_num = num_eq(eq_M_R)\n",
    "\n",
    "display(eq_M_R, eq_M_R_num.evalf(3))"
   ]
  },
  {
   "cell_type": "markdown",
   "metadata": {},
   "source": [
    "Die Krümmung lässt sich anhand der Betonstauchung ermitteln:"
   ]
  },
  {
   "cell_type": "code",
   "execution_count": 39,
   "metadata": {},
   "outputs": [
    {
     "data": {
      "text/latex": [
       "\\begin{equation}\\chi_{u} = \\frac{\\varepsilon_{cw}}{x_{4}}\\end{equation}"
      ],
      "text/plain": [
       "     varepsilon_cw\n",
       "χᵤ = ─────────────\n",
       "           x₄     "
      ]
     },
     "metadata": {},
     "output_type": "display_data"
    },
    {
     "data": {
      "text/latex": [
       "\\begin{equation}\\chi_{u} = \\frac{0.07}{\\text{m}}\\end{equation}"
      ],
      "text/plain": [
       "      0.07\n",
       "χᵤ = ─────\n",
       "     meter"
      ]
     },
     "metadata": {},
     "output_type": "display_data"
    }
   ],
   "source": [
    "eq_chi_u = sp.Eq(chi_u, epsilon_cw / x_4)\n",
    "eq_chi_u_num = num_eq(eq_chi_u)\n",
    "\n",
    "display(eq_chi_u, eq_chi_u_num.evalf(3))"
   ]
  },
  {
   "cell_type": "markdown",
   "metadata": {},
   "source": [
    "Die Betonstahldehnung darf die Bruchdehnung nicht überschreiten:"
   ]
  },
  {
   "cell_type": "code",
   "execution_count": 40,
   "metadata": {},
   "outputs": [
    {
     "data": {
      "text/latex": [
       "\\begin{equation}\\varepsilon_{su} = \\frac{\\varepsilon_{cw} \\left(d - x_{4}\\right)}{x_{4}}\\end{equation}"
      ],
      "text/plain": [
       "               varepsilon_cw⋅(d - x₄)\n",
       "varepsilonₛᵤ = ──────────────────────\n",
       "                         x₄          "
      ]
     },
     "metadata": {},
     "output_type": "display_data"
    },
    {
     "data": {
      "text/latex": [
       "\\begin{equation}\\varepsilon_{su} = 0.00904\\end{equation}"
      ],
      "text/plain": [
       "varepsilonₛᵤ = 0.00904"
      ]
     },
     "metadata": {},
     "output_type": "display_data"
    }
   ],
   "source": [
    "eq_epsilon_su = sp.Eq(epsilon_su, epsilon_cw / x_4 * (d-x_4))\n",
    "eq_epsilon_su_num = num_eq(eq_epsilon_su)\n",
    "\n",
    "display(eq_epsilon_su, eq_epsilon_su_num.evalf(3))"
   ]
  },
  {
   "cell_type": "markdown",
   "metadata": {},
   "source": [
    "Die Bruchdehnung wird nicht überschritten. Der Querschnitt versagt im Druckbereich:"
   ]
  },
  {
   "cell_type": "code",
   "execution_count": 41,
   "metadata": {},
   "outputs": [
    {
     "data": {
      "text/latex": [
       "\\begin{equation}\\varepsilon_{sw} = 0.1117\\end{equation}"
      ],
      "text/plain": [
       "varepsilon_sw = 0.1117"
      ]
     },
     "execution_count": 41,
     "metadata": {},
     "output_type": "execute_result"
    }
   ],
   "source": [
    "eq_epsilon_sw = sp.Eq(epsilon_sw,params[epsilon_sw])\n",
    "eq_epsilon_sw"
   ]
  },
  {
   "cell_type": "markdown",
   "metadata": {},
   "source": [
    "Die Biegesteifigkeit im Bereich 3 beträgt:"
   ]
  },
  {
   "cell_type": "code",
   "execution_count": 42,
   "metadata": {},
   "outputs": [
    {
     "data": {
      "text/latex": [
       "\\begin{equation}EI^{III} = \\frac{M_{R}}{\\chi_{u}}\\end{equation}"
      ],
      "text/plain": [
       "            M_R\n",
       "EI__{III} = ───\n",
       "             χᵤ"
      ]
     },
     "metadata": {},
     "output_type": "display_data"
    },
    {
     "data": {
      "text/latex": [
       "\\begin{equation}EI^{III} = 2.99 \\cdot 10^{6} \\text{m}^{2} \\text{N}\\end{equation}"
      ],
      "text/plain": [
       "                         2       \n",
       "EI__{III} = 2.99e+6⋅meter ⋅newton"
      ]
     },
     "metadata": {},
     "output_type": "display_data"
    }
   ],
   "source": [
    "eq_EI_III = sp.Eq(EI_III, (M_R)/(chi_u))\n",
    "eq_EI_III_num = num_eq(eq_EI_III)\n",
    "display(eq_EI_III, eq_EI_III_num.evalf(3))"
   ]
  },
  {
   "cell_type": "markdown",
   "metadata": {},
   "source": [
    "Im Bereich drei werden die zwei definierten Punkte $M_y, \\chi_y$ sowie $M_R, \\chi_u$ verbunden."
   ]
  },
  {
   "cell_type": "code",
   "execution_count": 43,
   "metadata": {},
   "outputs": [
    {
     "data": {
      "text/latex": [
       "\\begin{equation}\\chi{\\left(M \\right)} = \\frac{M \\left(- \\frac{M_{y}}{EI^{II}} + \\frac{M_{R}}{EI^{III}}\\right)}{M_{R} - M_{y}} + \\frac{\\frac{M_{R} M_{y}}{EI^{II}} - \\frac{M_{R} M_{y}}{EI^{III}}}{M_{R} - M_{y}}\\end{equation}"
      ],
      "text/plain": [
       "         ⎛    M_y         M_R   ⎞   M_R⋅M_y     M_R⋅M_y \n",
       "       M⋅⎜- ──────── + ─────────⎟   ──────── - ─────────\n",
       "         ⎝  EI__{II}   EI__{III}⎠   EI__{II}   EI__{III}\n",
       "χ(M) = ────────────────────────── + ────────────────────\n",
       "               M_R - M_y                 M_R - M_y      "
      ]
     },
     "execution_count": 43,
     "metadata": {},
     "output_type": "execute_result"
    }
   ],
   "source": [
    "eq_1 = sp.Eq(chi_y, r + m*M_y)\n",
    "eq_2 = sp.Eq(chi_u, r + m*M_R)\n",
    "\n",
    "\n",
    "eq_solve = sp.solve([eq_1,eq_2],[r,m])\n",
    "\n",
    "m_solve = eq_solve[m].subs(chi_u, M_R/EI_III).subs(chi_y,M_y / EI_II)\n",
    "r_solve = eq_solve[r].subs(chi_u, M_R/EI_III).subs(chi_y,M_y / EI_II)\n",
    "\n",
    "chi_M_linear = sp.Eq(chi_M,r_solve + m_solve * M)\n",
    "chi_M_linear"
   ]
  },
  {
   "cell_type": "markdown",
   "metadata": {},
   "source": [
    "#### Momenten-Krümmungsdiagramm"
   ]
  },
  {
   "cell_type": "markdown",
   "metadata": {},
   "source": [
    "Abschliessend lässt sich daraus die Beziehung zwischen Moment und Krümmung darstellen:"
   ]
  },
  {
   "cell_type": "code",
   "execution_count": 44,
   "metadata": {},
   "outputs": [
    {
     "data": {
      "text/latex": [
       "\\begin{equation}\\chi{\\left(M \\right)} = \\begin{cases} 0 & \\text{for}\\: M < 0 \\\\\\frac{M}{EI^{I}} & \\text{for}\\: M < M_{r} \\\\\\frac{M}{EI^{II}} + \\frac{M_{r}}{EI^{I}} & \\text{for}\\: M < M_{y} \\\\\\frac{M \\left(- \\frac{M_{y}}{EI^{II}} + \\frac{M_{R}}{EI^{III}}\\right)}{M_{R} - M_{y}} + \\frac{\\frac{M_{R} M_{y}}{EI^{II}} - \\frac{M_{R} M_{y}}{EI^{III}}}{M_{R} - M_{y}} & \\text{for}\\: M < M_{R} \\end{cases}\\end{equation}"
      ],
      "text/plain": [
       "       ⎧                        0                           for M < 0 \n",
       "       ⎪                                                              \n",
       "       ⎪                        M                                     \n",
       "       ⎪                      ─────                        for M < Mᵣ \n",
       "       ⎪                      EI__I                                   \n",
       "       ⎪                                                              \n",
       "       ⎪                   M         Mᵣ                               \n",
       "χ(M) = ⎨                ──────── + ─────                   for M < M_y\n",
       "       ⎪                EI__{II}   EI__I                              \n",
       "       ⎪                                                              \n",
       "       ⎪  ⎛    M_y         M_R   ⎞   M_R⋅M_y     M_R⋅M_y              \n",
       "       ⎪M⋅⎜- ──────── + ─────────⎟   ──────── - ─────────             \n",
       "       ⎪  ⎝  EI__{II}   EI__{III}⎠   EI__{II}   EI__{III}             \n",
       "       ⎪────────────────────────── + ────────────────────  for M < M_R\n",
       "       ⎩        M_R - M_y                 M_R - M_y                   "
      ]
     },
     "metadata": {},
     "output_type": "display_data"
    }
   ],
   "source": [
    "eq_chi_M = sp.Eq(chi_M, sp.Piecewise((0,M<0),(M/ (EI_I), M < eq_M_r.lhs), (M_r/(EI_I) +M/(EI_II), M<M_y), (chi_M_linear.rhs , M<M_R)))\n",
    "\n",
    "display(eq_chi_M)"
   ]
  },
  {
   "cell_type": "code",
   "execution_count": 45,
   "metadata": {},
   "outputs": [],
   "source": [
    "M_chi_params = [\n",
    "                eq_EI_I_num.rhs,\n",
    "                eq_EI_II_num.rhs,\n",
    "                eq_EI_III_num.rhs,\n",
    "                eq_M_r_num.rhs,\n",
    "                eq_M_y_num.rhs,\n",
    "                eq_M_R_num.rhs\n",
    "                ]\n",
    "\n",
    "for param in enumerate(M_chi_params):\n",
    "    M_chi_params[param[0]] = np.float64(unit.convert_to(param[1],[unit.m, unit.N]).subs([(unit.m,1),(unit.N,1)]).subs(params_plot))\n"
   ]
  },
  {
   "cell_type": "code",
   "execution_count": 46,
   "metadata": {},
   "outputs": [
    {
     "data": {
      "image/svg+xml": [
       "<?xml version=\"1.0\" encoding=\"utf-8\" standalone=\"no\"?>\n",
       "<!DOCTYPE svg PUBLIC \"-//W3C//DTD SVG 1.1//EN\"\n",
       "  \"http://www.w3.org/Graphics/SVG/1.1/DTD/svg11.dtd\">\n",
       "<svg xmlns:xlink=\"http://www.w3.org/1999/xlink\" width=\"426.44318pt\" height=\"236.750845pt\" viewBox=\"0 0 426.44318 236.750845\" xmlns=\"http://www.w3.org/2000/svg\" version=\"1.1\">\n",
       " <metadata>\n",
       "  <rdf:RDF xmlns:dc=\"http://purl.org/dc/elements/1.1/\" xmlns:cc=\"http://creativecommons.org/ns#\" xmlns:rdf=\"http://www.w3.org/1999/02/22-rdf-syntax-ns#\">\n",
       "   <cc:Work>\n",
       "    <dc:type rdf:resource=\"http://purl.org/dc/dcmitype/StillImage\"/>\n",
       "    <dc:date>2023-09-29T14:54:50.007501</dc:date>\n",
       "    <dc:format>image/svg+xml</dc:format>\n",
       "    <dc:creator>\n",
       "     <cc:Agent>\n",
       "      <dc:title>Matplotlib v3.8.0, https://matplotlib.org/</dc:title>\n",
       "     </cc:Agent>\n",
       "    </dc:creator>\n",
       "   </cc:Work>\n",
       "  </rdf:RDF>\n",
       " </metadata>\n",
       " <defs>\n",
       "  <style type=\"text/css\">*{stroke-linejoin: round; stroke-linecap: butt}</style>\n",
       " </defs>\n",
       " <g id=\"figure_1\">\n",
       "  <g id=\"patch_1\">\n",
       "   <path d=\"M 0 236.750845 \n",
       "L 426.44318 236.750845 \n",
       "L 426.44318 -0 \n",
       "L 0 -0 \n",
       "z\n",
       "\" style=\"fill: #ffffff\"/>\n",
       "  </g>\n",
       "  <g id=\"axes_1\">\n",
       "   <g id=\"patch_2\">\n",
       "    <path d=\"M 56.54318 201.24 \n",
       "L 419.24318 201.24 \n",
       "L 419.24318 7.2 \n",
       "L 56.54318 7.2 \n",
       "z\n",
       "\" style=\"fill: #ffffff\"/>\n",
       "   </g>\n",
       "   <g id=\"matplotlib.axis_1\">\n",
       "    <g id=\"xtick_1\">\n",
       "     <g id=\"line2d_1\">\n",
       "      <path d=\"M 73.029543 201.24 \n",
       "L 73.029543 7.2 \n",
       "\" clip-path=\"url(#p5ed9982071)\" style=\"fill: none; stroke-dasharray: 0.3,0.495; stroke-dashoffset: 0; stroke: #000000; stroke-opacity: 0.5; stroke-width: 0.3\"/>\n",
       "     </g>\n",
       "     <g id=\"line2d_2\">\n",
       "      <defs>\n",
       "       <path id=\"mc3b31db66d\" d=\"M 0 0 \n",
       "L 0 -3.5 \n",
       "\" style=\"stroke: #000000; stroke-width: 0.8\"/>\n",
       "      </defs>\n",
       "      <g>\n",
       "       <use xlink:href=\"#mc3b31db66d\" x=\"73.029543\" y=\"201.24\" style=\"stroke: #000000; stroke-width: 0.8\"/>\n",
       "      </g>\n",
       "     </g>\n",
       "     <g id=\"text_1\">\n",
       "      <!-- $\\mathdefault{0.00}$ -->\n",
       "      <g transform=\"translate(64.173836 211.658498) scale(0.1 -0.1)\">\n",
       "       <defs>\n",
       "        <path id=\"CMR17-30\" d=\"M 2688 2038 \n",
       "C 2688 2430 2682 3099 2413 3613 \n",
       "C 2176 4063 1798 4224 1466 4224 \n",
       "C 1158 4224 768 4082 525 3620 \n",
       "C 269 3137 243 2539 243 2038 \n",
       "C 243 1671 250 1112 448 623 \n",
       "C 723 -39 1216 -128 1466 -128 \n",
       "C 1760 -128 2208 -7 2470 604 \n",
       "C 2662 1048 2688 1568 2688 2038 \n",
       "z\n",
       "M 1466 -26 \n",
       "C 1056 -26 813 328 723 816 \n",
       "C 653 1196 653 1749 653 2109 \n",
       "C 653 2604 653 3015 736 3407 \n",
       "C 858 3954 1216 4121 1466 4121 \n",
       "C 1728 4121 2067 3947 2189 3420 \n",
       "C 2272 3054 2278 2623 2278 2109 \n",
       "C 2278 1691 2278 1176 2202 797 \n",
       "C 2067 96 1690 -26 1466 -26 \n",
       "z\n",
       "\" transform=\"scale(0.015625)\"/>\n",
       "        <path id=\"CMMI12-3a\" d=\"M 1178 307 \n",
       "C 1178 492 1024 620 870 620 \n",
       "C 685 620 557 467 557 313 \n",
       "C 557 128 710 0 864 0 \n",
       "C 1050 0 1178 153 1178 307 \n",
       "z\n",
       "\" transform=\"scale(0.015625)\"/>\n",
       "       </defs>\n",
       "       <use xlink:href=\"#CMR17-30\" transform=\"scale(0.996264)\"/>\n",
       "       <use xlink:href=\"#CMMI12-3a\" transform=\"translate(45.690477 0) scale(0.996264)\"/>\n",
       "       <use xlink:href=\"#CMR17-30\" transform=\"translate(72.787654 0) scale(0.996264)\"/>\n",
       "       <use xlink:href=\"#CMR17-30\" transform=\"translate(118.478131 0) scale(0.996264)\"/>\n",
       "      </g>\n",
       "     </g>\n",
       "    </g>\n",
       "    <g id=\"xtick_2\">\n",
       "     <g id=\"line2d_3\">\n",
       "      <path d=\"M 120.213481 201.24 \n",
       "L 120.213481 7.2 \n",
       "\" clip-path=\"url(#p5ed9982071)\" style=\"fill: none; stroke-dasharray: 0.3,0.495; stroke-dashoffset: 0; stroke: #000000; stroke-opacity: 0.5; stroke-width: 0.3\"/>\n",
       "     </g>\n",
       "     <g id=\"line2d_4\">\n",
       "      <g>\n",
       "       <use xlink:href=\"#mc3b31db66d\" x=\"120.213481\" y=\"201.24\" style=\"stroke: #000000; stroke-width: 0.8\"/>\n",
       "      </g>\n",
       "     </g>\n",
       "     <g id=\"text_2\">\n",
       "      <!-- $\\mathdefault{0.01}$ -->\n",
       "      <g transform=\"translate(111.357774 211.658498) scale(0.1 -0.1)\">\n",
       "       <defs>\n",
       "        <path id=\"CMR17-31\" d=\"M 1702 4083 \n",
       "C 1702 4217 1696 4224 1606 4224 \n",
       "C 1357 3927 979 3833 621 3820 \n",
       "C 602 3820 570 3820 563 3808 \n",
       "C 557 3795 557 3782 557 3648 \n",
       "C 755 3648 1088 3686 1344 3839 \n",
       "L 1344 467 \n",
       "C 1344 243 1331 166 781 166 \n",
       "L 589 166 \n",
       "L 589 0 \n",
       "C 896 6 1216 12 1523 12 \n",
       "C 1830 12 2150 6 2458 0 \n",
       "L 2458 166 \n",
       "L 2266 166 \n",
       "C 1715 166 1702 236 1702 467 \n",
       "L 1702 4083 \n",
       "z\n",
       "\" transform=\"scale(0.015625)\"/>\n",
       "       </defs>\n",
       "       <use xlink:href=\"#CMR17-30\" transform=\"scale(0.996264)\"/>\n",
       "       <use xlink:href=\"#CMMI12-3a\" transform=\"translate(45.690477 0) scale(0.996264)\"/>\n",
       "       <use xlink:href=\"#CMR17-30\" transform=\"translate(72.787654 0) scale(0.996264)\"/>\n",
       "       <use xlink:href=\"#CMR17-31\" transform=\"translate(118.478131 0) scale(0.996264)\"/>\n",
       "      </g>\n",
       "     </g>\n",
       "    </g>\n",
       "    <g id=\"xtick_3\">\n",
       "     <g id=\"line2d_5\">\n",
       "      <path d=\"M 167.397419 201.24 \n",
       "L 167.397419 7.2 \n",
       "\" clip-path=\"url(#p5ed9982071)\" style=\"fill: none; stroke-dasharray: 0.3,0.495; stroke-dashoffset: 0; stroke: #000000; stroke-opacity: 0.5; stroke-width: 0.3\"/>\n",
       "     </g>\n",
       "     <g id=\"line2d_6\">\n",
       "      <g>\n",
       "       <use xlink:href=\"#mc3b31db66d\" x=\"167.397419\" y=\"201.24\" style=\"stroke: #000000; stroke-width: 0.8\"/>\n",
       "      </g>\n",
       "     </g>\n",
       "     <g id=\"text_3\">\n",
       "      <!-- $\\mathdefault{0.02}$ -->\n",
       "      <g transform=\"translate(158.541712 211.658498) scale(0.1 -0.1)\">\n",
       "       <defs>\n",
       "        <path id=\"CMR17-32\" d=\"M 2669 990 \n",
       "L 2554 990 \n",
       "C 2490 537 2438 460 2413 422 \n",
       "C 2381 371 1920 371 1830 371 \n",
       "L 602 371 \n",
       "C 832 620 1280 1073 1824 1596 \n",
       "C 2214 1966 2669 2400 2669 3033 \n",
       "C 2669 3788 2067 4224 1395 4224 \n",
       "C 691 4224 262 3603 262 3027 \n",
       "C 262 2777 448 2745 525 2745 \n",
       "C 589 2745 781 2783 781 3007 \n",
       "C 781 3206 614 3264 525 3264 \n",
       "C 486 3264 448 3257 422 3244 \n",
       "C 544 3788 915 4057 1306 4057 \n",
       "C 1862 4057 2227 3616 2227 3033 \n",
       "C 2227 2477 1901 1998 1536 1583 \n",
       "L 262 147 \n",
       "L 262 0 \n",
       "L 2515 0 \n",
       "L 2669 990 \n",
       "z\n",
       "\" transform=\"scale(0.015625)\"/>\n",
       "       </defs>\n",
       "       <use xlink:href=\"#CMR17-30\" transform=\"scale(0.996264)\"/>\n",
       "       <use xlink:href=\"#CMMI12-3a\" transform=\"translate(45.690477 0) scale(0.996264)\"/>\n",
       "       <use xlink:href=\"#CMR17-30\" transform=\"translate(72.787654 0) scale(0.996264)\"/>\n",
       "       <use xlink:href=\"#CMR17-32\" transform=\"translate(118.478131 0) scale(0.996264)\"/>\n",
       "      </g>\n",
       "     </g>\n",
       "    </g>\n",
       "    <g id=\"xtick_4\">\n",
       "     <g id=\"line2d_7\">\n",
       "      <path d=\"M 214.581358 201.24 \n",
       "L 214.581358 7.2 \n",
       "\" clip-path=\"url(#p5ed9982071)\" style=\"fill: none; stroke-dasharray: 0.3,0.495; stroke-dashoffset: 0; stroke: #000000; stroke-opacity: 0.5; stroke-width: 0.3\"/>\n",
       "     </g>\n",
       "     <g id=\"line2d_8\">\n",
       "      <g>\n",
       "       <use xlink:href=\"#mc3b31db66d\" x=\"214.581358\" y=\"201.24\" style=\"stroke: #000000; stroke-width: 0.8\"/>\n",
       "      </g>\n",
       "     </g>\n",
       "     <g id=\"text_4\">\n",
       "      <!-- $\\mathdefault{0.03}$ -->\n",
       "      <g transform=\"translate(205.72565 211.658498) scale(0.1 -0.1)\">\n",
       "       <defs>\n",
       "        <path id=\"CMR17-33\" d=\"M 1414 2176 \n",
       "C 1984 2176 2234 1673 2234 1094 \n",
       "C 2234 322 1824 25 1453 25 \n",
       "C 1114 25 563 193 390 691 \n",
       "C 422 678 454 678 486 678 \n",
       "C 640 678 755 780 755 947 \n",
       "C 755 1132 614 1216 486 1216 \n",
       "C 378 1216 211 1164 211 927 \n",
       "C 211 335 787 -128 1466 -128 \n",
       "C 2176 -128 2720 432 2720 1087 \n",
       "C 2720 1718 2208 2176 1600 2246 \n",
       "C 2086 2347 2554 2776 2554 3353 \n",
       "C 2554 3856 2048 4224 1472 4224 \n",
       "C 890 4224 378 3862 378 3347 \n",
       "C 378 3123 544 3084 627 3084 \n",
       "C 762 3084 877 3167 877 3334 \n",
       "C 877 3500 762 3584 627 3584 \n",
       "C 602 3584 570 3584 544 3571 \n",
       "C 730 3999 1235 4076 1459 4076 \n",
       "C 1683 4076 2106 3966 2106 3347 \n",
       "C 2106 3167 2080 2851 1862 2574 \n",
       "C 1670 2329 1453 2316 1242 2297 \n",
       "C 1210 2297 1062 2284 1037 2284 \n",
       "C 992 2278 966 2272 966 2227 \n",
       "C 966 2182 973 2176 1101 2176 \n",
       "L 1414 2176 \n",
       "z\n",
       "\" transform=\"scale(0.015625)\"/>\n",
       "       </defs>\n",
       "       <use xlink:href=\"#CMR17-30\" transform=\"scale(0.996264)\"/>\n",
       "       <use xlink:href=\"#CMMI12-3a\" transform=\"translate(45.690477 0) scale(0.996264)\"/>\n",
       "       <use xlink:href=\"#CMR17-30\" transform=\"translate(72.787654 0) scale(0.996264)\"/>\n",
       "       <use xlink:href=\"#CMR17-33\" transform=\"translate(118.478131 0) scale(0.996264)\"/>\n",
       "      </g>\n",
       "     </g>\n",
       "    </g>\n",
       "    <g id=\"xtick_5\">\n",
       "     <g id=\"line2d_9\">\n",
       "      <path d=\"M 261.765296 201.24 \n",
       "L 261.765296 7.2 \n",
       "\" clip-path=\"url(#p5ed9982071)\" style=\"fill: none; stroke-dasharray: 0.3,0.495; stroke-dashoffset: 0; stroke: #000000; stroke-opacity: 0.5; stroke-width: 0.3\"/>\n",
       "     </g>\n",
       "     <g id=\"line2d_10\">\n",
       "      <g>\n",
       "       <use xlink:href=\"#mc3b31db66d\" x=\"261.765296\" y=\"201.24\" style=\"stroke: #000000; stroke-width: 0.8\"/>\n",
       "      </g>\n",
       "     </g>\n",
       "     <g id=\"text_5\">\n",
       "      <!-- $\\mathdefault{0.04}$ -->\n",
       "      <g transform=\"translate(252.909589 211.658498) scale(0.1 -0.1)\">\n",
       "       <defs>\n",
       "        <path id=\"CMR17-34\" d=\"M 2150 4147 \n",
       "C 2150 4281 2144 4288 2029 4288 \n",
       "L 128 1254 \n",
       "L 128 1088 \n",
       "L 1779 1088 \n",
       "L 1779 460 \n",
       "C 1779 230 1766 166 1318 166 \n",
       "L 1197 166 \n",
       "L 1197 0 \n",
       "C 1402 12 1747 12 1965 12 \n",
       "C 2182 12 2528 12 2733 0 \n",
       "L 2733 166 \n",
       "L 2611 166 \n",
       "C 2163 166 2150 230 2150 460 \n",
       "L 2150 1088 \n",
       "L 2803 1088 \n",
       "L 2803 1254 \n",
       "L 2150 1254 \n",
       "L 2150 4147 \n",
       "z\n",
       "M 1798 3723 \n",
       "L 1798 1254 \n",
       "L 256 1254 \n",
       "L 1798 3723 \n",
       "z\n",
       "\" transform=\"scale(0.015625)\"/>\n",
       "       </defs>\n",
       "       <use xlink:href=\"#CMR17-30\" transform=\"scale(0.996264)\"/>\n",
       "       <use xlink:href=\"#CMMI12-3a\" transform=\"translate(45.690477 0) scale(0.996264)\"/>\n",
       "       <use xlink:href=\"#CMR17-30\" transform=\"translate(72.787654 0) scale(0.996264)\"/>\n",
       "       <use xlink:href=\"#CMR17-34\" transform=\"translate(118.478131 0) scale(0.996264)\"/>\n",
       "      </g>\n",
       "     </g>\n",
       "    </g>\n",
       "    <g id=\"xtick_6\">\n",
       "     <g id=\"line2d_11\">\n",
       "      <path d=\"M 308.949234 201.24 \n",
       "L 308.949234 7.2 \n",
       "\" clip-path=\"url(#p5ed9982071)\" style=\"fill: none; stroke-dasharray: 0.3,0.495; stroke-dashoffset: 0; stroke: #000000; stroke-opacity: 0.5; stroke-width: 0.3\"/>\n",
       "     </g>\n",
       "     <g id=\"line2d_12\">\n",
       "      <g>\n",
       "       <use xlink:href=\"#mc3b31db66d\" x=\"308.949234\" y=\"201.24\" style=\"stroke: #000000; stroke-width: 0.8\"/>\n",
       "      </g>\n",
       "     </g>\n",
       "     <g id=\"text_6\">\n",
       "      <!-- $\\mathdefault{0.05}$ -->\n",
       "      <g transform=\"translate(300.093527 211.658498) scale(0.1 -0.1)\">\n",
       "       <defs>\n",
       "        <path id=\"CMR17-35\" d=\"M 730 3750 \n",
       "C 794 3724 1056 3641 1325 3641 \n",
       "C 1920 3641 2246 3961 2432 4140 \n",
       "C 2432 4191 2432 4224 2394 4224 \n",
       "C 2387 4224 2374 4224 2323 4198 \n",
       "C 2099 4102 1837 4032 1517 4032 \n",
       "C 1325 4032 1037 4055 723 4191 \n",
       "C 653 4224 640 4224 634 4224 \n",
       "C 602 4224 595 4217 595 4090 \n",
       "L 595 2231 \n",
       "C 595 2113 595 2080 659 2080 \n",
       "C 691 2080 704 2093 736 2139 \n",
       "C 941 2435 1222 2560 1542 2560 \n",
       "C 1766 2560 2246 2415 2246 1293 \n",
       "C 2246 1087 2246 716 2054 422 \n",
       "C 1894 159 1645 25 1370 25 \n",
       "C 947 25 518 319 403 812 \n",
       "C 429 806 480 793 506 793 \n",
       "C 589 793 749 838 749 1036 \n",
       "C 749 1209 627 1280 506 1280 \n",
       "C 358 1280 262 1190 262 1011 \n",
       "C 262 454 704 -128 1382 -128 \n",
       "C 2042 -128 2669 441 2669 1267 \n",
       "C 2669 2054 2170 2662 1549 2662 \n",
       "C 1222 2662 947 2540 730 2304 \n",
       "L 730 3750 \n",
       "z\n",
       "\" transform=\"scale(0.015625)\"/>\n",
       "       </defs>\n",
       "       <use xlink:href=\"#CMR17-30\" transform=\"scale(0.996264)\"/>\n",
       "       <use xlink:href=\"#CMMI12-3a\" transform=\"translate(45.690477 0) scale(0.996264)\"/>\n",
       "       <use xlink:href=\"#CMR17-30\" transform=\"translate(72.787654 0) scale(0.996264)\"/>\n",
       "       <use xlink:href=\"#CMR17-35\" transform=\"translate(118.478131 0) scale(0.996264)\"/>\n",
       "      </g>\n",
       "     </g>\n",
       "    </g>\n",
       "    <g id=\"xtick_7\">\n",
       "     <g id=\"line2d_13\">\n",
       "      <path d=\"M 356.133172 201.24 \n",
       "L 356.133172 7.2 \n",
       "\" clip-path=\"url(#p5ed9982071)\" style=\"fill: none; stroke-dasharray: 0.3,0.495; stroke-dashoffset: 0; stroke: #000000; stroke-opacity: 0.5; stroke-width: 0.3\"/>\n",
       "     </g>\n",
       "     <g id=\"line2d_14\">\n",
       "      <g>\n",
       "       <use xlink:href=\"#mc3b31db66d\" x=\"356.133172\" y=\"201.24\" style=\"stroke: #000000; stroke-width: 0.8\"/>\n",
       "      </g>\n",
       "     </g>\n",
       "     <g id=\"text_7\">\n",
       "      <!-- $\\mathdefault{0.06}$ -->\n",
       "      <g transform=\"translate(347.277465 211.658498) scale(0.1 -0.1)\">\n",
       "       <defs>\n",
       "        <path id=\"CMR17-36\" d=\"M 678 2198 \n",
       "C 678 3712 1395 4076 1811 4076 \n",
       "C 1946 4076 2272 4049 2400 3782 \n",
       "C 2298 3782 2106 3782 2106 3558 \n",
       "C 2106 3385 2246 3328 2336 3328 \n",
       "C 2394 3328 2566 3353 2566 3571 \n",
       "C 2566 3987 2246 4224 1805 4224 \n",
       "C 1043 4224 243 3411 243 2011 \n",
       "C 243 257 966 -128 1478 -128 \n",
       "C 2099 -128 2688 431 2688 1295 \n",
       "C 2688 2101 2170 2688 1517 2688 \n",
       "C 1126 2688 838 2430 678 1979 \n",
       "L 678 2198 \n",
       "z\n",
       "M 1478 25 \n",
       "C 691 25 691 1212 691 1450 \n",
       "C 691 1914 909 2585 1504 2585 \n",
       "C 1613 2585 1926 2585 2138 2140 \n",
       "C 2253 1889 2253 1624 2253 1302 \n",
       "C 2253 954 2253 696 2118 438 \n",
       "C 1978 173 1773 25 1478 25 \n",
       "z\n",
       "\" transform=\"scale(0.015625)\"/>\n",
       "       </defs>\n",
       "       <use xlink:href=\"#CMR17-30\" transform=\"scale(0.996264)\"/>\n",
       "       <use xlink:href=\"#CMMI12-3a\" transform=\"translate(45.690477 0) scale(0.996264)\"/>\n",
       "       <use xlink:href=\"#CMR17-30\" transform=\"translate(72.787654 0) scale(0.996264)\"/>\n",
       "       <use xlink:href=\"#CMR17-36\" transform=\"translate(118.478131 0) scale(0.996264)\"/>\n",
       "      </g>\n",
       "     </g>\n",
       "    </g>\n",
       "    <g id=\"xtick_8\">\n",
       "     <g id=\"line2d_15\">\n",
       "      <path d=\"M 403.31711 201.24 \n",
       "L 403.31711 7.2 \n",
       "\" clip-path=\"url(#p5ed9982071)\" style=\"fill: none; stroke-dasharray: 0.3,0.495; stroke-dashoffset: 0; stroke: #000000; stroke-opacity: 0.5; stroke-width: 0.3\"/>\n",
       "     </g>\n",
       "     <g id=\"line2d_16\">\n",
       "      <g>\n",
       "       <use xlink:href=\"#mc3b31db66d\" x=\"403.31711\" y=\"201.24\" style=\"stroke: #000000; stroke-width: 0.8\"/>\n",
       "      </g>\n",
       "     </g>\n",
       "     <g id=\"text_8\">\n",
       "      <!-- $\\mathdefault{0.07}$ -->\n",
       "      <g transform=\"translate(394.461403 211.658498) scale(0.1 -0.1)\">\n",
       "       <defs>\n",
       "        <path id=\"CMR17-37\" d=\"M 2886 3955 \n",
       "L 2886 4096 \n",
       "L 1382 4096 \n",
       "C 634 4096 621 4166 595 4288 \n",
       "L 480 4288 \n",
       "L 294 3104 \n",
       "L 410 3104 \n",
       "C 429 3226 474 3552 550 3673 \n",
       "C 589 3724 1062 3724 1171 3724 \n",
       "L 2579 3724 \n",
       "L 1869 2670 \n",
       "C 1395 1961 1069 1003 1069 166 \n",
       "C 1069 89 1069 -128 1299 -128 \n",
       "C 1530 -128 1530 89 1530 172 \n",
       "L 1530 466 \n",
       "C 1530 1514 1709 2204 2003 2644 \n",
       "L 2886 3955 \n",
       "z\n",
       "\" transform=\"scale(0.015625)\"/>\n",
       "       </defs>\n",
       "       <use xlink:href=\"#CMR17-30\" transform=\"scale(0.996264)\"/>\n",
       "       <use xlink:href=\"#CMMI12-3a\" transform=\"translate(45.690477 0) scale(0.996264)\"/>\n",
       "       <use xlink:href=\"#CMR17-30\" transform=\"translate(72.787654 0) scale(0.996264)\"/>\n",
       "       <use xlink:href=\"#CMR17-37\" transform=\"translate(118.478131 0) scale(0.996264)\"/>\n",
       "      </g>\n",
       "     </g>\n",
       "    </g>\n",
       "    <g id=\"text_9\">\n",
       "     <!-- $\\chi{\\left(M \\right)}$ [1/m] -->\n",
       "     <g transform=\"translate(207.454134 226.562053) scale(0.12 -0.12)\">\n",
       "      <defs>\n",
       "       <path id=\"CMMI12-1f\" d=\"M 2112 1035 \n",
       "C 1939 1562 1978 1511 1818 1956 \n",
       "C 1619 2503 1568 2547 1478 2636 \n",
       "C 1363 2739 1146 2816 922 2816 \n",
       "C 563 2816 390 2484 390 2401 \n",
       "C 390 2363 422 2344 461 2344 \n",
       "C 512 2344 525 2376 531 2401 \n",
       "C 627 2649 826 2687 883 2687 \n",
       "C 1069 2687 1248 2230 1363 1925 \n",
       "C 1517 1537 1594 1270 1766 653 \n",
       "L 256 -1050 \n",
       "C 198 -1120 198 -1146 198 -1152 \n",
       "C 198 -1204 230 -1216 256 -1216 \n",
       "C 282 -1216 301 -1204 320 -1184 \n",
       "C 499 -1006 896 -535 1062 -345 \n",
       "L 1805 494 \n",
       "C 2118 -479 2118 -491 2214 -727 \n",
       "C 2317 -968 2451 -1280 2995 -1280 \n",
       "C 3360 -1280 3526 -955 3526 -866 \n",
       "C 3526 -822 3488 -809 3456 -809 \n",
       "C 3405 -809 3398 -835 3379 -886 \n",
       "C 3309 -1064 3142 -1152 3040 -1152 \n",
       "C 2957 -1152 2854 -1152 2573 -447 \n",
       "C 2406 -21 2259 487 2150 882 \n",
       "L 3667 2598 \n",
       "C 3718 2655 3725 2662 3725 2687 \n",
       "C 3725 2732 3693 2752 3661 2752 \n",
       "C 3642 2752 3622 2752 3558 2681 \n",
       "L 2112 1035 \n",
       "z\n",
       "\" transform=\"scale(0.015625)\"/>\n",
       "       <path id=\"CMR17-28\" d=\"M 1958 -1562 \n",
       "C 1958 -1556 1958 -1543 1939 -1524 \n",
       "C 1645 -1223 858 -403 858 1596 \n",
       "C 858 3595 1632 4408 1946 4729 \n",
       "C 1946 4735 1958 4748 1958 4767 \n",
       "C 1958 4787 1939 4800 1914 4800 \n",
       "C 1843 4800 1299 4325 986 3620 \n",
       "C 666 2909 576 2218 576 1603 \n",
       "C 576 1141 621 360 1005 -467 \n",
       "C 1312 -1133 1837 -1600 1914 -1600 \n",
       "C 1946 -1600 1958 -1588 1958 -1562 \n",
       "z\n",
       "\" transform=\"scale(0.015625)\"/>\n",
       "       <path id=\"CMMI12-4d\" d=\"M 5811 3886 \n",
       "C 5869 4102 5882 4166 6336 4166 \n",
       "C 6458 4166 6515 4166 6515 4287 \n",
       "C 6515 4352 6470 4352 6349 4352 \n",
       "L 5581 4352 \n",
       "C 5421 4352 5414 4345 5344 4243 \n",
       "L 3008 567 \n",
       "L 2528 4211 \n",
       "C 2509 4352 2502 4352 2336 4352 \n",
       "L 1542 4352 \n",
       "C 1421 4352 1363 4352 1363 4230 \n",
       "C 1363 4166 1421 4166 1517 4166 \n",
       "C 1907 4166 1907 4115 1907 4045 \n",
       "C 1907 4032 1907 3994 1882 3898 \n",
       "L 1062 650 \n",
       "C 986 344 838 204 410 185 \n",
       "C 390 185 314 179 314 70 \n",
       "C 314 0 371 0 397 0 \n",
       "C 525 0 851 12 979 12 \n",
       "L 1286 12 \n",
       "C 1376 12 1485 0 1574 0 \n",
       "C 1619 0 1690 0 1690 121 \n",
       "C 1690 179 1626 185 1600 185 \n",
       "C 1389 191 1184 230 1184 459 \n",
       "C 1184 523 1184 529 1210 618 \n",
       "L 2093 4128 \n",
       "L 2099 4128 \n",
       "L 2630 172 \n",
       "C 2650 19 2656 0 2714 0 \n",
       "C 2784 0 2816 51 2848 108 \n",
       "L 5421 4159 \n",
       "L 5427 4159 \n",
       "L 4499 472 \n",
       "C 4442 249 4429 185 3981 185 \n",
       "C 3859 185 3795 185 3795 70 \n",
       "C 3795 0 3853 0 3891 0 \n",
       "C 4000 0 4128 12 4237 12 \n",
       "L 4992 12 \n",
       "C 5101 12 5235 0 5344 0 \n",
       "C 5395 0 5466 0 5466 121 \n",
       "C 5466 185 5408 185 5312 185 \n",
       "C 4922 185 4922 236 4922 300 \n",
       "C 4922 306 4922 351 4934 402 \n",
       "L 5811 3886 \n",
       "z\n",
       "\" transform=\"scale(0.015625)\"/>\n",
       "       <path id=\"CMR17-29\" d=\"M 1683 1596 \n",
       "C 1683 2057 1638 2839 1254 3665 \n",
       "C 947 4332 422 4800 346 4800 \n",
       "C 326 4800 301 4793 301 4761 \n",
       "C 301 4748 307 4742 314 4729 \n",
       "C 621 4408 1402 3595 1402 1603 \n",
       "C 1402 -396 627 -1210 314 -1530 \n",
       "C 307 -1543 301 -1549 301 -1562 \n",
       "C 301 -1594 326 -1600 346 -1600 \n",
       "C 416 -1600 960 -1127 1274 -422 \n",
       "C 1594 289 1683 981 1683 1596 \n",
       "z\n",
       "\" transform=\"scale(0.015625)\"/>\n",
       "       <path id=\"CMR17-5b\" d=\"M 1504 -1600 \n",
       "L 1504 -1376 \n",
       "L 902 -1376 \n",
       "L 902 4575 \n",
       "L 1504 4575 \n",
       "L 1504 4800 \n",
       "L 678 4800 \n",
       "L 678 -1600 \n",
       "L 1504 -1600 \n",
       "z\n",
       "\" transform=\"scale(0.015625)\"/>\n",
       "       <path id=\"CMR17-2f\" d=\"M 2605 4575 \n",
       "C 2637 4658 2637 4671 2637 4684 \n",
       "C 2637 4761 2579 4800 2528 4800 \n",
       "C 2451 4800 2426 4748 2400 4671 \n",
       "L 326 -1376 \n",
       "C 294 -1460 294 -1472 294 -1485 \n",
       "C 294 -1562 352 -1600 403 -1600 \n",
       "C 480 -1600 506 -1549 531 -1472 \n",
       "L 2605 4575 \n",
       "z\n",
       "\" transform=\"scale(0.015625)\"/>\n",
       "       <path id=\"CMR17-6d\" d=\"M 4326 1954 \n",
       "C 4326 2276 4269 2816 3507 2816 \n",
       "C 3072 2816 2771 2520 2656 2173 \n",
       "L 2650 2173 \n",
       "C 2573 2700 2195 2816 1837 2816 \n",
       "C 1331 2816 1069 2424 973 2166 \n",
       "L 966 2166 \n",
       "L 966 2816 \n",
       "L 211 2745 \n",
       "L 211 2578 \n",
       "C 589 2578 646 2540 646 2231 \n",
       "L 646 443 \n",
       "C 646 198 621 166 211 166 \n",
       "L 211 0 \n",
       "C 365 12 646 12 813 12 \n",
       "C 979 12 1267 12 1421 0 \n",
       "L 1421 166 \n",
       "C 1011 166 986 192 986 443 \n",
       "L 986 1678 \n",
       "C 986 2269 1344 2713 1792 2713 \n",
       "C 2266 2713 2317 2289 2317 1980 \n",
       "L 2317 443 \n",
       "C 2317 198 2291 166 1882 166 \n",
       "L 1882 0 \n",
       "C 2035 12 2317 12 2483 12 \n",
       "C 2650 12 2938 12 3091 0 \n",
       "L 3091 166 \n",
       "C 2682 166 2656 192 2656 443 \n",
       "L 2656 1678 \n",
       "C 2656 2269 3014 2713 3462 2713 \n",
       "C 3936 2713 3987 2289 3987 1980 \n",
       "L 3987 443 \n",
       "C 3987 198 3962 166 3552 166 \n",
       "L 3552 0 \n",
       "C 3706 12 3987 12 4154 12 \n",
       "C 4320 12 4608 12 4762 0 \n",
       "L 4762 166 \n",
       "C 4352 166 4326 192 4326 443 \n",
       "L 4326 1954 \n",
       "z\n",
       "\" transform=\"scale(0.015625)\"/>\n",
       "       <path id=\"CMR17-5d\" d=\"M 915 4800 \n",
       "L 90 4800 \n",
       "L 90 4575 \n",
       "L 691 4575 \n",
       "L 691 -1376 \n",
       "L 90 -1376 \n",
       "L 90 -1600 \n",
       "L 915 -1600 \n",
       "L 915 4800 \n",
       "z\n",
       "\" transform=\"scale(0.015625)\"/>\n",
       "      </defs>\n",
       "      <use xlink:href=\"#CMMI12-1f\" transform=\"scale(0.996264)\"/>\n",
       "      <use xlink:href=\"#CMR17-28\" transform=\"translate(61.112959 0.003177) scale(0.996264)\"/>\n",
       "      <use xlink:href=\"#CMMI12-4d\" transform=\"translate(96.393727 0) scale(0.996264)\"/>\n",
       "      <use xlink:href=\"#CMR17-29\" transform=\"translate(201.173806 0.003177) scale(0.996264)\"/>\n",
       "      <use xlink:href=\"#CMR17-5b\" transform=\"translate(266.53054 0) scale(0.996264)\"/>\n",
       "      <use xlink:href=\"#CMR17-31\" transform=\"translate(291.401598 0) scale(0.996264)\"/>\n",
       "      <use xlink:href=\"#CMR17-2f\" transform=\"translate(337.092075 0) scale(0.996264)\"/>\n",
       "      <use xlink:href=\"#CMR17-6d\" transform=\"translate(382.782552 0) scale(0.996264)\"/>\n",
       "      <use xlink:href=\"#CMR17-5d\" transform=\"translate(459.702142 0) scale(0.996264)\"/>\n",
       "     </g>\n",
       "    </g>\n",
       "   </g>\n",
       "   <g id=\"matplotlib.axis_2\">\n",
       "    <g id=\"ytick_1\">\n",
       "     <g id=\"line2d_17\">\n",
       "      <path d=\"M 56.54318 192.42 \n",
       "L 419.24318 192.42 \n",
       "\" clip-path=\"url(#p5ed9982071)\" style=\"fill: none; stroke-dasharray: 0.3,0.495; stroke-dashoffset: 0; stroke: #000000; stroke-opacity: 0.5; stroke-width: 0.3\"/>\n",
       "     </g>\n",
       "     <g id=\"line2d_18\">\n",
       "      <defs>\n",
       "       <path id=\"m794ae7bf54\" d=\"M 0 0 \n",
       "L 3.5 0 \n",
       "\" style=\"stroke: #000000; stroke-width: 0.8\"/>\n",
       "      </defs>\n",
       "      <g>\n",
       "       <use xlink:href=\"#m794ae7bf54\" x=\"56.54318\" y=\"192.42\" style=\"stroke: #000000; stroke-width: 0.8\"/>\n",
       "      </g>\n",
       "     </g>\n",
       "     <g id=\"text_10\">\n",
       "      <!-- $\\mathdefault{0}$ -->\n",
       "      <g transform=\"translate(48.061844 195.879249) scale(0.1 -0.1)\">\n",
       "       <use xlink:href=\"#CMR17-30\" transform=\"scale(0.996264)\"/>\n",
       "      </g>\n",
       "     </g>\n",
       "    </g>\n",
       "    <g id=\"ytick_2\">\n",
       "     <g id=\"line2d_19\">\n",
       "      <path d=\"M 56.54318 150.2729 \n",
       "L 419.24318 150.2729 \n",
       "\" clip-path=\"url(#p5ed9982071)\" style=\"fill: none; stroke-dasharray: 0.3,0.495; stroke-dashoffset: 0; stroke: #000000; stroke-opacity: 0.5; stroke-width: 0.3\"/>\n",
       "     </g>\n",
       "     <g id=\"line2d_20\">\n",
       "      <g>\n",
       "       <use xlink:href=\"#m794ae7bf54\" x=\"56.54318\" y=\"150.2729\" style=\"stroke: #000000; stroke-width: 0.8\"/>\n",
       "      </g>\n",
       "     </g>\n",
       "     <g id=\"text_11\">\n",
       "      <!-- $\\mathdefault{50000}$ -->\n",
       "      <g transform=\"translate(28.136503 153.73215) scale(0.1 -0.1)\">\n",
       "       <use xlink:href=\"#CMR17-35\" transform=\"scale(0.996264)\"/>\n",
       "       <use xlink:href=\"#CMR17-30\" transform=\"translate(45.690477 0) scale(0.996264)\"/>\n",
       "       <use xlink:href=\"#CMR17-30\" transform=\"translate(91.380954 0) scale(0.996264)\"/>\n",
       "       <use xlink:href=\"#CMR17-30\" transform=\"translate(137.071431 0) scale(0.996264)\"/>\n",
       "       <use xlink:href=\"#CMR17-30\" transform=\"translate(182.761908 0) scale(0.996264)\"/>\n",
       "      </g>\n",
       "     </g>\n",
       "    </g>\n",
       "    <g id=\"ytick_3\">\n",
       "     <g id=\"line2d_21\">\n",
       "      <path d=\"M 56.54318 108.125801 \n",
       "L 419.24318 108.125801 \n",
       "\" clip-path=\"url(#p5ed9982071)\" style=\"fill: none; stroke-dasharray: 0.3,0.495; stroke-dashoffset: 0; stroke: #000000; stroke-opacity: 0.5; stroke-width: 0.3\"/>\n",
       "     </g>\n",
       "     <g id=\"line2d_22\">\n",
       "      <g>\n",
       "       <use xlink:href=\"#m794ae7bf54\" x=\"56.54318\" y=\"108.125801\" style=\"stroke: #000000; stroke-width: 0.8\"/>\n",
       "      </g>\n",
       "     </g>\n",
       "     <g id=\"text_12\">\n",
       "      <!-- $\\mathdefault{100000}$ -->\n",
       "      <g transform=\"translate(23.155168 111.58505) scale(0.1 -0.1)\">\n",
       "       <use xlink:href=\"#CMR17-31\" transform=\"scale(0.996264)\"/>\n",
       "       <use xlink:href=\"#CMR17-30\" transform=\"translate(45.690477 0) scale(0.996264)\"/>\n",
       "       <use xlink:href=\"#CMR17-30\" transform=\"translate(91.380954 0) scale(0.996264)\"/>\n",
       "       <use xlink:href=\"#CMR17-30\" transform=\"translate(137.071431 0) scale(0.996264)\"/>\n",
       "       <use xlink:href=\"#CMR17-30\" transform=\"translate(182.761908 0) scale(0.996264)\"/>\n",
       "       <use xlink:href=\"#CMR17-30\" transform=\"translate(228.452386 0) scale(0.996264)\"/>\n",
       "      </g>\n",
       "     </g>\n",
       "    </g>\n",
       "    <g id=\"ytick_4\">\n",
       "     <g id=\"line2d_23\">\n",
       "      <path d=\"M 56.54318 65.978701 \n",
       "L 419.24318 65.978701 \n",
       "\" clip-path=\"url(#p5ed9982071)\" style=\"fill: none; stroke-dasharray: 0.3,0.495; stroke-dashoffset: 0; stroke: #000000; stroke-opacity: 0.5; stroke-width: 0.3\"/>\n",
       "     </g>\n",
       "     <g id=\"line2d_24\">\n",
       "      <g>\n",
       "       <use xlink:href=\"#m794ae7bf54\" x=\"56.54318\" y=\"65.978701\" style=\"stroke: #000000; stroke-width: 0.8\"/>\n",
       "      </g>\n",
       "     </g>\n",
       "     <g id=\"text_13\">\n",
       "      <!-- $\\mathdefault{150000}$ -->\n",
       "      <g transform=\"translate(23.155168 69.43795) scale(0.1 -0.1)\">\n",
       "       <use xlink:href=\"#CMR17-31\" transform=\"scale(0.996264)\"/>\n",
       "       <use xlink:href=\"#CMR17-35\" transform=\"translate(45.690477 0) scale(0.996264)\"/>\n",
       "       <use xlink:href=\"#CMR17-30\" transform=\"translate(91.380954 0) scale(0.996264)\"/>\n",
       "       <use xlink:href=\"#CMR17-30\" transform=\"translate(137.071431 0) scale(0.996264)\"/>\n",
       "       <use xlink:href=\"#CMR17-30\" transform=\"translate(182.761908 0) scale(0.996264)\"/>\n",
       "       <use xlink:href=\"#CMR17-30\" transform=\"translate(228.452386 0) scale(0.996264)\"/>\n",
       "      </g>\n",
       "     </g>\n",
       "    </g>\n",
       "    <g id=\"ytick_5\">\n",
       "     <g id=\"line2d_25\">\n",
       "      <path d=\"M 56.54318 23.831602 \n",
       "L 419.24318 23.831602 \n",
       "\" clip-path=\"url(#p5ed9982071)\" style=\"fill: none; stroke-dasharray: 0.3,0.495; stroke-dashoffset: 0; stroke: #000000; stroke-opacity: 0.5; stroke-width: 0.3\"/>\n",
       "     </g>\n",
       "     <g id=\"line2d_26\">\n",
       "      <g>\n",
       "       <use xlink:href=\"#m794ae7bf54\" x=\"56.54318\" y=\"23.831602\" style=\"stroke: #000000; stroke-width: 0.8\"/>\n",
       "      </g>\n",
       "     </g>\n",
       "     <g id=\"text_14\">\n",
       "      <!-- $\\mathdefault{200000}$ -->\n",
       "      <g transform=\"translate(23.155168 27.290851) scale(0.1 -0.1)\">\n",
       "       <use xlink:href=\"#CMR17-32\" transform=\"scale(0.996264)\"/>\n",
       "       <use xlink:href=\"#CMR17-30\" transform=\"translate(45.690477 0) scale(0.996264)\"/>\n",
       "       <use xlink:href=\"#CMR17-30\" transform=\"translate(91.380954 0) scale(0.996264)\"/>\n",
       "       <use xlink:href=\"#CMR17-30\" transform=\"translate(137.071431 0) scale(0.996264)\"/>\n",
       "       <use xlink:href=\"#CMR17-30\" transform=\"translate(182.761908 0) scale(0.996264)\"/>\n",
       "       <use xlink:href=\"#CMR17-30\" transform=\"translate(228.452386 0) scale(0.996264)\"/>\n",
       "      </g>\n",
       "     </g>\n",
       "    </g>\n",
       "    <g id=\"text_15\">\n",
       "     <!-- $M$ [Nm] -->\n",
       "     <g transform=\"translate(16.166376 124.974621) rotate(-90) scale(0.12 -0.12)\">\n",
       "      <defs>\n",
       "       <path id=\"CMR17-4e\" d=\"M 1312 4275 \n",
       "C 1267 4345 1261 4352 1139 4352 \n",
       "L 326 4352 \n",
       "L 326 4185 \n",
       "L 448 4185 \n",
       "C 704 4185 819 4153 838 4147 \n",
       "L 838 624 \n",
       "C 838 465 838 166 326 166 \n",
       "L 326 0 \n",
       "C 474 12 742 12 902 12 \n",
       "C 1062 12 1331 12 1478 0 \n",
       "L 1478 166 \n",
       "C 966 166 966 465 966 624 \n",
       "L 966 4057 \n",
       "C 1011 4019 1011 4007 1056 3943 \n",
       "L 3430 76 \n",
       "C 3475 0 3494 0 3526 0 \n",
       "C 3590 0 3590 19 3590 140 \n",
       "L 3590 3726 \n",
       "C 3590 3885 3590 4185 4102 4185 \n",
       "L 4102 4352 \n",
       "C 3955 4339 3686 4339 3526 4339 \n",
       "C 3366 4339 3098 4339 2950 4352 \n",
       "L 2950 4185 \n",
       "C 3462 4185 3462 3885 3462 3726 \n",
       "L 3462 777 \n",
       "L 1312 4275 \n",
       "z\n",
       "\" transform=\"scale(0.015625)\"/>\n",
       "      </defs>\n",
       "      <use xlink:href=\"#CMMI12-4d\" transform=\"scale(0.996264)\"/>\n",
       "      <use xlink:href=\"#CMR17-5b\" transform=\"translate(134.856045 0) scale(0.996264)\"/>\n",
       "      <use xlink:href=\"#CMR17-4e\" transform=\"translate(159.727104 0) scale(0.996264)\"/>\n",
       "      <use xlink:href=\"#CMR17-6d\" transform=\"translate(228.799533 0) scale(0.996264)\"/>\n",
       "      <use xlink:href=\"#CMR17-5d\" transform=\"translate(305.719123 0) scale(0.996264)\"/>\n",
       "     </g>\n",
       "    </g>\n",
       "   </g>\n",
       "   <g id=\"line2d_27\">\n",
       "    <path d=\"M 73.029543 192.42 \n",
       "L 76.799027 177.775871 \n",
       "L 87.084637 177.634723 \n",
       "L 195.610047 21.560068 \n",
       "L 192.671255 21.524781 \n",
       "L 195.36466 21.454207 \n",
       "L 402.756816 16.02 \n",
       "L 402.756816 16.02 \n",
       "\" clip-path=\"url(#p5ed9982071)\" style=\"fill: none; stroke: #000000; stroke-width: 0.7; stroke-linecap: square\"/>\n",
       "   </g>\n",
       "   <g id=\"patch_3\">\n",
       "    <path d=\"M 56.54318 201.24 \n",
       "L 56.54318 7.2 \n",
       "\" style=\"fill: none; stroke: #000000; stroke-width: 0.5; stroke-linejoin: miter; stroke-linecap: square\"/>\n",
       "   </g>\n",
       "   <g id=\"patch_4\">\n",
       "    <path d=\"M 56.54318 201.24 \n",
       "L 419.24318 201.24 \n",
       "\" style=\"fill: none; stroke: #000000; stroke-width: 0.5; stroke-linejoin: miter; stroke-linecap: square\"/>\n",
       "   </g>\n",
       "   <g id=\"text_16\">\n",
       "    <!-- $EI^I$ -->\n",
       "    <g transform=\"translate(77.276098 189.77587) scale(0.12 -0.12)\">\n",
       "     <defs>\n",
       "      <path id=\"CMMI12-45\" d=\"M 4448 1489 \n",
       "C 4454 1508 4474 1553 4474 1578 \n",
       "C 4474 1611 4448 1643 4410 1643 \n",
       "C 4384 1643 4371 1636 4352 1617 \n",
       "C 4339 1611 4339 1598 4282 1469 \n",
       "C 3904 570 3629 185 2605 185 \n",
       "L 1670 185 \n",
       "C 1581 185 1568 185 1530 192 \n",
       "C 1459 198 1453 211 1453 262 \n",
       "C 1453 307 1466 346 1478 403 \n",
       "L 1920 2176 \n",
       "L 2554 2176 \n",
       "C 3053 2176 3091 2066 3091 1874 \n",
       "C 3091 1810 3091 1752 3046 1559 \n",
       "C 3034 1534 3027 1508 3027 1489 \n",
       "C 3027 1444 3059 1424 3098 1424 \n",
       "C 3155 1424 3162 1469 3187 1559 \n",
       "L 3552 3036 \n",
       "C 3552 3068 3526 3099 3488 3099 \n",
       "C 3430 3099 3424 3074 3398 2986 \n",
       "C 3270 2500 3142 2361 2573 2361 \n",
       "L 1965 2361 \n",
       "L 2362 3913 \n",
       "C 2419 4134 2432 4153 2694 4153 \n",
       "L 3610 4153 \n",
       "C 4397 4153 4557 3945 4557 3465 \n",
       "C 4557 3459 4557 3282 4531 3074 \n",
       "C 4525 3049 4518 3011 4518 2998 \n",
       "C 4518 2948 4550 2929 4589 2929 \n",
       "C 4634 2929 4659 2954 4672 3068 \n",
       "L 4806 4172 \n",
       "C 4806 4191 4819 4255 4819 4268 \n",
       "C 4819 4339 4762 4339 4646 4339 \n",
       "L 1523 4339 \n",
       "C 1402 4339 1338 4339 1338 4223 \n",
       "C 1338 4153 1382 4153 1491 4153 \n",
       "C 1888 4153 1888 4109 1888 4039 \n",
       "C 1888 4008 1882 3983 1862 3913 \n",
       "L 998 474 \n",
       "C 941 249 928 185 480 185 \n",
       "C 358 185 294 185 294 70 \n",
       "C 294 0 333 0 461 0 \n",
       "L 3674 0 \n",
       "C 3814 0 3821 6 3866 108 \n",
       "L 4448 1489 \n",
       "z\n",
       "\" transform=\"scale(0.015625)\"/>\n",
       "      <path id=\"CMMI12-49\" d=\"M 2355 3879 \n",
       "C 2413 4102 2426 4166 2893 4166 \n",
       "C 3034 4166 3085 4166 3085 4287 \n",
       "C 3085 4352 3014 4352 2995 4352 \n",
       "C 2880 4352 2739 4339 2624 4339 \n",
       "L 1837 4339 \n",
       "C 1709 4339 1562 4352 1434 4352 \n",
       "C 1382 4352 1312 4352 1312 4230 \n",
       "C 1312 4166 1363 4166 1491 4166 \n",
       "C 1888 4166 1888 4115 1888 4045 \n",
       "C 1888 4000 1875 3962 1862 3905 \n",
       "L 998 472 \n",
       "C 941 249 928 185 461 185 \n",
       "C 320 185 262 185 262 64 \n",
       "C 262 0 326 0 358 0 \n",
       "C 474 0 614 12 730 12 \n",
       "L 1517 12 \n",
       "C 1645 12 1786 0 1914 0 \n",
       "C 1965 0 2042 0 2042 115 \n",
       "C 2042 185 2003 185 1862 185 \n",
       "C 1466 185 1466 236 1466 312 \n",
       "C 1466 325 1466 357 1491 459 \n",
       "L 2355 3879 \n",
       "z\n",
       "\" transform=\"scale(0.015625)\"/>\n",
       "     </defs>\n",
       "     <use xlink:href=\"#CMMI12-45\" transform=\"scale(0.996264)\"/>\n",
       "     <use xlink:href=\"#CMMI12-49\" transform=\"translate(78.051636 0) scale(0.996264)\"/>\n",
       "     <use xlink:href=\"#CMMI12-49\" transform=\"translate(128.90815 36.153639) scale(0.697382)\"/>\n",
       "    </g>\n",
       "   </g>\n",
       "   <g id=\"text_17\">\n",
       "    <!-- $EI^{II}$ -->\n",
       "    <g transform=\"translate(130.213481 140.2729) scale(0.12 -0.12)\">\n",
       "     <use xlink:href=\"#CMMI12-45\" transform=\"scale(0.996264)\"/>\n",
       "     <use xlink:href=\"#CMMI12-49\" transform=\"translate(78.051636 0) scale(0.996264)\"/>\n",
       "     <use xlink:href=\"#CMMI12-49\" transform=\"translate(128.90815 36.153639) scale(0.697382)\"/>\n",
       "     <use xlink:href=\"#CMMI12-49\" transform=\"translate(164.507532 36.153639) scale(0.697382)\"/>\n",
       "    </g>\n",
       "   </g>\n",
       "  </g>\n",
       " </g>\n",
       " <defs>\n",
       "  <clipPath id=\"p5ed9982071\">\n",
       "   <rect x=\"56.54318\" y=\"7.2\" width=\"362.7\" height=\"194.04\"/>\n",
       "  </clipPath>\n",
       " </defs>\n",
       "</svg>\n"
      ],
      "text/plain": [
       "<Figure size 650x350 with 1 Axes>"
      ]
     },
     "metadata": {},
     "output_type": "display_data"
    }
   ],
   "source": [
    "#| label: fig-mchi_diagramm\n",
    "#| fig-cap: Momenten-Krümmungsdiagramm händisch ermittelt, definiert im positiven Bereich\n",
    "M_R_num = np.float64(eq_M_R_num.rhs.evalf(4) /unit.m/unit.N)\n",
    "\n",
    "chi_M_lambda = sp.lambdify((M, EI_I, EI_II, EI_III, M_r, M_y, M_R), eq_chi_M.rhs)\n",
    "\n",
    "M_array = np.linspace(0,M_R_num * 2, 10000)\n",
    "chi_M_array = chi_M_lambda(M_array, *M_chi_params)\n",
    "\n",
    "plt.plot(chi_M_array, M_array, color='black')\n",
    "\n",
    "# Anmerkungen hinzufügen\n",
    "\n",
    "\n",
    "plt.annotate('$EI^I$', xy=(0.0009, 15000), xytext=(0, -10), textcoords='offset pixels')\n",
    "plt.annotate(\"$EI^{II}$\", xy=(0.01, 50000), xytext=(10, 10), textcoords='offset pixels')\n",
    "\n",
    "plt.xlabel(f'${sp.latex(chi_M)}$ [1/m]')\n",
    "plt.ylabel(f'${sp.latex(M)}$ [Nm]')\n",
    "plt.show()\n"
   ]
  },
  {
   "cell_type": "markdown",
   "metadata": {},
   "source": [
    "#### Zustandslinien der Biegemomente\n",
    "\n",
    "Da die Beziehung zwischen Biegemoment und Krümmung bestimmt ist, kann ein Krümmungsverlauf über die Stabachse ermittelt werden. Dieser ist abhängig von der Funktion der Biegemomente zur Stabachse. Die Zustandslinie der Biegemomente wird anhand des statischen Systems in @fig-system_2. \n",
    "\n",
    "![Statisches System der Versuchsanordnung](../images/System_anordnung_2.svg){#fig-system_2}\n",
    "\n",
    "Das Eigengewicht wird vernachlässigt aus folgenden Gründen:\n",
    "\n",
    "- Die Punktlast $F_A$ ist massgebend am Biegemomentenverlauf beteiligt.\n",
    "- Die Deformationen im Versuchsbericht aus @Jaeger2006 sind nach dem Einbau des Trägers gemessen worden. Folglich wurde die Deformation des Eigengewichts nicht aufgezeichnet.\n",
    "\n",
    "$$\n",
    "g_M, g_{k1}, g_{k2} = 0\n",
    "$${#eq-eigengewicht}"
   ]
  },
  {
   "cell_type": "code",
   "execution_count": 47,
   "metadata": {},
   "outputs": [],
   "source": [
    "\n",
    "M_x = sp.Function('M')(x)\n",
    "\n",
    "F_C = F_A * (1.67-0.11) / (1.67 - 0.75)\n",
    "\n",
    "eq_M_x = sp.Eq(M_x, sp.Piecewise((0,x<=.110),(F_A * (x-0.11), .750>x), (F_A * 0.64-(F_C-F_A) * (x-0.75), x<=1.670), (0,x>1.670)))\n",
    "M_x_lambda = sp.lambdify((x, F_A),eq_M_x.rhs)\n",
    "x_array = np.linspace(0,2.620,5000)\n",
    "M_x_array = M_x_lambda(x_array, F_A.subs(params_plot))"
   ]
  },
  {
   "cell_type": "code",
   "execution_count": 48,
   "metadata": {},
   "outputs": [
    {
     "data": {
      "image/svg+xml": [
       "<?xml version=\"1.0\" encoding=\"utf-8\" standalone=\"no\"?>\n",
       "<!DOCTYPE svg PUBLIC \"-//W3C//DTD SVG 1.1//EN\"\n",
       "  \"http://www.w3.org/Graphics/SVG/1.1/DTD/svg11.dtd\">\n",
       "<svg xmlns:xlink=\"http://www.w3.org/1999/xlink\" width=\"426.44318pt\" height=\"236.750845pt\" viewBox=\"0 0 426.44318 236.750845\" xmlns=\"http://www.w3.org/2000/svg\" version=\"1.1\">\n",
       " <metadata>\n",
       "  <rdf:RDF xmlns:dc=\"http://purl.org/dc/elements/1.1/\" xmlns:cc=\"http://creativecommons.org/ns#\" xmlns:rdf=\"http://www.w3.org/1999/02/22-rdf-syntax-ns#\">\n",
       "   <cc:Work>\n",
       "    <dc:type rdf:resource=\"http://purl.org/dc/dcmitype/StillImage\"/>\n",
       "    <dc:date>2023-09-29T14:54:50.359374</dc:date>\n",
       "    <dc:format>image/svg+xml</dc:format>\n",
       "    <dc:creator>\n",
       "     <cc:Agent>\n",
       "      <dc:title>Matplotlib v3.8.0, https://matplotlib.org/</dc:title>\n",
       "     </cc:Agent>\n",
       "    </dc:creator>\n",
       "   </cc:Work>\n",
       "  </rdf:RDF>\n",
       " </metadata>\n",
       " <defs>\n",
       "  <style type=\"text/css\">*{stroke-linejoin: round; stroke-linecap: butt}</style>\n",
       " </defs>\n",
       " <g id=\"figure_1\">\n",
       "  <g id=\"patch_1\">\n",
       "   <path d=\"M 0 236.750845 \n",
       "L 426.44318 236.750845 \n",
       "L 426.44318 -0 \n",
       "L 0 -0 \n",
       "z\n",
       "\" style=\"fill: #ffffff\"/>\n",
       "  </g>\n",
       "  <g id=\"axes_1\">\n",
       "   <g id=\"patch_2\">\n",
       "    <path d=\"M 56.54318 201.24 \n",
       "L 419.24318 201.24 \n",
       "L 419.24318 7.2 \n",
       "L 56.54318 7.2 \n",
       "z\n",
       "\" style=\"fill: #ffffff\"/>\n",
       "   </g>\n",
       "   <g id=\"matplotlib.axis_1\">\n",
       "    <g id=\"xtick_1\">\n",
       "     <g id=\"line2d_1\">\n",
       "      <path d=\"M 73.029543 201.24 \n",
       "L 73.029543 7.2 \n",
       "\" clip-path=\"url(#p25eaf62fcf)\" style=\"fill: none; stroke-dasharray: 0.3,0.495; stroke-dashoffset: 0; stroke: #000000; stroke-opacity: 0.5; stroke-width: 0.3\"/>\n",
       "     </g>\n",
       "     <g id=\"line2d_2\">\n",
       "      <defs>\n",
       "       <path id=\"m48a6032a71\" d=\"M 0 0 \n",
       "L 0 -3.5 \n",
       "\" style=\"stroke: #000000; stroke-width: 0.8\"/>\n",
       "      </defs>\n",
       "      <g>\n",
       "       <use xlink:href=\"#m48a6032a71\" x=\"73.029543\" y=\"201.24\" style=\"stroke: #000000; stroke-width: 0.8\"/>\n",
       "      </g>\n",
       "     </g>\n",
       "     <g id=\"text_1\">\n",
       "      <!-- $\\mathdefault{0.0}$ -->\n",
       "      <g transform=\"translate(66.664504 211.658498) scale(0.1 -0.1)\">\n",
       "       <defs>\n",
       "        <path id=\"CMR17-30\" d=\"M 2688 2038 \n",
       "C 2688 2430 2682 3099 2413 3613 \n",
       "C 2176 4063 1798 4224 1466 4224 \n",
       "C 1158 4224 768 4082 525 3620 \n",
       "C 269 3137 243 2539 243 2038 \n",
       "C 243 1671 250 1112 448 623 \n",
       "C 723 -39 1216 -128 1466 -128 \n",
       "C 1760 -128 2208 -7 2470 604 \n",
       "C 2662 1048 2688 1568 2688 2038 \n",
       "z\n",
       "M 1466 -26 \n",
       "C 1056 -26 813 328 723 816 \n",
       "C 653 1196 653 1749 653 2109 \n",
       "C 653 2604 653 3015 736 3407 \n",
       "C 858 3954 1216 4121 1466 4121 \n",
       "C 1728 4121 2067 3947 2189 3420 \n",
       "C 2272 3054 2278 2623 2278 2109 \n",
       "C 2278 1691 2278 1176 2202 797 \n",
       "C 2067 96 1690 -26 1466 -26 \n",
       "z\n",
       "\" transform=\"scale(0.015625)\"/>\n",
       "        <path id=\"CMMI12-3a\" d=\"M 1178 307 \n",
       "C 1178 492 1024 620 870 620 \n",
       "C 685 620 557 467 557 313 \n",
       "C 557 128 710 0 864 0 \n",
       "C 1050 0 1178 153 1178 307 \n",
       "z\n",
       "\" transform=\"scale(0.015625)\"/>\n",
       "       </defs>\n",
       "       <use xlink:href=\"#CMR17-30\" transform=\"scale(0.996264)\"/>\n",
       "       <use xlink:href=\"#CMMI12-3a\" transform=\"translate(45.690477 0) scale(0.996264)\"/>\n",
       "       <use xlink:href=\"#CMR17-30\" transform=\"translate(72.787654 0) scale(0.996264)\"/>\n",
       "      </g>\n",
       "     </g>\n",
       "    </g>\n",
       "    <g id=\"xtick_2\">\n",
       "     <g id=\"line2d_3\">\n",
       "      <path d=\"M 135.954595 201.24 \n",
       "L 135.954595 7.2 \n",
       "\" clip-path=\"url(#p25eaf62fcf)\" style=\"fill: none; stroke-dasharray: 0.3,0.495; stroke-dashoffset: 0; stroke: #000000; stroke-opacity: 0.5; stroke-width: 0.3\"/>\n",
       "     </g>\n",
       "     <g id=\"line2d_4\">\n",
       "      <g>\n",
       "       <use xlink:href=\"#m48a6032a71\" x=\"135.954595\" y=\"201.24\" style=\"stroke: #000000; stroke-width: 0.8\"/>\n",
       "      </g>\n",
       "     </g>\n",
       "     <g id=\"text_2\">\n",
       "      <!-- $\\mathdefault{0.5}$ -->\n",
       "      <g transform=\"translate(129.589556 211.658498) scale(0.1 -0.1)\">\n",
       "       <defs>\n",
       "        <path id=\"CMR17-35\" d=\"M 730 3750 \n",
       "C 794 3724 1056 3641 1325 3641 \n",
       "C 1920 3641 2246 3961 2432 4140 \n",
       "C 2432 4191 2432 4224 2394 4224 \n",
       "C 2387 4224 2374 4224 2323 4198 \n",
       "C 2099 4102 1837 4032 1517 4032 \n",
       "C 1325 4032 1037 4055 723 4191 \n",
       "C 653 4224 640 4224 634 4224 \n",
       "C 602 4224 595 4217 595 4090 \n",
       "L 595 2231 \n",
       "C 595 2113 595 2080 659 2080 \n",
       "C 691 2080 704 2093 736 2139 \n",
       "C 941 2435 1222 2560 1542 2560 \n",
       "C 1766 2560 2246 2415 2246 1293 \n",
       "C 2246 1087 2246 716 2054 422 \n",
       "C 1894 159 1645 25 1370 25 \n",
       "C 947 25 518 319 403 812 \n",
       "C 429 806 480 793 506 793 \n",
       "C 589 793 749 838 749 1036 \n",
       "C 749 1209 627 1280 506 1280 \n",
       "C 358 1280 262 1190 262 1011 \n",
       "C 262 454 704 -128 1382 -128 \n",
       "C 2042 -128 2669 441 2669 1267 \n",
       "C 2669 2054 2170 2662 1549 2662 \n",
       "C 1222 2662 947 2540 730 2304 \n",
       "L 730 3750 \n",
       "z\n",
       "\" transform=\"scale(0.015625)\"/>\n",
       "       </defs>\n",
       "       <use xlink:href=\"#CMR17-30\" transform=\"scale(0.996264)\"/>\n",
       "       <use xlink:href=\"#CMMI12-3a\" transform=\"translate(45.690477 0) scale(0.996264)\"/>\n",
       "       <use xlink:href=\"#CMR17-35\" transform=\"translate(72.787654 0) scale(0.996264)\"/>\n",
       "      </g>\n",
       "     </g>\n",
       "    </g>\n",
       "    <g id=\"xtick_3\">\n",
       "     <g id=\"line2d_5\">\n",
       "      <path d=\"M 198.879647 201.24 \n",
       "L 198.879647 7.2 \n",
       "\" clip-path=\"url(#p25eaf62fcf)\" style=\"fill: none; stroke-dasharray: 0.3,0.495; stroke-dashoffset: 0; stroke: #000000; stroke-opacity: 0.5; stroke-width: 0.3\"/>\n",
       "     </g>\n",
       "     <g id=\"line2d_6\">\n",
       "      <g>\n",
       "       <use xlink:href=\"#m48a6032a71\" x=\"198.879647\" y=\"201.24\" style=\"stroke: #000000; stroke-width: 0.8\"/>\n",
       "      </g>\n",
       "     </g>\n",
       "     <g id=\"text_3\">\n",
       "      <!-- $\\mathdefault{1.0}$ -->\n",
       "      <g transform=\"translate(192.514608 211.658498) scale(0.1 -0.1)\">\n",
       "       <defs>\n",
       "        <path id=\"CMR17-31\" d=\"M 1702 4083 \n",
       "C 1702 4217 1696 4224 1606 4224 \n",
       "C 1357 3927 979 3833 621 3820 \n",
       "C 602 3820 570 3820 563 3808 \n",
       "C 557 3795 557 3782 557 3648 \n",
       "C 755 3648 1088 3686 1344 3839 \n",
       "L 1344 467 \n",
       "C 1344 243 1331 166 781 166 \n",
       "L 589 166 \n",
       "L 589 0 \n",
       "C 896 6 1216 12 1523 12 \n",
       "C 1830 12 2150 6 2458 0 \n",
       "L 2458 166 \n",
       "L 2266 166 \n",
       "C 1715 166 1702 236 1702 467 \n",
       "L 1702 4083 \n",
       "z\n",
       "\" transform=\"scale(0.015625)\"/>\n",
       "       </defs>\n",
       "       <use xlink:href=\"#CMR17-31\" transform=\"scale(0.996264)\"/>\n",
       "       <use xlink:href=\"#CMMI12-3a\" transform=\"translate(45.690477 0) scale(0.996264)\"/>\n",
       "       <use xlink:href=\"#CMR17-30\" transform=\"translate(72.787654 0) scale(0.996264)\"/>\n",
       "      </g>\n",
       "     </g>\n",
       "    </g>\n",
       "    <g id=\"xtick_4\">\n",
       "     <g id=\"line2d_7\">\n",
       "      <path d=\"M 261.804699 201.24 \n",
       "L 261.804699 7.2 \n",
       "\" clip-path=\"url(#p25eaf62fcf)\" style=\"fill: none; stroke-dasharray: 0.3,0.495; stroke-dashoffset: 0; stroke: #000000; stroke-opacity: 0.5; stroke-width: 0.3\"/>\n",
       "     </g>\n",
       "     <g id=\"line2d_8\">\n",
       "      <g>\n",
       "       <use xlink:href=\"#m48a6032a71\" x=\"261.804699\" y=\"201.24\" style=\"stroke: #000000; stroke-width: 0.8\"/>\n",
       "      </g>\n",
       "     </g>\n",
       "     <g id=\"text_4\">\n",
       "      <!-- $\\mathdefault{1.5}$ -->\n",
       "      <g transform=\"translate(255.43966 211.658498) scale(0.1 -0.1)\">\n",
       "       <use xlink:href=\"#CMR17-31\" transform=\"scale(0.996264)\"/>\n",
       "       <use xlink:href=\"#CMMI12-3a\" transform=\"translate(45.690477 0) scale(0.996264)\"/>\n",
       "       <use xlink:href=\"#CMR17-35\" transform=\"translate(72.787654 0) scale(0.996264)\"/>\n",
       "      </g>\n",
       "     </g>\n",
       "    </g>\n",
       "    <g id=\"xtick_5\">\n",
       "     <g id=\"line2d_9\">\n",
       "      <path d=\"M 324.729751 201.24 \n",
       "L 324.729751 7.2 \n",
       "\" clip-path=\"url(#p25eaf62fcf)\" style=\"fill: none; stroke-dasharray: 0.3,0.495; stroke-dashoffset: 0; stroke: #000000; stroke-opacity: 0.5; stroke-width: 0.3\"/>\n",
       "     </g>\n",
       "     <g id=\"line2d_10\">\n",
       "      <g>\n",
       "       <use xlink:href=\"#m48a6032a71\" x=\"324.729751\" y=\"201.24\" style=\"stroke: #000000; stroke-width: 0.8\"/>\n",
       "      </g>\n",
       "     </g>\n",
       "     <g id=\"text_5\">\n",
       "      <!-- $\\mathdefault{2.0}$ -->\n",
       "      <g transform=\"translate(318.364712 211.658498) scale(0.1 -0.1)\">\n",
       "       <defs>\n",
       "        <path id=\"CMR17-32\" d=\"M 2669 990 \n",
       "L 2554 990 \n",
       "C 2490 537 2438 460 2413 422 \n",
       "C 2381 371 1920 371 1830 371 \n",
       "L 602 371 \n",
       "C 832 620 1280 1073 1824 1596 \n",
       "C 2214 1966 2669 2400 2669 3033 \n",
       "C 2669 3788 2067 4224 1395 4224 \n",
       "C 691 4224 262 3603 262 3027 \n",
       "C 262 2777 448 2745 525 2745 \n",
       "C 589 2745 781 2783 781 3007 \n",
       "C 781 3206 614 3264 525 3264 \n",
       "C 486 3264 448 3257 422 3244 \n",
       "C 544 3788 915 4057 1306 4057 \n",
       "C 1862 4057 2227 3616 2227 3033 \n",
       "C 2227 2477 1901 1998 1536 1583 \n",
       "L 262 147 \n",
       "L 262 0 \n",
       "L 2515 0 \n",
       "L 2669 990 \n",
       "z\n",
       "\" transform=\"scale(0.015625)\"/>\n",
       "       </defs>\n",
       "       <use xlink:href=\"#CMR17-32\" transform=\"scale(0.996264)\"/>\n",
       "       <use xlink:href=\"#CMMI12-3a\" transform=\"translate(45.690477 0) scale(0.996264)\"/>\n",
       "       <use xlink:href=\"#CMR17-30\" transform=\"translate(72.787654 0) scale(0.996264)\"/>\n",
       "      </g>\n",
       "     </g>\n",
       "    </g>\n",
       "    <g id=\"xtick_6\">\n",
       "     <g id=\"line2d_11\">\n",
       "      <path d=\"M 387.654804 201.24 \n",
       "L 387.654804 7.2 \n",
       "\" clip-path=\"url(#p25eaf62fcf)\" style=\"fill: none; stroke-dasharray: 0.3,0.495; stroke-dashoffset: 0; stroke: #000000; stroke-opacity: 0.5; stroke-width: 0.3\"/>\n",
       "     </g>\n",
       "     <g id=\"line2d_12\">\n",
       "      <g>\n",
       "       <use xlink:href=\"#m48a6032a71\" x=\"387.654804\" y=\"201.24\" style=\"stroke: #000000; stroke-width: 0.8\"/>\n",
       "      </g>\n",
       "     </g>\n",
       "     <g id=\"text_6\">\n",
       "      <!-- $\\mathdefault{2.5}$ -->\n",
       "      <g transform=\"translate(381.289764 211.658498) scale(0.1 -0.1)\">\n",
       "       <use xlink:href=\"#CMR17-32\" transform=\"scale(0.996264)\"/>\n",
       "       <use xlink:href=\"#CMMI12-3a\" transform=\"translate(45.690477 0) scale(0.996264)\"/>\n",
       "       <use xlink:href=\"#CMR17-35\" transform=\"translate(72.787654 0) scale(0.996264)\"/>\n",
       "      </g>\n",
       "     </g>\n",
       "    </g>\n",
       "    <g id=\"text_7\">\n",
       "     <!-- $x$ [m] -->\n",
       "     <g transform=\"translate(224.486986 226.562053) scale(0.12 -0.12)\">\n",
       "      <defs>\n",
       "       <path id=\"CMMI12-78\" d=\"M 3034 2624 \n",
       "C 2829 2585 2752 2431 2752 2310 \n",
       "C 2752 2156 2874 2105 2963 2105 \n",
       "C 3155 2105 3290 2271 3290 2444 \n",
       "C 3290 2694 2982 2816 2714 2816 \n",
       "C 2323 2816 2106 2451 2048 2329 \n",
       "C 1901 2790 1504 2816 1389 2816 \n",
       "C 736 2816 390 1993 390 1849 \n",
       "C 390 1823 416 1790 461 1790 \n",
       "C 512 1790 525 1829 538 1855 \n",
       "C 755 2572 1184 2687 1370 2687 \n",
       "C 1658 2687 1715 2438 1715 2284 \n",
       "C 1715 2143 1677 1993 1600 1678 \n",
       "L 1382 778 \n",
       "C 1286 390 1101 64 762 64 \n",
       "C 730 64 570 64 435 126 \n",
       "C 666 166 717 358 717 435 \n",
       "C 717 563 621 640 499 640 \n",
       "C 346 640 179 505 179 300 \n",
       "C 179 57 480 -64 755 -64 \n",
       "C 1062 -64 1280 153 1414 415 \n",
       "C 1517 64 1837 -64 2074 -64 \n",
       "C 2726 -64 3072 751 3072 896 \n",
       "C 3072 929 3046 955 3008 955 \n",
       "C 2950 955 2944 922 2925 870 \n",
       "C 2752 300 2381 64 2093 64 \n",
       "C 1869 64 1747 204 1747 467 \n",
       "C 1747 607 1773 712 1875 1146 \n",
       "L 2099 2039 \n",
       "C 2195 2425 2413 2687 2707 2687 \n",
       "C 2720 2687 2899 2687 3034 2624 \n",
       "z\n",
       "\" transform=\"scale(0.015625)\"/>\n",
       "       <path id=\"CMR17-5b\" d=\"M 1504 -1600 \n",
       "L 1504 -1376 \n",
       "L 902 -1376 \n",
       "L 902 4575 \n",
       "L 1504 4575 \n",
       "L 1504 4800 \n",
       "L 678 4800 \n",
       "L 678 -1600 \n",
       "L 1504 -1600 \n",
       "z\n",
       "\" transform=\"scale(0.015625)\"/>\n",
       "       <path id=\"CMR17-6d\" d=\"M 4326 1954 \n",
       "C 4326 2276 4269 2816 3507 2816 \n",
       "C 3072 2816 2771 2520 2656 2173 \n",
       "L 2650 2173 \n",
       "C 2573 2700 2195 2816 1837 2816 \n",
       "C 1331 2816 1069 2424 973 2166 \n",
       "L 966 2166 \n",
       "L 966 2816 \n",
       "L 211 2745 \n",
       "L 211 2578 \n",
       "C 589 2578 646 2540 646 2231 \n",
       "L 646 443 \n",
       "C 646 198 621 166 211 166 \n",
       "L 211 0 \n",
       "C 365 12 646 12 813 12 \n",
       "C 979 12 1267 12 1421 0 \n",
       "L 1421 166 \n",
       "C 1011 166 986 192 986 443 \n",
       "L 986 1678 \n",
       "C 986 2269 1344 2713 1792 2713 \n",
       "C 2266 2713 2317 2289 2317 1980 \n",
       "L 2317 443 \n",
       "C 2317 198 2291 166 1882 166 \n",
       "L 1882 0 \n",
       "C 2035 12 2317 12 2483 12 \n",
       "C 2650 12 2938 12 3091 0 \n",
       "L 3091 166 \n",
       "C 2682 166 2656 192 2656 443 \n",
       "L 2656 1678 \n",
       "C 2656 2269 3014 2713 3462 2713 \n",
       "C 3936 2713 3987 2289 3987 1980 \n",
       "L 3987 443 \n",
       "C 3987 198 3962 166 3552 166 \n",
       "L 3552 0 \n",
       "C 3706 12 3987 12 4154 12 \n",
       "C 4320 12 4608 12 4762 0 \n",
       "L 4762 166 \n",
       "C 4352 166 4326 192 4326 443 \n",
       "L 4326 1954 \n",
       "z\n",
       "\" transform=\"scale(0.015625)\"/>\n",
       "       <path id=\"CMR17-5d\" d=\"M 915 4800 \n",
       "L 90 4800 \n",
       "L 90 4575 \n",
       "L 691 4575 \n",
       "L 691 -1376 \n",
       "L 90 -1376 \n",
       "L 90 -1600 \n",
       "L 915 -1600 \n",
       "L 915 4800 \n",
       "z\n",
       "\" transform=\"scale(0.015625)\"/>\n",
       "      </defs>\n",
       "      <use xlink:href=\"#CMMI12-78\" transform=\"scale(0.996264)\"/>\n",
       "      <use xlink:href=\"#CMR17-5b\" transform=\"translate(85.510026 0) scale(0.996264)\"/>\n",
       "      <use xlink:href=\"#CMR17-6d\" transform=\"translate(110.381084 0) scale(0.996264)\"/>\n",
       "      <use xlink:href=\"#CMR17-5d\" transform=\"translate(187.300674 0) scale(0.996264)\"/>\n",
       "     </g>\n",
       "    </g>\n",
       "   </g>\n",
       "   <g id=\"matplotlib.axis_2\">\n",
       "    <g id=\"ytick_1\">\n",
       "     <g id=\"line2d_13\">\n",
       "      <path d=\"M 56.54318 192.42 \n",
       "L 419.24318 192.42 \n",
       "\" clip-path=\"url(#p25eaf62fcf)\" style=\"fill: none; stroke-dasharray: 0.3,0.495; stroke-dashoffset: 0; stroke: #000000; stroke-opacity: 0.5; stroke-width: 0.3\"/>\n",
       "     </g>\n",
       "     <g id=\"line2d_14\">\n",
       "      <defs>\n",
       "       <path id=\"mab9f1f32b7\" d=\"M 0 0 \n",
       "L 3.5 0 \n",
       "\" style=\"stroke: #000000; stroke-width: 0.8\"/>\n",
       "      </defs>\n",
       "      <g>\n",
       "       <use xlink:href=\"#mab9f1f32b7\" x=\"56.54318\" y=\"192.42\" style=\"stroke: #000000; stroke-width: 0.8\"/>\n",
       "      </g>\n",
       "     </g>\n",
       "     <g id=\"text_8\">\n",
       "      <!-- $\\mathdefault{0}$ -->\n",
       "      <g transform=\"translate(48.061844 195.879249) scale(0.1 -0.1)\">\n",
       "       <use xlink:href=\"#CMR17-30\" transform=\"scale(0.996264)\"/>\n",
       "      </g>\n",
       "     </g>\n",
       "    </g>\n",
       "    <g id=\"ytick_2\">\n",
       "     <g id=\"line2d_15\">\n",
       "      <path d=\"M 56.54318 166.780225 \n",
       "L 419.24318 166.780225 \n",
       "\" clip-path=\"url(#p25eaf62fcf)\" style=\"fill: none; stroke-dasharray: 0.3,0.495; stroke-dashoffset: 0; stroke: #000000; stroke-opacity: 0.5; stroke-width: 0.3\"/>\n",
       "     </g>\n",
       "     <g id=\"line2d_16\">\n",
       "      <g>\n",
       "       <use xlink:href=\"#mab9f1f32b7\" x=\"56.54318\" y=\"166.780225\" style=\"stroke: #000000; stroke-width: 0.8\"/>\n",
       "      </g>\n",
       "     </g>\n",
       "     <g id=\"text_9\">\n",
       "      <!-- $\\mathdefault{20000}$ -->\n",
       "      <g transform=\"translate(28.136503 170.239474) scale(0.1 -0.1)\">\n",
       "       <use xlink:href=\"#CMR17-32\" transform=\"scale(0.996264)\"/>\n",
       "       <use xlink:href=\"#CMR17-30\" transform=\"translate(45.690477 0) scale(0.996264)\"/>\n",
       "       <use xlink:href=\"#CMR17-30\" transform=\"translate(91.380954 0) scale(0.996264)\"/>\n",
       "       <use xlink:href=\"#CMR17-30\" transform=\"translate(137.071431 0) scale(0.996264)\"/>\n",
       "       <use xlink:href=\"#CMR17-30\" transform=\"translate(182.761908 0) scale(0.996264)\"/>\n",
       "      </g>\n",
       "     </g>\n",
       "    </g>\n",
       "    <g id=\"ytick_3\">\n",
       "     <g id=\"line2d_17\">\n",
       "      <path d=\"M 56.54318 141.140449 \n",
       "L 419.24318 141.140449 \n",
       "\" clip-path=\"url(#p25eaf62fcf)\" style=\"fill: none; stroke-dasharray: 0.3,0.495; stroke-dashoffset: 0; stroke: #000000; stroke-opacity: 0.5; stroke-width: 0.3\"/>\n",
       "     </g>\n",
       "     <g id=\"line2d_18\">\n",
       "      <g>\n",
       "       <use xlink:href=\"#mab9f1f32b7\" x=\"56.54318\" y=\"141.140449\" style=\"stroke: #000000; stroke-width: 0.8\"/>\n",
       "      </g>\n",
       "     </g>\n",
       "     <g id=\"text_10\">\n",
       "      <!-- $\\mathdefault{40000}$ -->\n",
       "      <g transform=\"translate(28.136503 144.599699) scale(0.1 -0.1)\">\n",
       "       <defs>\n",
       "        <path id=\"CMR17-34\" d=\"M 2150 4147 \n",
       "C 2150 4281 2144 4288 2029 4288 \n",
       "L 128 1254 \n",
       "L 128 1088 \n",
       "L 1779 1088 \n",
       "L 1779 460 \n",
       "C 1779 230 1766 166 1318 166 \n",
       "L 1197 166 \n",
       "L 1197 0 \n",
       "C 1402 12 1747 12 1965 12 \n",
       "C 2182 12 2528 12 2733 0 \n",
       "L 2733 166 \n",
       "L 2611 166 \n",
       "C 2163 166 2150 230 2150 460 \n",
       "L 2150 1088 \n",
       "L 2803 1088 \n",
       "L 2803 1254 \n",
       "L 2150 1254 \n",
       "L 2150 4147 \n",
       "z\n",
       "M 1798 3723 \n",
       "L 1798 1254 \n",
       "L 256 1254 \n",
       "L 1798 3723 \n",
       "z\n",
       "\" transform=\"scale(0.015625)\"/>\n",
       "       </defs>\n",
       "       <use xlink:href=\"#CMR17-34\" transform=\"scale(0.996264)\"/>\n",
       "       <use xlink:href=\"#CMR17-30\" transform=\"translate(45.690477 0) scale(0.996264)\"/>\n",
       "       <use xlink:href=\"#CMR17-30\" transform=\"translate(91.380954 0) scale(0.996264)\"/>\n",
       "       <use xlink:href=\"#CMR17-30\" transform=\"translate(137.071431 0) scale(0.996264)\"/>\n",
       "       <use xlink:href=\"#CMR17-30\" transform=\"translate(182.761908 0) scale(0.996264)\"/>\n",
       "      </g>\n",
       "     </g>\n",
       "    </g>\n",
       "    <g id=\"ytick_4\">\n",
       "     <g id=\"line2d_19\">\n",
       "      <path d=\"M 56.54318 115.500674 \n",
       "L 419.24318 115.500674 \n",
       "\" clip-path=\"url(#p25eaf62fcf)\" style=\"fill: none; stroke-dasharray: 0.3,0.495; stroke-dashoffset: 0; stroke: #000000; stroke-opacity: 0.5; stroke-width: 0.3\"/>\n",
       "     </g>\n",
       "     <g id=\"line2d_20\">\n",
       "      <g>\n",
       "       <use xlink:href=\"#mab9f1f32b7\" x=\"56.54318\" y=\"115.500674\" style=\"stroke: #000000; stroke-width: 0.8\"/>\n",
       "      </g>\n",
       "     </g>\n",
       "     <g id=\"text_11\">\n",
       "      <!-- $\\mathdefault{60000}$ -->\n",
       "      <g transform=\"translate(28.136503 118.959923) scale(0.1 -0.1)\">\n",
       "       <defs>\n",
       "        <path id=\"CMR17-36\" d=\"M 678 2198 \n",
       "C 678 3712 1395 4076 1811 4076 \n",
       "C 1946 4076 2272 4049 2400 3782 \n",
       "C 2298 3782 2106 3782 2106 3558 \n",
       "C 2106 3385 2246 3328 2336 3328 \n",
       "C 2394 3328 2566 3353 2566 3571 \n",
       "C 2566 3987 2246 4224 1805 4224 \n",
       "C 1043 4224 243 3411 243 2011 \n",
       "C 243 257 966 -128 1478 -128 \n",
       "C 2099 -128 2688 431 2688 1295 \n",
       "C 2688 2101 2170 2688 1517 2688 \n",
       "C 1126 2688 838 2430 678 1979 \n",
       "L 678 2198 \n",
       "z\n",
       "M 1478 25 \n",
       "C 691 25 691 1212 691 1450 \n",
       "C 691 1914 909 2585 1504 2585 \n",
       "C 1613 2585 1926 2585 2138 2140 \n",
       "C 2253 1889 2253 1624 2253 1302 \n",
       "C 2253 954 2253 696 2118 438 \n",
       "C 1978 173 1773 25 1478 25 \n",
       "z\n",
       "\" transform=\"scale(0.015625)\"/>\n",
       "       </defs>\n",
       "       <use xlink:href=\"#CMR17-36\" transform=\"scale(0.996264)\"/>\n",
       "       <use xlink:href=\"#CMR17-30\" transform=\"translate(45.690477 0) scale(0.996264)\"/>\n",
       "       <use xlink:href=\"#CMR17-30\" transform=\"translate(91.380954 0) scale(0.996264)\"/>\n",
       "       <use xlink:href=\"#CMR17-30\" transform=\"translate(137.071431 0) scale(0.996264)\"/>\n",
       "       <use xlink:href=\"#CMR17-30\" transform=\"translate(182.761908 0) scale(0.996264)\"/>\n",
       "      </g>\n",
       "     </g>\n",
       "    </g>\n",
       "    <g id=\"ytick_5\">\n",
       "     <g id=\"line2d_21\">\n",
       "      <path d=\"M 56.54318 89.860899 \n",
       "L 419.24318 89.860899 \n",
       "\" clip-path=\"url(#p25eaf62fcf)\" style=\"fill: none; stroke-dasharray: 0.3,0.495; stroke-dashoffset: 0; stroke: #000000; stroke-opacity: 0.5; stroke-width: 0.3\"/>\n",
       "     </g>\n",
       "     <g id=\"line2d_22\">\n",
       "      <g>\n",
       "       <use xlink:href=\"#mab9f1f32b7\" x=\"56.54318\" y=\"89.860899\" style=\"stroke: #000000; stroke-width: 0.8\"/>\n",
       "      </g>\n",
       "     </g>\n",
       "     <g id=\"text_12\">\n",
       "      <!-- $\\mathdefault{80000}$ -->\n",
       "      <g transform=\"translate(28.136503 93.320148) scale(0.1 -0.1)\">\n",
       "       <defs>\n",
       "        <path id=\"CMR17-38\" d=\"M 1741 2289 \n",
       "C 2144 2494 2554 2803 2554 3298 \n",
       "C 2554 3884 1990 4224 1472 4224 \n",
       "C 890 4224 378 3800 378 3215 \n",
       "C 378 3054 416 2777 666 2533 \n",
       "C 730 2469 998 2276 1171 2154 \n",
       "C 883 2006 211 1652 211 945 \n",
       "C 211 282 838 -128 1459 -128 \n",
       "C 2144 -128 2720 366 2720 1022 \n",
       "C 2720 1607 2330 1877 2074 2051 \n",
       "L 1741 2289 \n",
       "z\n",
       "M 902 2855 \n",
       "C 851 2887 595 3086 595 3388 \n",
       "C 595 3781 998 4076 1459 4076 \n",
       "C 1965 4076 2336 3716 2336 3298 \n",
       "C 2336 2700 1670 2359 1638 2359 \n",
       "C 1632 2359 1626 2359 1574 2398 \n",
       "L 902 2855 \n",
       "z\n",
       "M 2080 1536 \n",
       "C 2176 1466 2483 1253 2483 861 \n",
       "C 2483 385 2010 25 1472 25 \n",
       "C 890 25 448 443 448 951 \n",
       "C 448 1459 838 1884 1280 2083 \n",
       "L 2080 1536 \n",
       "z\n",
       "\" transform=\"scale(0.015625)\"/>\n",
       "       </defs>\n",
       "       <use xlink:href=\"#CMR17-38\" transform=\"scale(0.996264)\"/>\n",
       "       <use xlink:href=\"#CMR17-30\" transform=\"translate(45.690477 0) scale(0.996264)\"/>\n",
       "       <use xlink:href=\"#CMR17-30\" transform=\"translate(91.380954 0) scale(0.996264)\"/>\n",
       "       <use xlink:href=\"#CMR17-30\" transform=\"translate(137.071431 0) scale(0.996264)\"/>\n",
       "       <use xlink:href=\"#CMR17-30\" transform=\"translate(182.761908 0) scale(0.996264)\"/>\n",
       "      </g>\n",
       "     </g>\n",
       "    </g>\n",
       "    <g id=\"ytick_6\">\n",
       "     <g id=\"line2d_23\">\n",
       "      <path d=\"M 56.54318 64.221123 \n",
       "L 419.24318 64.221123 \n",
       "\" clip-path=\"url(#p25eaf62fcf)\" style=\"fill: none; stroke-dasharray: 0.3,0.495; stroke-dashoffset: 0; stroke: #000000; stroke-opacity: 0.5; stroke-width: 0.3\"/>\n",
       "     </g>\n",
       "     <g id=\"line2d_24\">\n",
       "      <g>\n",
       "       <use xlink:href=\"#mab9f1f32b7\" x=\"56.54318\" y=\"64.221123\" style=\"stroke: #000000; stroke-width: 0.8\"/>\n",
       "      </g>\n",
       "     </g>\n",
       "     <g id=\"text_13\">\n",
       "      <!-- $\\mathdefault{100000}$ -->\n",
       "      <g transform=\"translate(23.155168 67.680373) scale(0.1 -0.1)\">\n",
       "       <use xlink:href=\"#CMR17-31\" transform=\"scale(0.996264)\"/>\n",
       "       <use xlink:href=\"#CMR17-30\" transform=\"translate(45.690477 0) scale(0.996264)\"/>\n",
       "       <use xlink:href=\"#CMR17-30\" transform=\"translate(91.380954 0) scale(0.996264)\"/>\n",
       "       <use xlink:href=\"#CMR17-30\" transform=\"translate(137.071431 0) scale(0.996264)\"/>\n",
       "       <use xlink:href=\"#CMR17-30\" transform=\"translate(182.761908 0) scale(0.996264)\"/>\n",
       "       <use xlink:href=\"#CMR17-30\" transform=\"translate(228.452386 0) scale(0.996264)\"/>\n",
       "      </g>\n",
       "     </g>\n",
       "    </g>\n",
       "    <g id=\"ytick_7\">\n",
       "     <g id=\"line2d_25\">\n",
       "      <path d=\"M 56.54318 38.581348 \n",
       "L 419.24318 38.581348 \n",
       "\" clip-path=\"url(#p25eaf62fcf)\" style=\"fill: none; stroke-dasharray: 0.3,0.495; stroke-dashoffset: 0; stroke: #000000; stroke-opacity: 0.5; stroke-width: 0.3\"/>\n",
       "     </g>\n",
       "     <g id=\"line2d_26\">\n",
       "      <g>\n",
       "       <use xlink:href=\"#mab9f1f32b7\" x=\"56.54318\" y=\"38.581348\" style=\"stroke: #000000; stroke-width: 0.8\"/>\n",
       "      </g>\n",
       "     </g>\n",
       "     <g id=\"text_14\">\n",
       "      <!-- $\\mathdefault{120000}$ -->\n",
       "      <g transform=\"translate(23.155168 42.040597) scale(0.1 -0.1)\">\n",
       "       <use xlink:href=\"#CMR17-31\" transform=\"scale(0.996264)\"/>\n",
       "       <use xlink:href=\"#CMR17-32\" transform=\"translate(45.690477 0) scale(0.996264)\"/>\n",
       "       <use xlink:href=\"#CMR17-30\" transform=\"translate(91.380954 0) scale(0.996264)\"/>\n",
       "       <use xlink:href=\"#CMR17-30\" transform=\"translate(137.071431 0) scale(0.996264)\"/>\n",
       "       <use xlink:href=\"#CMR17-30\" transform=\"translate(182.761908 0) scale(0.996264)\"/>\n",
       "       <use xlink:href=\"#CMR17-30\" transform=\"translate(228.452386 0) scale(0.996264)\"/>\n",
       "      </g>\n",
       "     </g>\n",
       "    </g>\n",
       "    <g id=\"ytick_8\">\n",
       "     <g id=\"line2d_27\">\n",
       "      <path d=\"M 56.54318 12.941573 \n",
       "L 419.24318 12.941573 \n",
       "\" clip-path=\"url(#p25eaf62fcf)\" style=\"fill: none; stroke-dasharray: 0.3,0.495; stroke-dashoffset: 0; stroke: #000000; stroke-opacity: 0.5; stroke-width: 0.3\"/>\n",
       "     </g>\n",
       "     <g id=\"line2d_28\">\n",
       "      <g>\n",
       "       <use xlink:href=\"#mab9f1f32b7\" x=\"56.54318\" y=\"12.941573\" style=\"stroke: #000000; stroke-width: 0.8\"/>\n",
       "      </g>\n",
       "     </g>\n",
       "     <g id=\"text_15\">\n",
       "      <!-- $\\mathdefault{140000}$ -->\n",
       "      <g transform=\"translate(23.155168 16.400822) scale(0.1 -0.1)\">\n",
       "       <use xlink:href=\"#CMR17-31\" transform=\"scale(0.996264)\"/>\n",
       "       <use xlink:href=\"#CMR17-34\" transform=\"translate(45.690477 0) scale(0.996264)\"/>\n",
       "       <use xlink:href=\"#CMR17-30\" transform=\"translate(91.380954 0) scale(0.996264)\"/>\n",
       "       <use xlink:href=\"#CMR17-30\" transform=\"translate(137.071431 0) scale(0.996264)\"/>\n",
       "       <use xlink:href=\"#CMR17-30\" transform=\"translate(182.761908 0) scale(0.996264)\"/>\n",
       "       <use xlink:href=\"#CMR17-30\" transform=\"translate(228.452386 0) scale(0.996264)\"/>\n",
       "      </g>\n",
       "     </g>\n",
       "    </g>\n",
       "    <g id=\"text_16\">\n",
       "     <!-- $M{\\left(x \\right)}$ [Nm] -->\n",
       "     <g transform=\"translate(16.166376 132.85299) rotate(-90) scale(0.12 -0.12)\">\n",
       "      <defs>\n",
       "       <path id=\"CMMI12-4d\" d=\"M 5811 3886 \n",
       "C 5869 4102 5882 4166 6336 4166 \n",
       "C 6458 4166 6515 4166 6515 4287 \n",
       "C 6515 4352 6470 4352 6349 4352 \n",
       "L 5581 4352 \n",
       "C 5421 4352 5414 4345 5344 4243 \n",
       "L 3008 567 \n",
       "L 2528 4211 \n",
       "C 2509 4352 2502 4352 2336 4352 \n",
       "L 1542 4352 \n",
       "C 1421 4352 1363 4352 1363 4230 \n",
       "C 1363 4166 1421 4166 1517 4166 \n",
       "C 1907 4166 1907 4115 1907 4045 \n",
       "C 1907 4032 1907 3994 1882 3898 \n",
       "L 1062 650 \n",
       "C 986 344 838 204 410 185 \n",
       "C 390 185 314 179 314 70 \n",
       "C 314 0 371 0 397 0 \n",
       "C 525 0 851 12 979 12 \n",
       "L 1286 12 \n",
       "C 1376 12 1485 0 1574 0 \n",
       "C 1619 0 1690 0 1690 121 \n",
       "C 1690 179 1626 185 1600 185 \n",
       "C 1389 191 1184 230 1184 459 \n",
       "C 1184 523 1184 529 1210 618 \n",
       "L 2093 4128 \n",
       "L 2099 4128 \n",
       "L 2630 172 \n",
       "C 2650 19 2656 0 2714 0 \n",
       "C 2784 0 2816 51 2848 108 \n",
       "L 5421 4159 \n",
       "L 5427 4159 \n",
       "L 4499 472 \n",
       "C 4442 249 4429 185 3981 185 \n",
       "C 3859 185 3795 185 3795 70 \n",
       "C 3795 0 3853 0 3891 0 \n",
       "C 4000 0 4128 12 4237 12 \n",
       "L 4992 12 \n",
       "C 5101 12 5235 0 5344 0 \n",
       "C 5395 0 5466 0 5466 121 \n",
       "C 5466 185 5408 185 5312 185 \n",
       "C 4922 185 4922 236 4922 300 \n",
       "C 4922 306 4922 351 4934 402 \n",
       "L 5811 3886 \n",
       "z\n",
       "\" transform=\"scale(0.015625)\"/>\n",
       "       <path id=\"CMR17-28\" d=\"M 1958 -1562 \n",
       "C 1958 -1556 1958 -1543 1939 -1524 \n",
       "C 1645 -1223 858 -403 858 1596 \n",
       "C 858 3595 1632 4408 1946 4729 \n",
       "C 1946 4735 1958 4748 1958 4767 \n",
       "C 1958 4787 1939 4800 1914 4800 \n",
       "C 1843 4800 1299 4325 986 3620 \n",
       "C 666 2909 576 2218 576 1603 \n",
       "C 576 1141 621 360 1005 -467 \n",
       "C 1312 -1133 1837 -1600 1914 -1600 \n",
       "C 1946 -1600 1958 -1588 1958 -1562 \n",
       "z\n",
       "\" transform=\"scale(0.015625)\"/>\n",
       "       <path id=\"CMR17-29\" d=\"M 1683 1596 \n",
       "C 1683 2057 1638 2839 1254 3665 \n",
       "C 947 4332 422 4800 346 4800 \n",
       "C 326 4800 301 4793 301 4761 \n",
       "C 301 4748 307 4742 314 4729 \n",
       "C 621 4408 1402 3595 1402 1603 \n",
       "C 1402 -396 627 -1210 314 -1530 \n",
       "C 307 -1543 301 -1549 301 -1562 \n",
       "C 301 -1594 326 -1600 346 -1600 \n",
       "C 416 -1600 960 -1127 1274 -422 \n",
       "C 1594 289 1683 981 1683 1596 \n",
       "z\n",
       "\" transform=\"scale(0.015625)\"/>\n",
       "       <path id=\"CMR17-4e\" d=\"M 1312 4275 \n",
       "C 1267 4345 1261 4352 1139 4352 \n",
       "L 326 4352 \n",
       "L 326 4185 \n",
       "L 448 4185 \n",
       "C 704 4185 819 4153 838 4147 \n",
       "L 838 624 \n",
       "C 838 465 838 166 326 166 \n",
       "L 326 0 \n",
       "C 474 12 742 12 902 12 \n",
       "C 1062 12 1331 12 1478 0 \n",
       "L 1478 166 \n",
       "C 966 166 966 465 966 624 \n",
       "L 966 4057 \n",
       "C 1011 4019 1011 4007 1056 3943 \n",
       "L 3430 76 \n",
       "C 3475 0 3494 0 3526 0 \n",
       "C 3590 0 3590 19 3590 140 \n",
       "L 3590 3726 \n",
       "C 3590 3885 3590 4185 4102 4185 \n",
       "L 4102 4352 \n",
       "C 3955 4339 3686 4339 3526 4339 \n",
       "C 3366 4339 3098 4339 2950 4352 \n",
       "L 2950 4185 \n",
       "C 3462 4185 3462 3885 3462 3726 \n",
       "L 3462 777 \n",
       "L 1312 4275 \n",
       "z\n",
       "\" transform=\"scale(0.015625)\"/>\n",
       "      </defs>\n",
       "      <use xlink:href=\"#CMMI12-4d\" transform=\"scale(0.996264)\"/>\n",
       "      <use xlink:href=\"#CMR17-28\" transform=\"translate(104.780079 0.003177) scale(0.996264)\"/>\n",
       "      <use xlink:href=\"#CMMI12-78\" transform=\"translate(140.060847 0) scale(0.996264)\"/>\n",
       "      <use xlink:href=\"#CMR17-29\" transform=\"translate(195.494906 0.003177) scale(0.996264)\"/>\n",
       "      <use xlink:href=\"#CMR17-5b\" transform=\"translate(260.85164 0) scale(0.996264)\"/>\n",
       "      <use xlink:href=\"#CMR17-4e\" transform=\"translate(285.722699 0) scale(0.996264)\"/>\n",
       "      <use xlink:href=\"#CMR17-6d\" transform=\"translate(354.795129 0) scale(0.996264)\"/>\n",
       "      <use xlink:href=\"#CMR17-5d\" transform=\"translate(431.714718 0) scale(0.996264)\"/>\n",
       "     </g>\n",
       "    </g>\n",
       "   </g>\n",
       "   <g id=\"line2d_29\">\n",
       "    <path d=\"M 73.029543 192.42 \n",
       "L 86.880859 192.402908 \n",
       "L 167.416366 16.02 \n",
       "L 167.482325 16.117688 \n",
       "L 283.305708 192.42 \n",
       "L 402.756816 192.42 \n",
       "L 402.756816 192.42 \n",
       "\" clip-path=\"url(#p25eaf62fcf)\" style=\"fill: none; stroke: #000000; stroke-width: 0.7; stroke-linecap: square\"/>\n",
       "   </g>\n",
       "   <g id=\"patch_3\">\n",
       "    <path d=\"M 56.54318 201.24 \n",
       "L 56.54318 7.2 \n",
       "\" style=\"fill: none; stroke: #000000; stroke-width: 0.5; stroke-linejoin: miter; stroke-linecap: square\"/>\n",
       "   </g>\n",
       "   <g id=\"patch_4\">\n",
       "    <path d=\"M 56.54318 201.24 \n",
       "L 419.24318 201.24 \n",
       "\" style=\"fill: none; stroke: #000000; stroke-width: 0.5; stroke-linejoin: miter; stroke-linecap: square\"/>\n",
       "   </g>\n",
       "  </g>\n",
       " </g>\n",
       " <defs>\n",
       "  <clipPath id=\"p25eaf62fcf\">\n",
       "   <rect x=\"56.54318\" y=\"7.2\" width=\"362.7\" height=\"194.04\"/>\n",
       "  </clipPath>\n",
       " </defs>\n",
       "</svg>\n"
      ],
      "text/plain": [
       "<Figure size 650x350 with 1 Axes>"
      ]
     },
     "metadata": {},
     "output_type": "display_data"
    }
   ],
   "source": [
    "#| label: fig-m_y_diagramm\n",
    "#| fig-cap: Biegemomentenverlauf für die Laststufe LS14\n",
    "\n",
    "\n",
    "plt.plot(x_array, M_x_array, color='black')\n",
    "\n",
    "plt.xlabel(f'${sp.latex(x)}$ [m]')\n",
    "plt.ylabel(f'${sp.latex(M_x)}$ [Nm]')\n",
    "plt.show()\n"
   ]
  },
  {
   "cell_type": "markdown",
   "metadata": {},
   "source": [
    "#### Zustandslinien der Krümmung\n",
    "\n",
    "Die Funktion der Biegemomente $M(x)$ als Eingabe in die Funktion der Krümmung $\\chi(M)$ resultiert zu folgender Zustandslinie der Krümmung.\n"
   ]
  },
  {
   "cell_type": "code",
   "execution_count": 49,
   "metadata": {},
   "outputs": [],
   "source": [
    "chi_M_versuch_2 = chi_M_lambda(M_x_array, *M_chi_params)\n"
   ]
  },
  {
   "cell_type": "code",
   "execution_count": 50,
   "metadata": {},
   "outputs": [
    {
     "data": {
      "image/svg+xml": [
       "<?xml version=\"1.0\" encoding=\"utf-8\" standalone=\"no\"?>\n",
       "<!DOCTYPE svg PUBLIC \"-//W3C//DTD SVG 1.1//EN\"\n",
       "  \"http://www.w3.org/Graphics/SVG/1.1/DTD/svg11.dtd\">\n",
       "<svg xmlns:xlink=\"http://www.w3.org/1999/xlink\" width=\"424.229253pt\" height=\"236.750845pt\" viewBox=\"0 0 424.229253 236.750845\" xmlns=\"http://www.w3.org/2000/svg\" version=\"1.1\">\n",
       " <metadata>\n",
       "  <rdf:RDF xmlns:dc=\"http://purl.org/dc/elements/1.1/\" xmlns:cc=\"http://creativecommons.org/ns#\" xmlns:rdf=\"http://www.w3.org/1999/02/22-rdf-syntax-ns#\">\n",
       "   <cc:Work>\n",
       "    <dc:type rdf:resource=\"http://purl.org/dc/dcmitype/StillImage\"/>\n",
       "    <dc:date>2023-09-29T14:54:50.787967</dc:date>\n",
       "    <dc:format>image/svg+xml</dc:format>\n",
       "    <dc:creator>\n",
       "     <cc:Agent>\n",
       "      <dc:title>Matplotlib v3.8.0, https://matplotlib.org/</dc:title>\n",
       "     </cc:Agent>\n",
       "    </dc:creator>\n",
       "   </cc:Work>\n",
       "  </rdf:RDF>\n",
       " </metadata>\n",
       " <defs>\n",
       "  <style type=\"text/css\">*{stroke-linejoin: round; stroke-linecap: butt}</style>\n",
       " </defs>\n",
       " <g id=\"figure_1\">\n",
       "  <g id=\"patch_1\">\n",
       "   <path d=\"M 0 236.750845 \n",
       "L 424.229253 236.750845 \n",
       "L 424.229253 -0 \n",
       "L 0 -0 \n",
       "z\n",
       "\" style=\"fill: #ffffff\"/>\n",
       "  </g>\n",
       "  <g id=\"axes_1\">\n",
       "   <g id=\"patch_2\">\n",
       "    <path d=\"M 54.329253 201.24 \n",
       "L 417.029253 201.24 \n",
       "L 417.029253 7.2 \n",
       "L 54.329253 7.2 \n",
       "z\n",
       "\" style=\"fill: #ffffff\"/>\n",
       "   </g>\n",
       "   <g id=\"matplotlib.axis_1\">\n",
       "    <g id=\"xtick_1\">\n",
       "     <g id=\"line2d_1\">\n",
       "      <path d=\"M 70.815616 201.24 \n",
       "L 70.815616 7.2 \n",
       "\" clip-path=\"url(#pa2069d38b1)\" style=\"fill: none; stroke-dasharray: 0.3,0.495; stroke-dashoffset: 0; stroke: #000000; stroke-opacity: 0.5; stroke-width: 0.3\"/>\n",
       "     </g>\n",
       "     <g id=\"line2d_2\">\n",
       "      <defs>\n",
       "       <path id=\"ma917bbedf9\" d=\"M 0 0 \n",
       "L 0 -3.5 \n",
       "\" style=\"stroke: #000000; stroke-width: 0.8\"/>\n",
       "      </defs>\n",
       "      <g>\n",
       "       <use xlink:href=\"#ma917bbedf9\" x=\"70.815616\" y=\"201.24\" style=\"stroke: #000000; stroke-width: 0.8\"/>\n",
       "      </g>\n",
       "     </g>\n",
       "     <g id=\"text_1\">\n",
       "      <!-- $\\mathdefault{0.0}$ -->\n",
       "      <g transform=\"translate(64.450577 211.658498) scale(0.1 -0.1)\">\n",
       "       <defs>\n",
       "        <path id=\"CMR17-30\" d=\"M 2688 2038 \n",
       "C 2688 2430 2682 3099 2413 3613 \n",
       "C 2176 4063 1798 4224 1466 4224 \n",
       "C 1158 4224 768 4082 525 3620 \n",
       "C 269 3137 243 2539 243 2038 \n",
       "C 243 1671 250 1112 448 623 \n",
       "C 723 -39 1216 -128 1466 -128 \n",
       "C 1760 -128 2208 -7 2470 604 \n",
       "C 2662 1048 2688 1568 2688 2038 \n",
       "z\n",
       "M 1466 -26 \n",
       "C 1056 -26 813 328 723 816 \n",
       "C 653 1196 653 1749 653 2109 \n",
       "C 653 2604 653 3015 736 3407 \n",
       "C 858 3954 1216 4121 1466 4121 \n",
       "C 1728 4121 2067 3947 2189 3420 \n",
       "C 2272 3054 2278 2623 2278 2109 \n",
       "C 2278 1691 2278 1176 2202 797 \n",
       "C 2067 96 1690 -26 1466 -26 \n",
       "z\n",
       "\" transform=\"scale(0.015625)\"/>\n",
       "        <path id=\"CMMI12-3a\" d=\"M 1178 307 \n",
       "C 1178 492 1024 620 870 620 \n",
       "C 685 620 557 467 557 313 \n",
       "C 557 128 710 0 864 0 \n",
       "C 1050 0 1178 153 1178 307 \n",
       "z\n",
       "\" transform=\"scale(0.015625)\"/>\n",
       "       </defs>\n",
       "       <use xlink:href=\"#CMR17-30\" transform=\"scale(0.996264)\"/>\n",
       "       <use xlink:href=\"#CMMI12-3a\" transform=\"translate(45.690477 0) scale(0.996264)\"/>\n",
       "       <use xlink:href=\"#CMR17-30\" transform=\"translate(72.787654 0) scale(0.996264)\"/>\n",
       "      </g>\n",
       "     </g>\n",
       "    </g>\n",
       "    <g id=\"xtick_2\">\n",
       "     <g id=\"line2d_3\">\n",
       "      <path d=\"M 133.740669 201.24 \n",
       "L 133.740669 7.2 \n",
       "\" clip-path=\"url(#pa2069d38b1)\" style=\"fill: none; stroke-dasharray: 0.3,0.495; stroke-dashoffset: 0; stroke: #000000; stroke-opacity: 0.5; stroke-width: 0.3\"/>\n",
       "     </g>\n",
       "     <g id=\"line2d_4\">\n",
       "      <g>\n",
       "       <use xlink:href=\"#ma917bbedf9\" x=\"133.740669\" y=\"201.24\" style=\"stroke: #000000; stroke-width: 0.8\"/>\n",
       "      </g>\n",
       "     </g>\n",
       "     <g id=\"text_2\">\n",
       "      <!-- $\\mathdefault{0.5}$ -->\n",
       "      <g transform=\"translate(127.375629 211.658498) scale(0.1 -0.1)\">\n",
       "       <defs>\n",
       "        <path id=\"CMR17-35\" d=\"M 730 3750 \n",
       "C 794 3724 1056 3641 1325 3641 \n",
       "C 1920 3641 2246 3961 2432 4140 \n",
       "C 2432 4191 2432 4224 2394 4224 \n",
       "C 2387 4224 2374 4224 2323 4198 \n",
       "C 2099 4102 1837 4032 1517 4032 \n",
       "C 1325 4032 1037 4055 723 4191 \n",
       "C 653 4224 640 4224 634 4224 \n",
       "C 602 4224 595 4217 595 4090 \n",
       "L 595 2231 \n",
       "C 595 2113 595 2080 659 2080 \n",
       "C 691 2080 704 2093 736 2139 \n",
       "C 941 2435 1222 2560 1542 2560 \n",
       "C 1766 2560 2246 2415 2246 1293 \n",
       "C 2246 1087 2246 716 2054 422 \n",
       "C 1894 159 1645 25 1370 25 \n",
       "C 947 25 518 319 403 812 \n",
       "C 429 806 480 793 506 793 \n",
       "C 589 793 749 838 749 1036 \n",
       "C 749 1209 627 1280 506 1280 \n",
       "C 358 1280 262 1190 262 1011 \n",
       "C 262 454 704 -128 1382 -128 \n",
       "C 2042 -128 2669 441 2669 1267 \n",
       "C 2669 2054 2170 2662 1549 2662 \n",
       "C 1222 2662 947 2540 730 2304 \n",
       "L 730 3750 \n",
       "z\n",
       "\" transform=\"scale(0.015625)\"/>\n",
       "       </defs>\n",
       "       <use xlink:href=\"#CMR17-30\" transform=\"scale(0.996264)\"/>\n",
       "       <use xlink:href=\"#CMMI12-3a\" transform=\"translate(45.690477 0) scale(0.996264)\"/>\n",
       "       <use xlink:href=\"#CMR17-35\" transform=\"translate(72.787654 0) scale(0.996264)\"/>\n",
       "      </g>\n",
       "     </g>\n",
       "    </g>\n",
       "    <g id=\"xtick_3\">\n",
       "     <g id=\"line2d_5\">\n",
       "      <path d=\"M 196.665721 201.24 \n",
       "L 196.665721 7.2 \n",
       "\" clip-path=\"url(#pa2069d38b1)\" style=\"fill: none; stroke-dasharray: 0.3,0.495; stroke-dashoffset: 0; stroke: #000000; stroke-opacity: 0.5; stroke-width: 0.3\"/>\n",
       "     </g>\n",
       "     <g id=\"line2d_6\">\n",
       "      <g>\n",
       "       <use xlink:href=\"#ma917bbedf9\" x=\"196.665721\" y=\"201.24\" style=\"stroke: #000000; stroke-width: 0.8\"/>\n",
       "      </g>\n",
       "     </g>\n",
       "     <g id=\"text_3\">\n",
       "      <!-- $\\mathdefault{1.0}$ -->\n",
       "      <g transform=\"translate(190.300681 211.658498) scale(0.1 -0.1)\">\n",
       "       <defs>\n",
       "        <path id=\"CMR17-31\" d=\"M 1702 4083 \n",
       "C 1702 4217 1696 4224 1606 4224 \n",
       "C 1357 3927 979 3833 621 3820 \n",
       "C 602 3820 570 3820 563 3808 \n",
       "C 557 3795 557 3782 557 3648 \n",
       "C 755 3648 1088 3686 1344 3839 \n",
       "L 1344 467 \n",
       "C 1344 243 1331 166 781 166 \n",
       "L 589 166 \n",
       "L 589 0 \n",
       "C 896 6 1216 12 1523 12 \n",
       "C 1830 12 2150 6 2458 0 \n",
       "L 2458 166 \n",
       "L 2266 166 \n",
       "C 1715 166 1702 236 1702 467 \n",
       "L 1702 4083 \n",
       "z\n",
       "\" transform=\"scale(0.015625)\"/>\n",
       "       </defs>\n",
       "       <use xlink:href=\"#CMR17-31\" transform=\"scale(0.996264)\"/>\n",
       "       <use xlink:href=\"#CMMI12-3a\" transform=\"translate(45.690477 0) scale(0.996264)\"/>\n",
       "       <use xlink:href=\"#CMR17-30\" transform=\"translate(72.787654 0) scale(0.996264)\"/>\n",
       "      </g>\n",
       "     </g>\n",
       "    </g>\n",
       "    <g id=\"xtick_4\">\n",
       "     <g id=\"line2d_7\">\n",
       "      <path d=\"M 259.590773 201.24 \n",
       "L 259.590773 7.2 \n",
       "\" clip-path=\"url(#pa2069d38b1)\" style=\"fill: none; stroke-dasharray: 0.3,0.495; stroke-dashoffset: 0; stroke: #000000; stroke-opacity: 0.5; stroke-width: 0.3\"/>\n",
       "     </g>\n",
       "     <g id=\"line2d_8\">\n",
       "      <g>\n",
       "       <use xlink:href=\"#ma917bbedf9\" x=\"259.590773\" y=\"201.24\" style=\"stroke: #000000; stroke-width: 0.8\"/>\n",
       "      </g>\n",
       "     </g>\n",
       "     <g id=\"text_4\">\n",
       "      <!-- $\\mathdefault{1.5}$ -->\n",
       "      <g transform=\"translate(253.225733 211.658498) scale(0.1 -0.1)\">\n",
       "       <use xlink:href=\"#CMR17-31\" transform=\"scale(0.996264)\"/>\n",
       "       <use xlink:href=\"#CMMI12-3a\" transform=\"translate(45.690477 0) scale(0.996264)\"/>\n",
       "       <use xlink:href=\"#CMR17-35\" transform=\"translate(72.787654 0) scale(0.996264)\"/>\n",
       "      </g>\n",
       "     </g>\n",
       "    </g>\n",
       "    <g id=\"xtick_5\">\n",
       "     <g id=\"line2d_9\">\n",
       "      <path d=\"M 322.515825 201.24 \n",
       "L 322.515825 7.2 \n",
       "\" clip-path=\"url(#pa2069d38b1)\" style=\"fill: none; stroke-dasharray: 0.3,0.495; stroke-dashoffset: 0; stroke: #000000; stroke-opacity: 0.5; stroke-width: 0.3\"/>\n",
       "     </g>\n",
       "     <g id=\"line2d_10\">\n",
       "      <g>\n",
       "       <use xlink:href=\"#ma917bbedf9\" x=\"322.515825\" y=\"201.24\" style=\"stroke: #000000; stroke-width: 0.8\"/>\n",
       "      </g>\n",
       "     </g>\n",
       "     <g id=\"text_5\">\n",
       "      <!-- $\\mathdefault{2.0}$ -->\n",
       "      <g transform=\"translate(316.150785 211.658498) scale(0.1 -0.1)\">\n",
       "       <defs>\n",
       "        <path id=\"CMR17-32\" d=\"M 2669 990 \n",
       "L 2554 990 \n",
       "C 2490 537 2438 460 2413 422 \n",
       "C 2381 371 1920 371 1830 371 \n",
       "L 602 371 \n",
       "C 832 620 1280 1073 1824 1596 \n",
       "C 2214 1966 2669 2400 2669 3033 \n",
       "C 2669 3788 2067 4224 1395 4224 \n",
       "C 691 4224 262 3603 262 3027 \n",
       "C 262 2777 448 2745 525 2745 \n",
       "C 589 2745 781 2783 781 3007 \n",
       "C 781 3206 614 3264 525 3264 \n",
       "C 486 3264 448 3257 422 3244 \n",
       "C 544 3788 915 4057 1306 4057 \n",
       "C 1862 4057 2227 3616 2227 3033 \n",
       "C 2227 2477 1901 1998 1536 1583 \n",
       "L 262 147 \n",
       "L 262 0 \n",
       "L 2515 0 \n",
       "L 2669 990 \n",
       "z\n",
       "\" transform=\"scale(0.015625)\"/>\n",
       "       </defs>\n",
       "       <use xlink:href=\"#CMR17-32\" transform=\"scale(0.996264)\"/>\n",
       "       <use xlink:href=\"#CMMI12-3a\" transform=\"translate(45.690477 0) scale(0.996264)\"/>\n",
       "       <use xlink:href=\"#CMR17-30\" transform=\"translate(72.787654 0) scale(0.996264)\"/>\n",
       "      </g>\n",
       "     </g>\n",
       "    </g>\n",
       "    <g id=\"xtick_6\">\n",
       "     <g id=\"line2d_11\">\n",
       "      <path d=\"M 385.440877 201.24 \n",
       "L 385.440877 7.2 \n",
       "\" clip-path=\"url(#pa2069d38b1)\" style=\"fill: none; stroke-dasharray: 0.3,0.495; stroke-dashoffset: 0; stroke: #000000; stroke-opacity: 0.5; stroke-width: 0.3\"/>\n",
       "     </g>\n",
       "     <g id=\"line2d_12\">\n",
       "      <g>\n",
       "       <use xlink:href=\"#ma917bbedf9\" x=\"385.440877\" y=\"201.24\" style=\"stroke: #000000; stroke-width: 0.8\"/>\n",
       "      </g>\n",
       "     </g>\n",
       "     <g id=\"text_6\">\n",
       "      <!-- $\\mathdefault{2.5}$ -->\n",
       "      <g transform=\"translate(379.075837 211.658498) scale(0.1 -0.1)\">\n",
       "       <use xlink:href=\"#CMR17-32\" transform=\"scale(0.996264)\"/>\n",
       "       <use xlink:href=\"#CMMI12-3a\" transform=\"translate(45.690477 0) scale(0.996264)\"/>\n",
       "       <use xlink:href=\"#CMR17-35\" transform=\"translate(72.787654 0) scale(0.996264)\"/>\n",
       "      </g>\n",
       "     </g>\n",
       "    </g>\n",
       "    <g id=\"text_7\">\n",
       "     <!-- $x$ [m] -->\n",
       "     <g transform=\"translate(222.273059 226.562053) scale(0.12 -0.12)\">\n",
       "      <defs>\n",
       "       <path id=\"CMMI12-78\" d=\"M 3034 2624 \n",
       "C 2829 2585 2752 2431 2752 2310 \n",
       "C 2752 2156 2874 2105 2963 2105 \n",
       "C 3155 2105 3290 2271 3290 2444 \n",
       "C 3290 2694 2982 2816 2714 2816 \n",
       "C 2323 2816 2106 2451 2048 2329 \n",
       "C 1901 2790 1504 2816 1389 2816 \n",
       "C 736 2816 390 1993 390 1849 \n",
       "C 390 1823 416 1790 461 1790 \n",
       "C 512 1790 525 1829 538 1855 \n",
       "C 755 2572 1184 2687 1370 2687 \n",
       "C 1658 2687 1715 2438 1715 2284 \n",
       "C 1715 2143 1677 1993 1600 1678 \n",
       "L 1382 778 \n",
       "C 1286 390 1101 64 762 64 \n",
       "C 730 64 570 64 435 126 \n",
       "C 666 166 717 358 717 435 \n",
       "C 717 563 621 640 499 640 \n",
       "C 346 640 179 505 179 300 \n",
       "C 179 57 480 -64 755 -64 \n",
       "C 1062 -64 1280 153 1414 415 \n",
       "C 1517 64 1837 -64 2074 -64 \n",
       "C 2726 -64 3072 751 3072 896 \n",
       "C 3072 929 3046 955 3008 955 \n",
       "C 2950 955 2944 922 2925 870 \n",
       "C 2752 300 2381 64 2093 64 \n",
       "C 1869 64 1747 204 1747 467 \n",
       "C 1747 607 1773 712 1875 1146 \n",
       "L 2099 2039 \n",
       "C 2195 2425 2413 2687 2707 2687 \n",
       "C 2720 2687 2899 2687 3034 2624 \n",
       "z\n",
       "\" transform=\"scale(0.015625)\"/>\n",
       "       <path id=\"CMR17-5b\" d=\"M 1504 -1600 \n",
       "L 1504 -1376 \n",
       "L 902 -1376 \n",
       "L 902 4575 \n",
       "L 1504 4575 \n",
       "L 1504 4800 \n",
       "L 678 4800 \n",
       "L 678 -1600 \n",
       "L 1504 -1600 \n",
       "z\n",
       "\" transform=\"scale(0.015625)\"/>\n",
       "       <path id=\"CMR17-6d\" d=\"M 4326 1954 \n",
       "C 4326 2276 4269 2816 3507 2816 \n",
       "C 3072 2816 2771 2520 2656 2173 \n",
       "L 2650 2173 \n",
       "C 2573 2700 2195 2816 1837 2816 \n",
       "C 1331 2816 1069 2424 973 2166 \n",
       "L 966 2166 \n",
       "L 966 2816 \n",
       "L 211 2745 \n",
       "L 211 2578 \n",
       "C 589 2578 646 2540 646 2231 \n",
       "L 646 443 \n",
       "C 646 198 621 166 211 166 \n",
       "L 211 0 \n",
       "C 365 12 646 12 813 12 \n",
       "C 979 12 1267 12 1421 0 \n",
       "L 1421 166 \n",
       "C 1011 166 986 192 986 443 \n",
       "L 986 1678 \n",
       "C 986 2269 1344 2713 1792 2713 \n",
       "C 2266 2713 2317 2289 2317 1980 \n",
       "L 2317 443 \n",
       "C 2317 198 2291 166 1882 166 \n",
       "L 1882 0 \n",
       "C 2035 12 2317 12 2483 12 \n",
       "C 2650 12 2938 12 3091 0 \n",
       "L 3091 166 \n",
       "C 2682 166 2656 192 2656 443 \n",
       "L 2656 1678 \n",
       "C 2656 2269 3014 2713 3462 2713 \n",
       "C 3936 2713 3987 2289 3987 1980 \n",
       "L 3987 443 \n",
       "C 3987 198 3962 166 3552 166 \n",
       "L 3552 0 \n",
       "C 3706 12 3987 12 4154 12 \n",
       "C 4320 12 4608 12 4762 0 \n",
       "L 4762 166 \n",
       "C 4352 166 4326 192 4326 443 \n",
       "L 4326 1954 \n",
       "z\n",
       "\" transform=\"scale(0.015625)\"/>\n",
       "       <path id=\"CMR17-5d\" d=\"M 915 4800 \n",
       "L 90 4800 \n",
       "L 90 4575 \n",
       "L 691 4575 \n",
       "L 691 -1376 \n",
       "L 90 -1376 \n",
       "L 90 -1600 \n",
       "L 915 -1600 \n",
       "L 915 4800 \n",
       "z\n",
       "\" transform=\"scale(0.015625)\"/>\n",
       "      </defs>\n",
       "      <use xlink:href=\"#CMMI12-78\" transform=\"scale(0.996264)\"/>\n",
       "      <use xlink:href=\"#CMR17-5b\" transform=\"translate(85.510026 0) scale(0.996264)\"/>\n",
       "      <use xlink:href=\"#CMR17-6d\" transform=\"translate(110.381084 0) scale(0.996264)\"/>\n",
       "      <use xlink:href=\"#CMR17-5d\" transform=\"translate(187.300674 0) scale(0.996264)\"/>\n",
       "     </g>\n",
       "    </g>\n",
       "   </g>\n",
       "   <g id=\"matplotlib.axis_2\">\n",
       "    <g id=\"ytick_1\">\n",
       "     <g id=\"line2d_13\">\n",
       "      <path d=\"M 54.329253 192.42 \n",
       "L 417.029253 192.42 \n",
       "\" clip-path=\"url(#pa2069d38b1)\" style=\"fill: none; stroke-dasharray: 0.3,0.495; stroke-dashoffset: 0; stroke: #000000; stroke-opacity: 0.5; stroke-width: 0.3\"/>\n",
       "     </g>\n",
       "     <g id=\"line2d_14\">\n",
       "      <defs>\n",
       "       <path id=\"m3a1f8320dc\" d=\"M 0 0 \n",
       "L 3.5 0 \n",
       "\" style=\"stroke: #000000; stroke-width: 0.8\"/>\n",
       "      </defs>\n",
       "      <g>\n",
       "       <use xlink:href=\"#m3a1f8320dc\" x=\"54.329253\" y=\"192.42\" style=\"stroke: #000000; stroke-width: 0.8\"/>\n",
       "      </g>\n",
       "     </g>\n",
       "     <g id=\"text_8\">\n",
       "      <!-- $\\mathdefault{0.0000}$ -->\n",
       "      <g transform=\"translate(23.155168 195.879249) scale(0.1 -0.1)\">\n",
       "       <use xlink:href=\"#CMR17-30\" transform=\"scale(0.996264)\"/>\n",
       "       <use xlink:href=\"#CMMI12-3a\" transform=\"translate(45.690477 0) scale(0.996264)\"/>\n",
       "       <use xlink:href=\"#CMR17-30\" transform=\"translate(72.787654 0) scale(0.996264)\"/>\n",
       "       <use xlink:href=\"#CMR17-30\" transform=\"translate(118.478131 0) scale(0.996264)\"/>\n",
       "       <use xlink:href=\"#CMR17-30\" transform=\"translate(164.168608 0) scale(0.996264)\"/>\n",
       "       <use xlink:href=\"#CMR17-30\" transform=\"translate(209.859086 0) scale(0.996264)\"/>\n",
       "      </g>\n",
       "     </g>\n",
       "    </g>\n",
       "    <g id=\"ytick_2\">\n",
       "     <g id=\"line2d_15\">\n",
       "      <path d=\"M 54.329253 167.773282 \n",
       "L 417.029253 167.773282 \n",
       "\" clip-path=\"url(#pa2069d38b1)\" style=\"fill: none; stroke-dasharray: 0.3,0.495; stroke-dashoffset: 0; stroke: #000000; stroke-opacity: 0.5; stroke-width: 0.3\"/>\n",
       "     </g>\n",
       "     <g id=\"line2d_16\">\n",
       "      <g>\n",
       "       <use xlink:href=\"#m3a1f8320dc\" x=\"54.329253\" y=\"167.773282\" style=\"stroke: #000000; stroke-width: 0.8\"/>\n",
       "      </g>\n",
       "     </g>\n",
       "     <g id=\"text_9\">\n",
       "      <!-- $\\mathdefault{0.0025}$ -->\n",
       "      <g transform=\"translate(23.155168 171.232531) scale(0.1 -0.1)\">\n",
       "       <use xlink:href=\"#CMR17-30\" transform=\"scale(0.996264)\"/>\n",
       "       <use xlink:href=\"#CMMI12-3a\" transform=\"translate(45.690477 0) scale(0.996264)\"/>\n",
       "       <use xlink:href=\"#CMR17-30\" transform=\"translate(72.787654 0) scale(0.996264)\"/>\n",
       "       <use xlink:href=\"#CMR17-30\" transform=\"translate(118.478131 0) scale(0.996264)\"/>\n",
       "       <use xlink:href=\"#CMR17-32\" transform=\"translate(164.168608 0) scale(0.996264)\"/>\n",
       "       <use xlink:href=\"#CMR17-35\" transform=\"translate(209.859086 0) scale(0.996264)\"/>\n",
       "      </g>\n",
       "     </g>\n",
       "    </g>\n",
       "    <g id=\"ytick_3\">\n",
       "     <g id=\"line2d_17\">\n",
       "      <path d=\"M 54.329253 143.126563 \n",
       "L 417.029253 143.126563 \n",
       "\" clip-path=\"url(#pa2069d38b1)\" style=\"fill: none; stroke-dasharray: 0.3,0.495; stroke-dashoffset: 0; stroke: #000000; stroke-opacity: 0.5; stroke-width: 0.3\"/>\n",
       "     </g>\n",
       "     <g id=\"line2d_18\">\n",
       "      <g>\n",
       "       <use xlink:href=\"#m3a1f8320dc\" x=\"54.329253\" y=\"143.126563\" style=\"stroke: #000000; stroke-width: 0.8\"/>\n",
       "      </g>\n",
       "     </g>\n",
       "     <g id=\"text_10\">\n",
       "      <!-- $\\mathdefault{0.0050}$ -->\n",
       "      <g transform=\"translate(23.155168 146.585812) scale(0.1 -0.1)\">\n",
       "       <use xlink:href=\"#CMR17-30\" transform=\"scale(0.996264)\"/>\n",
       "       <use xlink:href=\"#CMMI12-3a\" transform=\"translate(45.690477 0) scale(0.996264)\"/>\n",
       "       <use xlink:href=\"#CMR17-30\" transform=\"translate(72.787654 0) scale(0.996264)\"/>\n",
       "       <use xlink:href=\"#CMR17-30\" transform=\"translate(118.478131 0) scale(0.996264)\"/>\n",
       "       <use xlink:href=\"#CMR17-35\" transform=\"translate(164.168608 0) scale(0.996264)\"/>\n",
       "       <use xlink:href=\"#CMR17-30\" transform=\"translate(209.859086 0) scale(0.996264)\"/>\n",
       "      </g>\n",
       "     </g>\n",
       "    </g>\n",
       "    <g id=\"ytick_4\">\n",
       "     <g id=\"line2d_19\">\n",
       "      <path d=\"M 54.329253 118.479845 \n",
       "L 417.029253 118.479845 \n",
       "\" clip-path=\"url(#pa2069d38b1)\" style=\"fill: none; stroke-dasharray: 0.3,0.495; stroke-dashoffset: 0; stroke: #000000; stroke-opacity: 0.5; stroke-width: 0.3\"/>\n",
       "     </g>\n",
       "     <g id=\"line2d_20\">\n",
       "      <g>\n",
       "       <use xlink:href=\"#m3a1f8320dc\" x=\"54.329253\" y=\"118.479845\" style=\"stroke: #000000; stroke-width: 0.8\"/>\n",
       "      </g>\n",
       "     </g>\n",
       "     <g id=\"text_11\">\n",
       "      <!-- $\\mathdefault{0.0075}$ -->\n",
       "      <g transform=\"translate(23.155168 121.939094) scale(0.1 -0.1)\">\n",
       "       <defs>\n",
       "        <path id=\"CMR17-37\" d=\"M 2886 3955 \n",
       "L 2886 4096 \n",
       "L 1382 4096 \n",
       "C 634 4096 621 4166 595 4288 \n",
       "L 480 4288 \n",
       "L 294 3104 \n",
       "L 410 3104 \n",
       "C 429 3226 474 3552 550 3673 \n",
       "C 589 3724 1062 3724 1171 3724 \n",
       "L 2579 3724 \n",
       "L 1869 2670 \n",
       "C 1395 1961 1069 1003 1069 166 \n",
       "C 1069 89 1069 -128 1299 -128 \n",
       "C 1530 -128 1530 89 1530 172 \n",
       "L 1530 466 \n",
       "C 1530 1514 1709 2204 2003 2644 \n",
       "L 2886 3955 \n",
       "z\n",
       "\" transform=\"scale(0.015625)\"/>\n",
       "       </defs>\n",
       "       <use xlink:href=\"#CMR17-30\" transform=\"scale(0.996264)\"/>\n",
       "       <use xlink:href=\"#CMMI12-3a\" transform=\"translate(45.690477 0) scale(0.996264)\"/>\n",
       "       <use xlink:href=\"#CMR17-30\" transform=\"translate(72.787654 0) scale(0.996264)\"/>\n",
       "       <use xlink:href=\"#CMR17-30\" transform=\"translate(118.478131 0) scale(0.996264)\"/>\n",
       "       <use xlink:href=\"#CMR17-37\" transform=\"translate(164.168608 0) scale(0.996264)\"/>\n",
       "       <use xlink:href=\"#CMR17-35\" transform=\"translate(209.859086 0) scale(0.996264)\"/>\n",
       "      </g>\n",
       "     </g>\n",
       "    </g>\n",
       "    <g id=\"ytick_5\">\n",
       "     <g id=\"line2d_21\">\n",
       "      <path d=\"M 54.329253 93.833126 \n",
       "L 417.029253 93.833126 \n",
       "\" clip-path=\"url(#pa2069d38b1)\" style=\"fill: none; stroke-dasharray: 0.3,0.495; stroke-dashoffset: 0; stroke: #000000; stroke-opacity: 0.5; stroke-width: 0.3\"/>\n",
       "     </g>\n",
       "     <g id=\"line2d_22\">\n",
       "      <g>\n",
       "       <use xlink:href=\"#m3a1f8320dc\" x=\"54.329253\" y=\"93.833126\" style=\"stroke: #000000; stroke-width: 0.8\"/>\n",
       "      </g>\n",
       "     </g>\n",
       "     <g id=\"text_12\">\n",
       "      <!-- $\\mathdefault{0.0100}$ -->\n",
       "      <g transform=\"translate(23.155168 97.292375) scale(0.1 -0.1)\">\n",
       "       <use xlink:href=\"#CMR17-30\" transform=\"scale(0.996264)\"/>\n",
       "       <use xlink:href=\"#CMMI12-3a\" transform=\"translate(45.690477 0) scale(0.996264)\"/>\n",
       "       <use xlink:href=\"#CMR17-30\" transform=\"translate(72.787654 0) scale(0.996264)\"/>\n",
       "       <use xlink:href=\"#CMR17-31\" transform=\"translate(118.478131 0) scale(0.996264)\"/>\n",
       "       <use xlink:href=\"#CMR17-30\" transform=\"translate(164.168608 0) scale(0.996264)\"/>\n",
       "       <use xlink:href=\"#CMR17-30\" transform=\"translate(209.859086 0) scale(0.996264)\"/>\n",
       "      </g>\n",
       "     </g>\n",
       "    </g>\n",
       "    <g id=\"ytick_6\">\n",
       "     <g id=\"line2d_23\">\n",
       "      <path d=\"M 54.329253 69.186408 \n",
       "L 417.029253 69.186408 \n",
       "\" clip-path=\"url(#pa2069d38b1)\" style=\"fill: none; stroke-dasharray: 0.3,0.495; stroke-dashoffset: 0; stroke: #000000; stroke-opacity: 0.5; stroke-width: 0.3\"/>\n",
       "     </g>\n",
       "     <g id=\"line2d_24\">\n",
       "      <g>\n",
       "       <use xlink:href=\"#m3a1f8320dc\" x=\"54.329253\" y=\"69.186408\" style=\"stroke: #000000; stroke-width: 0.8\"/>\n",
       "      </g>\n",
       "     </g>\n",
       "     <g id=\"text_13\">\n",
       "      <!-- $\\mathdefault{0.0125}$ -->\n",
       "      <g transform=\"translate(23.155168 72.645657) scale(0.1 -0.1)\">\n",
       "       <use xlink:href=\"#CMR17-30\" transform=\"scale(0.996264)\"/>\n",
       "       <use xlink:href=\"#CMMI12-3a\" transform=\"translate(45.690477 0) scale(0.996264)\"/>\n",
       "       <use xlink:href=\"#CMR17-30\" transform=\"translate(72.787654 0) scale(0.996264)\"/>\n",
       "       <use xlink:href=\"#CMR17-31\" transform=\"translate(118.478131 0) scale(0.996264)\"/>\n",
       "       <use xlink:href=\"#CMR17-32\" transform=\"translate(164.168608 0) scale(0.996264)\"/>\n",
       "       <use xlink:href=\"#CMR17-35\" transform=\"translate(209.859086 0) scale(0.996264)\"/>\n",
       "      </g>\n",
       "     </g>\n",
       "    </g>\n",
       "    <g id=\"ytick_7\">\n",
       "     <g id=\"line2d_25\">\n",
       "      <path d=\"M 54.329253 44.539689 \n",
       "L 417.029253 44.539689 \n",
       "\" clip-path=\"url(#pa2069d38b1)\" style=\"fill: none; stroke-dasharray: 0.3,0.495; stroke-dashoffset: 0; stroke: #000000; stroke-opacity: 0.5; stroke-width: 0.3\"/>\n",
       "     </g>\n",
       "     <g id=\"line2d_26\">\n",
       "      <g>\n",
       "       <use xlink:href=\"#m3a1f8320dc\" x=\"54.329253\" y=\"44.539689\" style=\"stroke: #000000; stroke-width: 0.8\"/>\n",
       "      </g>\n",
       "     </g>\n",
       "     <g id=\"text_14\">\n",
       "      <!-- $\\mathdefault{0.0150}$ -->\n",
       "      <g transform=\"translate(23.155168 47.998938) scale(0.1 -0.1)\">\n",
       "       <use xlink:href=\"#CMR17-30\" transform=\"scale(0.996264)\"/>\n",
       "       <use xlink:href=\"#CMMI12-3a\" transform=\"translate(45.690477 0) scale(0.996264)\"/>\n",
       "       <use xlink:href=\"#CMR17-30\" transform=\"translate(72.787654 0) scale(0.996264)\"/>\n",
       "       <use xlink:href=\"#CMR17-31\" transform=\"translate(118.478131 0) scale(0.996264)\"/>\n",
       "       <use xlink:href=\"#CMR17-35\" transform=\"translate(164.168608 0) scale(0.996264)\"/>\n",
       "       <use xlink:href=\"#CMR17-30\" transform=\"translate(209.859086 0) scale(0.996264)\"/>\n",
       "      </g>\n",
       "     </g>\n",
       "    </g>\n",
       "    <g id=\"ytick_8\">\n",
       "     <g id=\"line2d_27\">\n",
       "      <path d=\"M 54.329253 19.892971 \n",
       "L 417.029253 19.892971 \n",
       "\" clip-path=\"url(#pa2069d38b1)\" style=\"fill: none; stroke-dasharray: 0.3,0.495; stroke-dashoffset: 0; stroke: #000000; stroke-opacity: 0.5; stroke-width: 0.3\"/>\n",
       "     </g>\n",
       "     <g id=\"line2d_28\">\n",
       "      <g>\n",
       "       <use xlink:href=\"#m3a1f8320dc\" x=\"54.329253\" y=\"19.892971\" style=\"stroke: #000000; stroke-width: 0.8\"/>\n",
       "      </g>\n",
       "     </g>\n",
       "     <g id=\"text_15\">\n",
       "      <!-- $\\mathdefault{0.0175}$ -->\n",
       "      <g transform=\"translate(23.155168 23.35222) scale(0.1 -0.1)\">\n",
       "       <use xlink:href=\"#CMR17-30\" transform=\"scale(0.996264)\"/>\n",
       "       <use xlink:href=\"#CMMI12-3a\" transform=\"translate(45.690477 0) scale(0.996264)\"/>\n",
       "       <use xlink:href=\"#CMR17-30\" transform=\"translate(72.787654 0) scale(0.996264)\"/>\n",
       "       <use xlink:href=\"#CMR17-31\" transform=\"translate(118.478131 0) scale(0.996264)\"/>\n",
       "       <use xlink:href=\"#CMR17-37\" transform=\"translate(164.168608 0) scale(0.996264)\"/>\n",
       "       <use xlink:href=\"#CMR17-35\" transform=\"translate(209.859086 0) scale(0.996264)\"/>\n",
       "      </g>\n",
       "     </g>\n",
       "    </g>\n",
       "    <g id=\"text_16\">\n",
       "     <!-- $\\chi(x)$ [1/m] -->\n",
       "     <g transform=\"translate(16.166376 131.698286) rotate(-90) scale(0.12 -0.12)\">\n",
       "      <defs>\n",
       "       <path id=\"CMMI12-1f\" d=\"M 2112 1035 \n",
       "C 1939 1562 1978 1511 1818 1956 \n",
       "C 1619 2503 1568 2547 1478 2636 \n",
       "C 1363 2739 1146 2816 922 2816 \n",
       "C 563 2816 390 2484 390 2401 \n",
       "C 390 2363 422 2344 461 2344 \n",
       "C 512 2344 525 2376 531 2401 \n",
       "C 627 2649 826 2687 883 2687 \n",
       "C 1069 2687 1248 2230 1363 1925 \n",
       "C 1517 1537 1594 1270 1766 653 \n",
       "L 256 -1050 \n",
       "C 198 -1120 198 -1146 198 -1152 \n",
       "C 198 -1204 230 -1216 256 -1216 \n",
       "C 282 -1216 301 -1204 320 -1184 \n",
       "C 499 -1006 896 -535 1062 -345 \n",
       "L 1805 494 \n",
       "C 2118 -479 2118 -491 2214 -727 \n",
       "C 2317 -968 2451 -1280 2995 -1280 \n",
       "C 3360 -1280 3526 -955 3526 -866 \n",
       "C 3526 -822 3488 -809 3456 -809 \n",
       "C 3405 -809 3398 -835 3379 -886 \n",
       "C 3309 -1064 3142 -1152 3040 -1152 \n",
       "C 2957 -1152 2854 -1152 2573 -447 \n",
       "C 2406 -21 2259 487 2150 882 \n",
       "L 3667 2598 \n",
       "C 3718 2655 3725 2662 3725 2687 \n",
       "C 3725 2732 3693 2752 3661 2752 \n",
       "C 3642 2752 3622 2752 3558 2681 \n",
       "L 2112 1035 \n",
       "z\n",
       "\" transform=\"scale(0.015625)\"/>\n",
       "       <path id=\"CMR17-28\" d=\"M 1958 -1562 \n",
       "C 1958 -1556 1958 -1543 1939 -1524 \n",
       "C 1645 -1223 858 -403 858 1596 \n",
       "C 858 3595 1632 4408 1946 4729 \n",
       "C 1946 4735 1958 4748 1958 4767 \n",
       "C 1958 4787 1939 4800 1914 4800 \n",
       "C 1843 4800 1299 4325 986 3620 \n",
       "C 666 2909 576 2218 576 1603 \n",
       "C 576 1141 621 360 1005 -467 \n",
       "C 1312 -1133 1837 -1600 1914 -1600 \n",
       "C 1946 -1600 1958 -1588 1958 -1562 \n",
       "z\n",
       "\" transform=\"scale(0.015625)\"/>\n",
       "       <path id=\"CMR17-29\" d=\"M 1683 1596 \n",
       "C 1683 2057 1638 2839 1254 3665 \n",
       "C 947 4332 422 4800 346 4800 \n",
       "C 326 4800 301 4793 301 4761 \n",
       "C 301 4748 307 4742 314 4729 \n",
       "C 621 4408 1402 3595 1402 1603 \n",
       "C 1402 -396 627 -1210 314 -1530 \n",
       "C 307 -1543 301 -1549 301 -1562 \n",
       "C 301 -1594 326 -1600 346 -1600 \n",
       "C 416 -1600 960 -1127 1274 -422 \n",
       "C 1594 289 1683 981 1683 1596 \n",
       "z\n",
       "\" transform=\"scale(0.015625)\"/>\n",
       "       <path id=\"CMR17-2f\" d=\"M 2605 4575 \n",
       "C 2637 4658 2637 4671 2637 4684 \n",
       "C 2637 4761 2579 4800 2528 4800 \n",
       "C 2451 4800 2426 4748 2400 4671 \n",
       "L 326 -1376 \n",
       "C 294 -1460 294 -1472 294 -1485 \n",
       "C 294 -1562 352 -1600 403 -1600 \n",
       "C 480 -1600 506 -1549 531 -1472 \n",
       "L 2605 4575 \n",
       "z\n",
       "\" transform=\"scale(0.015625)\"/>\n",
       "      </defs>\n",
       "      <use xlink:href=\"#CMMI12-1f\" transform=\"scale(0.996264)\"/>\n",
       "      <use xlink:href=\"#CMR17-28\" transform=\"translate(61.112959 0) scale(0.996264)\"/>\n",
       "      <use xlink:href=\"#CMMI12-78\" transform=\"translate(96.393727 0) scale(0.996264)\"/>\n",
       "      <use xlink:href=\"#CMR17-29\" transform=\"translate(151.827786 0) scale(0.996264)\"/>\n",
       "      <use xlink:href=\"#CMR17-5b\" transform=\"translate(217.18452 0) scale(0.996264)\"/>\n",
       "      <use xlink:href=\"#CMR17-31\" transform=\"translate(242.055579 0) scale(0.996264)\"/>\n",
       "      <use xlink:href=\"#CMR17-2f\" transform=\"translate(287.746056 0) scale(0.996264)\"/>\n",
       "      <use xlink:href=\"#CMR17-6d\" transform=\"translate(333.436533 0) scale(0.996264)\"/>\n",
       "      <use xlink:href=\"#CMR17-5d\" transform=\"translate(410.356123 0) scale(0.996264)\"/>\n",
       "     </g>\n",
       "    </g>\n",
       "   </g>\n",
       "   <g id=\"line2d_29\">\n",
       "    <path d=\"M 70.815616 192.42 \n",
       "L 84.798849 192.311785 \n",
       "L 94.824564 184.546791 \n",
       "L 94.956481 162.989722 \n",
       "L 165.202439 16.02 \n",
       "L 165.268398 16.11332 \n",
       "L 266.317044 163.185043 \n",
       "L 266.448961 184.588 \n",
       "L 281.157739 192.42 \n",
       "L 400.542889 192.42 \n",
       "L 400.542889 192.42 \n",
       "\" clip-path=\"url(#pa2069d38b1)\" style=\"fill: none; stroke: #000000; stroke-width: 0.7; stroke-linecap: square\"/>\n",
       "   </g>\n",
       "   <g id=\"patch_3\">\n",
       "    <path d=\"M 54.329253 201.24 \n",
       "L 54.329253 7.2 \n",
       "\" style=\"fill: none; stroke: #000000; stroke-width: 0.5; stroke-linejoin: miter; stroke-linecap: square\"/>\n",
       "   </g>\n",
       "   <g id=\"patch_4\">\n",
       "    <path d=\"M 54.329253 201.24 \n",
       "L 417.029253 201.24 \n",
       "\" style=\"fill: none; stroke: #000000; stroke-width: 0.5; stroke-linejoin: miter; stroke-linecap: square\"/>\n",
       "   </g>\n",
       "  </g>\n",
       " </g>\n",
       " <defs>\n",
       "  <clipPath id=\"pa2069d38b1\">\n",
       "   <rect x=\"54.329253\" y=\"7.2\" width=\"362.7\" height=\"194.04\"/>\n",
       "  </clipPath>\n",
       " </defs>\n",
       "</svg>\n"
      ],
      "text/plain": [
       "<Figure size 650x350 with 1 Axes>"
      ]
     },
     "metadata": {},
     "output_type": "display_data"
    }
   ],
   "source": [
    "#| label: fig-chi_x_diagramm\n",
    "#| fig-cap: Krümmungsverlauf für die Laststufe LS14 entlang der Stabachse\n",
    "\n",
    "plt.plot(x_array, chi_M_versuch_2, color='black')\n",
    "\n",
    "plt.xlabel(f'${sp.latex(x)}$ [m]')\n",
    "plt.ylabel(f'$\\chi(x)$ [1/m]')\n",
    "plt.show()\n"
   ]
  },
  {
   "cell_type": "markdown",
   "metadata": {},
   "source": [
    "#### Punktuelle Bestimmung der Deformation\n",
    "\n",
    "Unter Anwendung der Arbeitsgleichung kann die Deformation nach @eq-arbeitsgleichung bestimmt werden.\n",
    "\n",
    "$$\n",
    "w = \\int_0^l \\bar{M}(x) \\cdot \\frac{M(x)}{EI} d_x\n",
    "$${#eq-arbeitsgleichung}\n",
    "\n",
    "Wobei $\\frac{M(x)}{EI} = \\chi(x)$ gilt.\n",
    "\n",
    "Das heisst es gilt die Zustandslinien der Krümmung multipliziert mit der Zustandslinie der Biegemomente des virtuellen Kräftezustands über die Stablänge zu integrieren."
   ]
  },
  {
   "cell_type": "code",
   "execution_count": 51,
   "metadata": {},
   "outputs": [],
   "source": [
    "M_x_array_bar = M_x_lambda(x_array, 1)"
   ]
  },
  {
   "cell_type": "code",
   "execution_count": 52,
   "metadata": {},
   "outputs": [
    {
     "data": {
      "image/svg+xml": [
       "<?xml version=\"1.0\" encoding=\"utf-8\" standalone=\"no\"?>\n",
       "<!DOCTYPE svg PUBLIC \"-//W3C//DTD SVG 1.1//EN\"\n",
       "  \"http://www.w3.org/Graphics/SVG/1.1/DTD/svg11.dtd\">\n",
       "<svg xmlns:xlink=\"http://www.w3.org/1999/xlink\" width=\"410.093283pt\" height=\"236.750845pt\" viewBox=\"0 0 410.093283 236.750845\" xmlns=\"http://www.w3.org/2000/svg\" version=\"1.1\">\n",
       " <metadata>\n",
       "  <rdf:RDF xmlns:dc=\"http://purl.org/dc/elements/1.1/\" xmlns:cc=\"http://creativecommons.org/ns#\" xmlns:rdf=\"http://www.w3.org/1999/02/22-rdf-syntax-ns#\">\n",
       "   <cc:Work>\n",
       "    <dc:type rdf:resource=\"http://purl.org/dc/dcmitype/StillImage\"/>\n",
       "    <dc:date>2023-09-29T14:54:50.896845</dc:date>\n",
       "    <dc:format>image/svg+xml</dc:format>\n",
       "    <dc:creator>\n",
       "     <cc:Agent>\n",
       "      <dc:title>Matplotlib v3.8.0, https://matplotlib.org/</dc:title>\n",
       "     </cc:Agent>\n",
       "    </dc:creator>\n",
       "   </cc:Work>\n",
       "  </rdf:RDF>\n",
       " </metadata>\n",
       " <defs>\n",
       "  <style type=\"text/css\">*{stroke-linejoin: round; stroke-linecap: butt}</style>\n",
       " </defs>\n",
       " <g id=\"figure_1\">\n",
       "  <g id=\"patch_1\">\n",
       "   <path d=\"M 0 236.750845 \n",
       "L 410.093283 236.750845 \n",
       "L 410.093283 -0 \n",
       "L 0 -0 \n",
       "z\n",
       "\" style=\"fill: #ffffff\"/>\n",
       "  </g>\n",
       "  <g id=\"axes_1\">\n",
       "   <g id=\"patch_2\">\n",
       "    <path d=\"M 40.193283 201.24 \n",
       "L 402.893283 201.24 \n",
       "L 402.893283 7.2 \n",
       "L 40.193283 7.2 \n",
       "z\n",
       "\" style=\"fill: #ffffff\"/>\n",
       "   </g>\n",
       "   <g id=\"matplotlib.axis_1\">\n",
       "    <g id=\"xtick_1\">\n",
       "     <g id=\"line2d_1\">\n",
       "      <path d=\"M 56.679646 201.24 \n",
       "L 56.679646 7.2 \n",
       "\" clip-path=\"url(#p65f12ae95c)\" style=\"fill: none; stroke-dasharray: 0.3,0.495; stroke-dashoffset: 0; stroke: #000000; stroke-opacity: 0.5; stroke-width: 0.3\"/>\n",
       "     </g>\n",
       "     <g id=\"line2d_2\">\n",
       "      <defs>\n",
       "       <path id=\"m0629aeea9c\" d=\"M 0 0 \n",
       "L 0 -3.5 \n",
       "\" style=\"stroke: #000000; stroke-width: 0.8\"/>\n",
       "      </defs>\n",
       "      <g>\n",
       "       <use xlink:href=\"#m0629aeea9c\" x=\"56.679646\" y=\"201.24\" style=\"stroke: #000000; stroke-width: 0.8\"/>\n",
       "      </g>\n",
       "     </g>\n",
       "     <g id=\"text_1\">\n",
       "      <!-- $\\mathdefault{0.0}$ -->\n",
       "      <g transform=\"translate(50.314607 211.658498) scale(0.1 -0.1)\">\n",
       "       <defs>\n",
       "        <path id=\"CMR17-30\" d=\"M 2688 2038 \n",
       "C 2688 2430 2682 3099 2413 3613 \n",
       "C 2176 4063 1798 4224 1466 4224 \n",
       "C 1158 4224 768 4082 525 3620 \n",
       "C 269 3137 243 2539 243 2038 \n",
       "C 243 1671 250 1112 448 623 \n",
       "C 723 -39 1216 -128 1466 -128 \n",
       "C 1760 -128 2208 -7 2470 604 \n",
       "C 2662 1048 2688 1568 2688 2038 \n",
       "z\n",
       "M 1466 -26 \n",
       "C 1056 -26 813 328 723 816 \n",
       "C 653 1196 653 1749 653 2109 \n",
       "C 653 2604 653 3015 736 3407 \n",
       "C 858 3954 1216 4121 1466 4121 \n",
       "C 1728 4121 2067 3947 2189 3420 \n",
       "C 2272 3054 2278 2623 2278 2109 \n",
       "C 2278 1691 2278 1176 2202 797 \n",
       "C 2067 96 1690 -26 1466 -26 \n",
       "z\n",
       "\" transform=\"scale(0.015625)\"/>\n",
       "        <path id=\"CMMI12-3a\" d=\"M 1178 307 \n",
       "C 1178 492 1024 620 870 620 \n",
       "C 685 620 557 467 557 313 \n",
       "C 557 128 710 0 864 0 \n",
       "C 1050 0 1178 153 1178 307 \n",
       "z\n",
       "\" transform=\"scale(0.015625)\"/>\n",
       "       </defs>\n",
       "       <use xlink:href=\"#CMR17-30\" transform=\"scale(0.996264)\"/>\n",
       "       <use xlink:href=\"#CMMI12-3a\" transform=\"translate(45.690477 0) scale(0.996264)\"/>\n",
       "       <use xlink:href=\"#CMR17-30\" transform=\"translate(72.787654 0) scale(0.996264)\"/>\n",
       "      </g>\n",
       "     </g>\n",
       "    </g>\n",
       "    <g id=\"xtick_2\">\n",
       "     <g id=\"line2d_3\">\n",
       "      <path d=\"M 119.604698 201.24 \n",
       "L 119.604698 7.2 \n",
       "\" clip-path=\"url(#p65f12ae95c)\" style=\"fill: none; stroke-dasharray: 0.3,0.495; stroke-dashoffset: 0; stroke: #000000; stroke-opacity: 0.5; stroke-width: 0.3\"/>\n",
       "     </g>\n",
       "     <g id=\"line2d_4\">\n",
       "      <g>\n",
       "       <use xlink:href=\"#m0629aeea9c\" x=\"119.604698\" y=\"201.24\" style=\"stroke: #000000; stroke-width: 0.8\"/>\n",
       "      </g>\n",
       "     </g>\n",
       "     <g id=\"text_2\">\n",
       "      <!-- $\\mathdefault{0.5}$ -->\n",
       "      <g transform=\"translate(113.239659 211.658498) scale(0.1 -0.1)\">\n",
       "       <defs>\n",
       "        <path id=\"CMR17-35\" d=\"M 730 3750 \n",
       "C 794 3724 1056 3641 1325 3641 \n",
       "C 1920 3641 2246 3961 2432 4140 \n",
       "C 2432 4191 2432 4224 2394 4224 \n",
       "C 2387 4224 2374 4224 2323 4198 \n",
       "C 2099 4102 1837 4032 1517 4032 \n",
       "C 1325 4032 1037 4055 723 4191 \n",
       "C 653 4224 640 4224 634 4224 \n",
       "C 602 4224 595 4217 595 4090 \n",
       "L 595 2231 \n",
       "C 595 2113 595 2080 659 2080 \n",
       "C 691 2080 704 2093 736 2139 \n",
       "C 941 2435 1222 2560 1542 2560 \n",
       "C 1766 2560 2246 2415 2246 1293 \n",
       "C 2246 1087 2246 716 2054 422 \n",
       "C 1894 159 1645 25 1370 25 \n",
       "C 947 25 518 319 403 812 \n",
       "C 429 806 480 793 506 793 \n",
       "C 589 793 749 838 749 1036 \n",
       "C 749 1209 627 1280 506 1280 \n",
       "C 358 1280 262 1190 262 1011 \n",
       "C 262 454 704 -128 1382 -128 \n",
       "C 2042 -128 2669 441 2669 1267 \n",
       "C 2669 2054 2170 2662 1549 2662 \n",
       "C 1222 2662 947 2540 730 2304 \n",
       "L 730 3750 \n",
       "z\n",
       "\" transform=\"scale(0.015625)\"/>\n",
       "       </defs>\n",
       "       <use xlink:href=\"#CMR17-30\" transform=\"scale(0.996264)\"/>\n",
       "       <use xlink:href=\"#CMMI12-3a\" transform=\"translate(45.690477 0) scale(0.996264)\"/>\n",
       "       <use xlink:href=\"#CMR17-35\" transform=\"translate(72.787654 0) scale(0.996264)\"/>\n",
       "      </g>\n",
       "     </g>\n",
       "    </g>\n",
       "    <g id=\"xtick_3\">\n",
       "     <g id=\"line2d_5\">\n",
       "      <path d=\"M 182.52975 201.24 \n",
       "L 182.52975 7.2 \n",
       "\" clip-path=\"url(#p65f12ae95c)\" style=\"fill: none; stroke-dasharray: 0.3,0.495; stroke-dashoffset: 0; stroke: #000000; stroke-opacity: 0.5; stroke-width: 0.3\"/>\n",
       "     </g>\n",
       "     <g id=\"line2d_6\">\n",
       "      <g>\n",
       "       <use xlink:href=\"#m0629aeea9c\" x=\"182.52975\" y=\"201.24\" style=\"stroke: #000000; stroke-width: 0.8\"/>\n",
       "      </g>\n",
       "     </g>\n",
       "     <g id=\"text_3\">\n",
       "      <!-- $\\mathdefault{1.0}$ -->\n",
       "      <g transform=\"translate(176.164711 211.658498) scale(0.1 -0.1)\">\n",
       "       <defs>\n",
       "        <path id=\"CMR17-31\" d=\"M 1702 4083 \n",
       "C 1702 4217 1696 4224 1606 4224 \n",
       "C 1357 3927 979 3833 621 3820 \n",
       "C 602 3820 570 3820 563 3808 \n",
       "C 557 3795 557 3782 557 3648 \n",
       "C 755 3648 1088 3686 1344 3839 \n",
       "L 1344 467 \n",
       "C 1344 243 1331 166 781 166 \n",
       "L 589 166 \n",
       "L 589 0 \n",
       "C 896 6 1216 12 1523 12 \n",
       "C 1830 12 2150 6 2458 0 \n",
       "L 2458 166 \n",
       "L 2266 166 \n",
       "C 1715 166 1702 236 1702 467 \n",
       "L 1702 4083 \n",
       "z\n",
       "\" transform=\"scale(0.015625)\"/>\n",
       "       </defs>\n",
       "       <use xlink:href=\"#CMR17-31\" transform=\"scale(0.996264)\"/>\n",
       "       <use xlink:href=\"#CMMI12-3a\" transform=\"translate(45.690477 0) scale(0.996264)\"/>\n",
       "       <use xlink:href=\"#CMR17-30\" transform=\"translate(72.787654 0) scale(0.996264)\"/>\n",
       "      </g>\n",
       "     </g>\n",
       "    </g>\n",
       "    <g id=\"xtick_4\">\n",
       "     <g id=\"line2d_7\">\n",
       "      <path d=\"M 245.454802 201.24 \n",
       "L 245.454802 7.2 \n",
       "\" clip-path=\"url(#p65f12ae95c)\" style=\"fill: none; stroke-dasharray: 0.3,0.495; stroke-dashoffset: 0; stroke: #000000; stroke-opacity: 0.5; stroke-width: 0.3\"/>\n",
       "     </g>\n",
       "     <g id=\"line2d_8\">\n",
       "      <g>\n",
       "       <use xlink:href=\"#m0629aeea9c\" x=\"245.454802\" y=\"201.24\" style=\"stroke: #000000; stroke-width: 0.8\"/>\n",
       "      </g>\n",
       "     </g>\n",
       "     <g id=\"text_4\">\n",
       "      <!-- $\\mathdefault{1.5}$ -->\n",
       "      <g transform=\"translate(239.089763 211.658498) scale(0.1 -0.1)\">\n",
       "       <use xlink:href=\"#CMR17-31\" transform=\"scale(0.996264)\"/>\n",
       "       <use xlink:href=\"#CMMI12-3a\" transform=\"translate(45.690477 0) scale(0.996264)\"/>\n",
       "       <use xlink:href=\"#CMR17-35\" transform=\"translate(72.787654 0) scale(0.996264)\"/>\n",
       "      </g>\n",
       "     </g>\n",
       "    </g>\n",
       "    <g id=\"xtick_5\">\n",
       "     <g id=\"line2d_9\">\n",
       "      <path d=\"M 308.379854 201.24 \n",
       "L 308.379854 7.2 \n",
       "\" clip-path=\"url(#p65f12ae95c)\" style=\"fill: none; stroke-dasharray: 0.3,0.495; stroke-dashoffset: 0; stroke: #000000; stroke-opacity: 0.5; stroke-width: 0.3\"/>\n",
       "     </g>\n",
       "     <g id=\"line2d_10\">\n",
       "      <g>\n",
       "       <use xlink:href=\"#m0629aeea9c\" x=\"308.379854\" y=\"201.24\" style=\"stroke: #000000; stroke-width: 0.8\"/>\n",
       "      </g>\n",
       "     </g>\n",
       "     <g id=\"text_5\">\n",
       "      <!-- $\\mathdefault{2.0}$ -->\n",
       "      <g transform=\"translate(302.014815 211.658498) scale(0.1 -0.1)\">\n",
       "       <defs>\n",
       "        <path id=\"CMR17-32\" d=\"M 2669 990 \n",
       "L 2554 990 \n",
       "C 2490 537 2438 460 2413 422 \n",
       "C 2381 371 1920 371 1830 371 \n",
       "L 602 371 \n",
       "C 832 620 1280 1073 1824 1596 \n",
       "C 2214 1966 2669 2400 2669 3033 \n",
       "C 2669 3788 2067 4224 1395 4224 \n",
       "C 691 4224 262 3603 262 3027 \n",
       "C 262 2777 448 2745 525 2745 \n",
       "C 589 2745 781 2783 781 3007 \n",
       "C 781 3206 614 3264 525 3264 \n",
       "C 486 3264 448 3257 422 3244 \n",
       "C 544 3788 915 4057 1306 4057 \n",
       "C 1862 4057 2227 3616 2227 3033 \n",
       "C 2227 2477 1901 1998 1536 1583 \n",
       "L 262 147 \n",
       "L 262 0 \n",
       "L 2515 0 \n",
       "L 2669 990 \n",
       "z\n",
       "\" transform=\"scale(0.015625)\"/>\n",
       "       </defs>\n",
       "       <use xlink:href=\"#CMR17-32\" transform=\"scale(0.996264)\"/>\n",
       "       <use xlink:href=\"#CMMI12-3a\" transform=\"translate(45.690477 0) scale(0.996264)\"/>\n",
       "       <use xlink:href=\"#CMR17-30\" transform=\"translate(72.787654 0) scale(0.996264)\"/>\n",
       "      </g>\n",
       "     </g>\n",
       "    </g>\n",
       "    <g id=\"xtick_6\">\n",
       "     <g id=\"line2d_11\">\n",
       "      <path d=\"M 371.304907 201.24 \n",
       "L 371.304907 7.2 \n",
       "\" clip-path=\"url(#p65f12ae95c)\" style=\"fill: none; stroke-dasharray: 0.3,0.495; stroke-dashoffset: 0; stroke: #000000; stroke-opacity: 0.5; stroke-width: 0.3\"/>\n",
       "     </g>\n",
       "     <g id=\"line2d_12\">\n",
       "      <g>\n",
       "       <use xlink:href=\"#m0629aeea9c\" x=\"371.304907\" y=\"201.24\" style=\"stroke: #000000; stroke-width: 0.8\"/>\n",
       "      </g>\n",
       "     </g>\n",
       "     <g id=\"text_6\">\n",
       "      <!-- $\\mathdefault{2.5}$ -->\n",
       "      <g transform=\"translate(364.939867 211.658498) scale(0.1 -0.1)\">\n",
       "       <use xlink:href=\"#CMR17-32\" transform=\"scale(0.996264)\"/>\n",
       "       <use xlink:href=\"#CMMI12-3a\" transform=\"translate(45.690477 0) scale(0.996264)\"/>\n",
       "       <use xlink:href=\"#CMR17-35\" transform=\"translate(72.787654 0) scale(0.996264)\"/>\n",
       "      </g>\n",
       "     </g>\n",
       "    </g>\n",
       "    <g id=\"text_7\">\n",
       "     <!-- $x$ [m] -->\n",
       "     <g transform=\"translate(208.137089 226.562053) scale(0.12 -0.12)\">\n",
       "      <defs>\n",
       "       <path id=\"CMMI12-78\" d=\"M 3034 2624 \n",
       "C 2829 2585 2752 2431 2752 2310 \n",
       "C 2752 2156 2874 2105 2963 2105 \n",
       "C 3155 2105 3290 2271 3290 2444 \n",
       "C 3290 2694 2982 2816 2714 2816 \n",
       "C 2323 2816 2106 2451 2048 2329 \n",
       "C 1901 2790 1504 2816 1389 2816 \n",
       "C 736 2816 390 1993 390 1849 \n",
       "C 390 1823 416 1790 461 1790 \n",
       "C 512 1790 525 1829 538 1855 \n",
       "C 755 2572 1184 2687 1370 2687 \n",
       "C 1658 2687 1715 2438 1715 2284 \n",
       "C 1715 2143 1677 1993 1600 1678 \n",
       "L 1382 778 \n",
       "C 1286 390 1101 64 762 64 \n",
       "C 730 64 570 64 435 126 \n",
       "C 666 166 717 358 717 435 \n",
       "C 717 563 621 640 499 640 \n",
       "C 346 640 179 505 179 300 \n",
       "C 179 57 480 -64 755 -64 \n",
       "C 1062 -64 1280 153 1414 415 \n",
       "C 1517 64 1837 -64 2074 -64 \n",
       "C 2726 -64 3072 751 3072 896 \n",
       "C 3072 929 3046 955 3008 955 \n",
       "C 2950 955 2944 922 2925 870 \n",
       "C 2752 300 2381 64 2093 64 \n",
       "C 1869 64 1747 204 1747 467 \n",
       "C 1747 607 1773 712 1875 1146 \n",
       "L 2099 2039 \n",
       "C 2195 2425 2413 2687 2707 2687 \n",
       "C 2720 2687 2899 2687 3034 2624 \n",
       "z\n",
       "\" transform=\"scale(0.015625)\"/>\n",
       "       <path id=\"CMR17-5b\" d=\"M 1504 -1600 \n",
       "L 1504 -1376 \n",
       "L 902 -1376 \n",
       "L 902 4575 \n",
       "L 1504 4575 \n",
       "L 1504 4800 \n",
       "L 678 4800 \n",
       "L 678 -1600 \n",
       "L 1504 -1600 \n",
       "z\n",
       "\" transform=\"scale(0.015625)\"/>\n",
       "       <path id=\"CMR17-6d\" d=\"M 4326 1954 \n",
       "C 4326 2276 4269 2816 3507 2816 \n",
       "C 3072 2816 2771 2520 2656 2173 \n",
       "L 2650 2173 \n",
       "C 2573 2700 2195 2816 1837 2816 \n",
       "C 1331 2816 1069 2424 973 2166 \n",
       "L 966 2166 \n",
       "L 966 2816 \n",
       "L 211 2745 \n",
       "L 211 2578 \n",
       "C 589 2578 646 2540 646 2231 \n",
       "L 646 443 \n",
       "C 646 198 621 166 211 166 \n",
       "L 211 0 \n",
       "C 365 12 646 12 813 12 \n",
       "C 979 12 1267 12 1421 0 \n",
       "L 1421 166 \n",
       "C 1011 166 986 192 986 443 \n",
       "L 986 1678 \n",
       "C 986 2269 1344 2713 1792 2713 \n",
       "C 2266 2713 2317 2289 2317 1980 \n",
       "L 2317 443 \n",
       "C 2317 198 2291 166 1882 166 \n",
       "L 1882 0 \n",
       "C 2035 12 2317 12 2483 12 \n",
       "C 2650 12 2938 12 3091 0 \n",
       "L 3091 166 \n",
       "C 2682 166 2656 192 2656 443 \n",
       "L 2656 1678 \n",
       "C 2656 2269 3014 2713 3462 2713 \n",
       "C 3936 2713 3987 2289 3987 1980 \n",
       "L 3987 443 \n",
       "C 3987 198 3962 166 3552 166 \n",
       "L 3552 0 \n",
       "C 3706 12 3987 12 4154 12 \n",
       "C 4320 12 4608 12 4762 0 \n",
       "L 4762 166 \n",
       "C 4352 166 4326 192 4326 443 \n",
       "L 4326 1954 \n",
       "z\n",
       "\" transform=\"scale(0.015625)\"/>\n",
       "       <path id=\"CMR17-5d\" d=\"M 915 4800 \n",
       "L 90 4800 \n",
       "L 90 4575 \n",
       "L 691 4575 \n",
       "L 691 -1376 \n",
       "L 90 -1376 \n",
       "L 90 -1600 \n",
       "L 915 -1600 \n",
       "L 915 4800 \n",
       "z\n",
       "\" transform=\"scale(0.015625)\"/>\n",
       "      </defs>\n",
       "      <use xlink:href=\"#CMMI12-78\" transform=\"scale(0.996264)\"/>\n",
       "      <use xlink:href=\"#CMR17-5b\" transform=\"translate(85.510026 0) scale(0.996264)\"/>\n",
       "      <use xlink:href=\"#CMR17-6d\" transform=\"translate(110.381084 0) scale(0.996264)\"/>\n",
       "      <use xlink:href=\"#CMR17-5d\" transform=\"translate(187.300674 0) scale(0.996264)\"/>\n",
       "     </g>\n",
       "    </g>\n",
       "   </g>\n",
       "   <g id=\"matplotlib.axis_2\">\n",
       "    <g id=\"ytick_1\">\n",
       "     <g id=\"line2d_13\">\n",
       "      <path d=\"M 40.193283 192.42 \n",
       "L 402.893283 192.42 \n",
       "\" clip-path=\"url(#p65f12ae95c)\" style=\"fill: none; stroke-dasharray: 0.3,0.495; stroke-dashoffset: 0; stroke: #000000; stroke-opacity: 0.5; stroke-width: 0.3\"/>\n",
       "     </g>\n",
       "     <g id=\"line2d_14\">\n",
       "      <defs>\n",
       "       <path id=\"md14367f5f9\" d=\"M 0 0 \n",
       "L 3.5 0 \n",
       "\" style=\"stroke: #000000; stroke-width: 0.8\"/>\n",
       "      </defs>\n",
       "      <g>\n",
       "       <use xlink:href=\"#md14367f5f9\" x=\"40.193283\" y=\"192.42\" style=\"stroke: #000000; stroke-width: 0.8\"/>\n",
       "      </g>\n",
       "     </g>\n",
       "     <g id=\"text_8\">\n",
       "      <!-- $\\mathdefault{0.0}$ -->\n",
       "      <g transform=\"translate(23.963204 195.879249) scale(0.1 -0.1)\">\n",
       "       <use xlink:href=\"#CMR17-30\" transform=\"scale(0.996264)\"/>\n",
       "       <use xlink:href=\"#CMMI12-3a\" transform=\"translate(45.690477 0) scale(0.996264)\"/>\n",
       "       <use xlink:href=\"#CMR17-30\" transform=\"translate(72.787654 0) scale(0.996264)\"/>\n",
       "      </g>\n",
       "     </g>\n",
       "    </g>\n",
       "    <g id=\"ytick_2\">\n",
       "     <g id=\"line2d_15\">\n",
       "      <path d=\"M 40.193283 164.857242 \n",
       "L 402.893283 164.857242 \n",
       "\" clip-path=\"url(#p65f12ae95c)\" style=\"fill: none; stroke-dasharray: 0.3,0.495; stroke-dashoffset: 0; stroke: #000000; stroke-opacity: 0.5; stroke-width: 0.3\"/>\n",
       "     </g>\n",
       "     <g id=\"line2d_16\">\n",
       "      <g>\n",
       "       <use xlink:href=\"#md14367f5f9\" x=\"40.193283\" y=\"164.857242\" style=\"stroke: #000000; stroke-width: 0.8\"/>\n",
       "      </g>\n",
       "     </g>\n",
       "     <g id=\"text_9\">\n",
       "      <!-- $\\mathdefault{0.1}$ -->\n",
       "      <g transform=\"translate(23.963204 168.316491) scale(0.1 -0.1)\">\n",
       "       <use xlink:href=\"#CMR17-30\" transform=\"scale(0.996264)\"/>\n",
       "       <use xlink:href=\"#CMMI12-3a\" transform=\"translate(45.690477 0) scale(0.996264)\"/>\n",
       "       <use xlink:href=\"#CMR17-31\" transform=\"translate(72.787654 0) scale(0.996264)\"/>\n",
       "      </g>\n",
       "     </g>\n",
       "    </g>\n",
       "    <g id=\"ytick_3\">\n",
       "     <g id=\"line2d_17\">\n",
       "      <path d=\"M 40.193283 137.294483 \n",
       "L 402.893283 137.294483 \n",
       "\" clip-path=\"url(#p65f12ae95c)\" style=\"fill: none; stroke-dasharray: 0.3,0.495; stroke-dashoffset: 0; stroke: #000000; stroke-opacity: 0.5; stroke-width: 0.3\"/>\n",
       "     </g>\n",
       "     <g id=\"line2d_18\">\n",
       "      <g>\n",
       "       <use xlink:href=\"#md14367f5f9\" x=\"40.193283\" y=\"137.294483\" style=\"stroke: #000000; stroke-width: 0.8\"/>\n",
       "      </g>\n",
       "     </g>\n",
       "     <g id=\"text_10\">\n",
       "      <!-- $\\mathdefault{0.2}$ -->\n",
       "      <g transform=\"translate(23.963204 140.753732) scale(0.1 -0.1)\">\n",
       "       <use xlink:href=\"#CMR17-30\" transform=\"scale(0.996264)\"/>\n",
       "       <use xlink:href=\"#CMMI12-3a\" transform=\"translate(45.690477 0) scale(0.996264)\"/>\n",
       "       <use xlink:href=\"#CMR17-32\" transform=\"translate(72.787654 0) scale(0.996264)\"/>\n",
       "      </g>\n",
       "     </g>\n",
       "    </g>\n",
       "    <g id=\"ytick_4\">\n",
       "     <g id=\"line2d_19\">\n",
       "      <path d=\"M 40.193283 109.731725 \n",
       "L 402.893283 109.731725 \n",
       "\" clip-path=\"url(#p65f12ae95c)\" style=\"fill: none; stroke-dasharray: 0.3,0.495; stroke-dashoffset: 0; stroke: #000000; stroke-opacity: 0.5; stroke-width: 0.3\"/>\n",
       "     </g>\n",
       "     <g id=\"line2d_20\">\n",
       "      <g>\n",
       "       <use xlink:href=\"#md14367f5f9\" x=\"40.193283\" y=\"109.731725\" style=\"stroke: #000000; stroke-width: 0.8\"/>\n",
       "      </g>\n",
       "     </g>\n",
       "     <g id=\"text_11\">\n",
       "      <!-- $\\mathdefault{0.3}$ -->\n",
       "      <g transform=\"translate(23.963204 113.190974) scale(0.1 -0.1)\">\n",
       "       <defs>\n",
       "        <path id=\"CMR17-33\" d=\"M 1414 2176 \n",
       "C 1984 2176 2234 1673 2234 1094 \n",
       "C 2234 322 1824 25 1453 25 \n",
       "C 1114 25 563 193 390 691 \n",
       "C 422 678 454 678 486 678 \n",
       "C 640 678 755 780 755 947 \n",
       "C 755 1132 614 1216 486 1216 \n",
       "C 378 1216 211 1164 211 927 \n",
       "C 211 335 787 -128 1466 -128 \n",
       "C 2176 -128 2720 432 2720 1087 \n",
       "C 2720 1718 2208 2176 1600 2246 \n",
       "C 2086 2347 2554 2776 2554 3353 \n",
       "C 2554 3856 2048 4224 1472 4224 \n",
       "C 890 4224 378 3862 378 3347 \n",
       "C 378 3123 544 3084 627 3084 \n",
       "C 762 3084 877 3167 877 3334 \n",
       "C 877 3500 762 3584 627 3584 \n",
       "C 602 3584 570 3584 544 3571 \n",
       "C 730 3999 1235 4076 1459 4076 \n",
       "C 1683 4076 2106 3966 2106 3347 \n",
       "C 2106 3167 2080 2851 1862 2574 \n",
       "C 1670 2329 1453 2316 1242 2297 \n",
       "C 1210 2297 1062 2284 1037 2284 \n",
       "C 992 2278 966 2272 966 2227 \n",
       "C 966 2182 973 2176 1101 2176 \n",
       "L 1414 2176 \n",
       "z\n",
       "\" transform=\"scale(0.015625)\"/>\n",
       "       </defs>\n",
       "       <use xlink:href=\"#CMR17-30\" transform=\"scale(0.996264)\"/>\n",
       "       <use xlink:href=\"#CMMI12-3a\" transform=\"translate(45.690477 0) scale(0.996264)\"/>\n",
       "       <use xlink:href=\"#CMR17-33\" transform=\"translate(72.787654 0) scale(0.996264)\"/>\n",
       "      </g>\n",
       "     </g>\n",
       "    </g>\n",
       "    <g id=\"ytick_5\">\n",
       "     <g id=\"line2d_21\">\n",
       "      <path d=\"M 40.193283 82.168966 \n",
       "L 402.893283 82.168966 \n",
       "\" clip-path=\"url(#p65f12ae95c)\" style=\"fill: none; stroke-dasharray: 0.3,0.495; stroke-dashoffset: 0; stroke: #000000; stroke-opacity: 0.5; stroke-width: 0.3\"/>\n",
       "     </g>\n",
       "     <g id=\"line2d_22\">\n",
       "      <g>\n",
       "       <use xlink:href=\"#md14367f5f9\" x=\"40.193283\" y=\"82.168966\" style=\"stroke: #000000; stroke-width: 0.8\"/>\n",
       "      </g>\n",
       "     </g>\n",
       "     <g id=\"text_12\">\n",
       "      <!-- $\\mathdefault{0.4}$ -->\n",
       "      <g transform=\"translate(23.963204 85.628215) scale(0.1 -0.1)\">\n",
       "       <defs>\n",
       "        <path id=\"CMR17-34\" d=\"M 2150 4147 \n",
       "C 2150 4281 2144 4288 2029 4288 \n",
       "L 128 1254 \n",
       "L 128 1088 \n",
       "L 1779 1088 \n",
       "L 1779 460 \n",
       "C 1779 230 1766 166 1318 166 \n",
       "L 1197 166 \n",
       "L 1197 0 \n",
       "C 1402 12 1747 12 1965 12 \n",
       "C 2182 12 2528 12 2733 0 \n",
       "L 2733 166 \n",
       "L 2611 166 \n",
       "C 2163 166 2150 230 2150 460 \n",
       "L 2150 1088 \n",
       "L 2803 1088 \n",
       "L 2803 1254 \n",
       "L 2150 1254 \n",
       "L 2150 4147 \n",
       "z\n",
       "M 1798 3723 \n",
       "L 1798 1254 \n",
       "L 256 1254 \n",
       "L 1798 3723 \n",
       "z\n",
       "\" transform=\"scale(0.015625)\"/>\n",
       "       </defs>\n",
       "       <use xlink:href=\"#CMR17-30\" transform=\"scale(0.996264)\"/>\n",
       "       <use xlink:href=\"#CMMI12-3a\" transform=\"translate(45.690477 0) scale(0.996264)\"/>\n",
       "       <use xlink:href=\"#CMR17-34\" transform=\"translate(72.787654 0) scale(0.996264)\"/>\n",
       "      </g>\n",
       "     </g>\n",
       "    </g>\n",
       "    <g id=\"ytick_6\">\n",
       "     <g id=\"line2d_23\">\n",
       "      <path d=\"M 40.193283 54.606208 \n",
       "L 402.893283 54.606208 \n",
       "\" clip-path=\"url(#p65f12ae95c)\" style=\"fill: none; stroke-dasharray: 0.3,0.495; stroke-dashoffset: 0; stroke: #000000; stroke-opacity: 0.5; stroke-width: 0.3\"/>\n",
       "     </g>\n",
       "     <g id=\"line2d_24\">\n",
       "      <g>\n",
       "       <use xlink:href=\"#md14367f5f9\" x=\"40.193283\" y=\"54.606208\" style=\"stroke: #000000; stroke-width: 0.8\"/>\n",
       "      </g>\n",
       "     </g>\n",
       "     <g id=\"text_13\">\n",
       "      <!-- $\\mathdefault{0.5}$ -->\n",
       "      <g transform=\"translate(23.963204 58.065457) scale(0.1 -0.1)\">\n",
       "       <use xlink:href=\"#CMR17-30\" transform=\"scale(0.996264)\"/>\n",
       "       <use xlink:href=\"#CMMI12-3a\" transform=\"translate(45.690477 0) scale(0.996264)\"/>\n",
       "       <use xlink:href=\"#CMR17-35\" transform=\"translate(72.787654 0) scale(0.996264)\"/>\n",
       "      </g>\n",
       "     </g>\n",
       "    </g>\n",
       "    <g id=\"ytick_7\">\n",
       "     <g id=\"line2d_25\">\n",
       "      <path d=\"M 40.193283 27.043449 \n",
       "L 402.893283 27.043449 \n",
       "\" clip-path=\"url(#p65f12ae95c)\" style=\"fill: none; stroke-dasharray: 0.3,0.495; stroke-dashoffset: 0; stroke: #000000; stroke-opacity: 0.5; stroke-width: 0.3\"/>\n",
       "     </g>\n",
       "     <g id=\"line2d_26\">\n",
       "      <g>\n",
       "       <use xlink:href=\"#md14367f5f9\" x=\"40.193283\" y=\"27.043449\" style=\"stroke: #000000; stroke-width: 0.8\"/>\n",
       "      </g>\n",
       "     </g>\n",
       "     <g id=\"text_14\">\n",
       "      <!-- $\\mathdefault{0.6}$ -->\n",
       "      <g transform=\"translate(23.963204 30.502698) scale(0.1 -0.1)\">\n",
       "       <defs>\n",
       "        <path id=\"CMR17-36\" d=\"M 678 2198 \n",
       "C 678 3712 1395 4076 1811 4076 \n",
       "C 1946 4076 2272 4049 2400 3782 \n",
       "C 2298 3782 2106 3782 2106 3558 \n",
       "C 2106 3385 2246 3328 2336 3328 \n",
       "C 2394 3328 2566 3353 2566 3571 \n",
       "C 2566 3987 2246 4224 1805 4224 \n",
       "C 1043 4224 243 3411 243 2011 \n",
       "C 243 257 966 -128 1478 -128 \n",
       "C 2099 -128 2688 431 2688 1295 \n",
       "C 2688 2101 2170 2688 1517 2688 \n",
       "C 1126 2688 838 2430 678 1979 \n",
       "L 678 2198 \n",
       "z\n",
       "M 1478 25 \n",
       "C 691 25 691 1212 691 1450 \n",
       "C 691 1914 909 2585 1504 2585 \n",
       "C 1613 2585 1926 2585 2138 2140 \n",
       "C 2253 1889 2253 1624 2253 1302 \n",
       "C 2253 954 2253 696 2118 438 \n",
       "C 1978 173 1773 25 1478 25 \n",
       "z\n",
       "\" transform=\"scale(0.015625)\"/>\n",
       "       </defs>\n",
       "       <use xlink:href=\"#CMR17-30\" transform=\"scale(0.996264)\"/>\n",
       "       <use xlink:href=\"#CMMI12-3a\" transform=\"translate(45.690477 0) scale(0.996264)\"/>\n",
       "       <use xlink:href=\"#CMR17-36\" transform=\"translate(72.787654 0) scale(0.996264)\"/>\n",
       "      </g>\n",
       "     </g>\n",
       "    </g>\n",
       "    <g id=\"text_15\">\n",
       "     <!-- $\\bar{M}_x$ [m] -->\n",
       "     <g transform=\"translate(16.974412 122.595071) rotate(-90) scale(0.12 -0.12)\">\n",
       "      <defs>\n",
       "       <path id=\"CMR17-16\" d=\"M 2554 3520 \n",
       "L 2554 3667 \n",
       "L 378 3667 \n",
       "L 378 3520 \n",
       "L 2554 3520 \n",
       "z\n",
       "\" transform=\"scale(0.015625)\"/>\n",
       "       <path id=\"CMMI12-4d\" d=\"M 5811 3886 \n",
       "C 5869 4102 5882 4166 6336 4166 \n",
       "C 6458 4166 6515 4166 6515 4287 \n",
       "C 6515 4352 6470 4352 6349 4352 \n",
       "L 5581 4352 \n",
       "C 5421 4352 5414 4345 5344 4243 \n",
       "L 3008 567 \n",
       "L 2528 4211 \n",
       "C 2509 4352 2502 4352 2336 4352 \n",
       "L 1542 4352 \n",
       "C 1421 4352 1363 4352 1363 4230 \n",
       "C 1363 4166 1421 4166 1517 4166 \n",
       "C 1907 4166 1907 4115 1907 4045 \n",
       "C 1907 4032 1907 3994 1882 3898 \n",
       "L 1062 650 \n",
       "C 986 344 838 204 410 185 \n",
       "C 390 185 314 179 314 70 \n",
       "C 314 0 371 0 397 0 \n",
       "C 525 0 851 12 979 12 \n",
       "L 1286 12 \n",
       "C 1376 12 1485 0 1574 0 \n",
       "C 1619 0 1690 0 1690 121 \n",
       "C 1690 179 1626 185 1600 185 \n",
       "C 1389 191 1184 230 1184 459 \n",
       "C 1184 523 1184 529 1210 618 \n",
       "L 2093 4128 \n",
       "L 2099 4128 \n",
       "L 2630 172 \n",
       "C 2650 19 2656 0 2714 0 \n",
       "C 2784 0 2816 51 2848 108 \n",
       "L 5421 4159 \n",
       "L 5427 4159 \n",
       "L 4499 472 \n",
       "C 4442 249 4429 185 3981 185 \n",
       "C 3859 185 3795 185 3795 70 \n",
       "C 3795 0 3853 0 3891 0 \n",
       "C 4000 0 4128 12 4237 12 \n",
       "L 4992 12 \n",
       "C 5101 12 5235 0 5344 0 \n",
       "C 5395 0 5466 0 5466 121 \n",
       "C 5466 185 5408 185 5312 185 \n",
       "C 4922 185 4922 236 4922 300 \n",
       "C 4922 306 4922 351 4934 402 \n",
       "L 5811 3886 \n",
       "z\n",
       "\" transform=\"scale(0.015625)\"/>\n",
       "      </defs>\n",
       "      <use xlink:href=\"#CMR17-16\" transform=\"translate(37.673954 25.189733) scale(0.996264)\"/>\n",
       "      <use xlink:href=\"#CMMI12-4d\" transform=\"scale(0.996264)\"/>\n",
       "      <use xlink:href=\"#CMMI12-78\" transform=\"translate(94.373425 -14.943915) scale(0.697382)\"/>\n",
       "      <use xlink:href=\"#CMR17-5b\" transform=\"translate(163.751183 0) scale(0.996264)\"/>\n",
       "      <use xlink:href=\"#CMR17-6d\" transform=\"translate(188.622241 0) scale(0.996264)\"/>\n",
       "      <use xlink:href=\"#CMR17-5d\" transform=\"translate(265.541831 0) scale(0.996264)\"/>\n",
       "     </g>\n",
       "    </g>\n",
       "   </g>\n",
       "   <g id=\"line2d_27\">\n",
       "    <path d=\"M 56.679646 192.42 \n",
       "L 70.530962 192.402908 \n",
       "L 151.066469 16.02 \n",
       "L 151.132428 16.117688 \n",
       "L 266.955811 192.42 \n",
       "L 386.406919 192.42 \n",
       "L 386.406919 192.42 \n",
       "\" clip-path=\"url(#p65f12ae95c)\" style=\"fill: none; stroke: #000000; stroke-width: 0.7; stroke-linecap: square\"/>\n",
       "   </g>\n",
       "   <g id=\"patch_3\">\n",
       "    <path d=\"M 40.193283 201.24 \n",
       "L 40.193283 7.2 \n",
       "\" style=\"fill: none; stroke: #000000; stroke-width: 0.5; stroke-linejoin: miter; stroke-linecap: square\"/>\n",
       "   </g>\n",
       "   <g id=\"patch_4\">\n",
       "    <path d=\"M 40.193283 201.24 \n",
       "L 402.893283 201.24 \n",
       "\" style=\"fill: none; stroke: #000000; stroke-width: 0.5; stroke-linejoin: miter; stroke-linecap: square\"/>\n",
       "   </g>\n",
       "  </g>\n",
       " </g>\n",
       " <defs>\n",
       "  <clipPath id=\"p65f12ae95c\">\n",
       "   <rect x=\"40.193283\" y=\"7.2\" width=\"362.7\" height=\"194.04\"/>\n",
       "  </clipPath>\n",
       " </defs>\n",
       "</svg>\n"
      ],
      "text/plain": [
       "<Figure size 650x350 with 1 Axes>"
      ]
     },
     "metadata": {},
     "output_type": "display_data"
    }
   ],
   "source": [
    "#| label: fig-m_y_diagramm_virtuell\n",
    "#| fig-cap: Biegemomentenverlauf für den virtuellen Kräftezustand\n",
    "\n",
    "\n",
    "plt.plot(x_array, M_x_array_bar, color='black')\n",
    "\n",
    "plt.xlabel(f'${sp.latex(x)}$ [m]')\n",
    "plt.ylabel('$\\\\bar{M}_x$ [m]')\n",
    "plt.show()"
   ]
  },
  {
   "cell_type": "code",
   "execution_count": 53,
   "metadata": {},
   "outputs": [],
   "source": [
    "def arbeitsgleichung(x):\n",
    "    return M_x_lambda_bar(x)*chi_M_lambda(M_x_lambda(x), *M_chi_params)"
   ]
  },
  {
   "cell_type": "code",
   "execution_count": null,
   "metadata": {},
   "outputs": [],
   "source": []
  },
  {
   "cell_type": "markdown",
   "metadata": {},
   "source": [
    "Unter Anwedung der @eq-arbeitsgleichung folgt die Deformation bei der Krafteinleitung $F_A$ zu:"
   ]
  },
  {
   "cell_type": "code",
   "execution_count": 54,
   "metadata": {},
   "outputs": [
    {
     "data": {
      "text/latex": [
       "\\begin{equation}w_{1} = 6.07 \\text{mm}\\end{equation}"
      ],
      "text/plain": [
       "w₁ = 6.07⋅millimeter"
      ]
     },
     "execution_count": 54,
     "metadata": {},
     "output_type": "execute_result"
    }
   ],
   "source": [
    "eq_w_p1 = unit.convert_to(sp.Eq(w_1, integrate.quad(lambda x: M_x_lambda(x, 1)*chi_M_lambda(M_x_lambda(x, F_A.subs(params_plot)), *M_chi_params), 0, 2.620)[0]*unit.m), unit.mm)\n",
    "\n",
    "eq_w_p1.evalf(3)"
   ]
  }
 ],
 "metadata": {
  "kernelspec": {
   "display_name": "calcs",
   "language": "python",
   "name": "python3"
  },
  "language_info": {
   "codemirror_mode": {
    "name": "ipython",
    "version": 3
   },
   "file_extension": ".py",
   "mimetype": "text/x-python",
   "name": "python",
   "nbconvert_exporter": "python",
   "pygments_lexer": "ipython3",
   "version": "3.11.5"
  },
  "orig_nbformat": 4
 },
 "nbformat": 4,
 "nbformat_minor": 2
}
