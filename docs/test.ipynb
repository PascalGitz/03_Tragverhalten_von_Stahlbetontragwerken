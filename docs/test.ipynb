{
 "cells": [
  {
   "cell_type": "code",
   "execution_count": 1,
   "metadata": {},
   "outputs": [
    {
     "data": {
      "text/markdown": [
       "$$\\begin{equation}\\int_0^1 x^2 dx \\end{equation}$$"
      ],
      "text/plain": [
       "<IPython.core.display.Markdown object>"
      ]
     },
     "metadata": {},
     "output_type": "display_data"
    },
    {
     "name": "stderr",
     "output_type": "stream",
     "text": [
      "pandoc \n",
      "  to: latex\n",
      "  output-file: test.tex\n",
      "  standalone: true\n",
      "  pdf-engine: xelatex\n",
      "  variables:\n",
      "    graphics: true\n",
      "    tables: true\n",
      "  default-image-extension: pdf\n",
      "  \n",
      "metadata\n",
      "  documentclass: scrartcl\n",
      "  classoption:\n",
      "    - DIV=11\n",
      "    - numbers=noendperiod\n",
      "  papersize: letter\n",
      "  header-includes:\n",
      "    - '\\KOMAoption{captions}{tableheading}'\n",
      "  block-headings: true\n",
      "  \n",
      "running xelatex - 1\n",
      "  This is XeTeX, Version 3.141592653-2.6-0.999994 (TeX Live 2022) (preloaded format=xelatex)\n",
      "   restricted \\write18 enabled.\n",
      "  entering extended mode\n",
      "  \n",
      "running xelatex - 2\n",
      "  This is XeTeX, Version 3.141592653-2.6-0.999994 (TeX Live 2022) (preloaded format=xelatex)\n",
      "   restricted \\write18 enabled.\n",
      "  entering extended mode\n",
      "  \n",
      "\n",
      "Output created: test.pdf\n",
      "\n"
     ]
    }
   ],
   "source": [
    "from IPython.display import Markdown\n",
    "display(Markdown('$$\\\\begin{equation}\\int_0^1 x^2 dx \\\\end{equation}$$'))\n",
    "\n",
    "!quarto render test.ipynb --to pdf"
   ]
  },
  {
   "cell_type": "code",
   "execution_count": null,
   "metadata": {},
   "outputs": [],
   "source": []
  }
 ],
 "metadata": {
  "kernelspec": {
   "display_name": "calculations",
   "language": "python",
   "name": "python3"
  },
  "language_info": {
   "codemirror_mode": {
    "name": "ipython",
    "version": 3
   },
   "file_extension": ".py",
   "mimetype": "text/x-python",
   "name": "python",
   "nbconvert_exporter": "python",
   "pygments_lexer": "ipython3",
   "version": "3.11.5"
  }
 },
 "nbformat": 4,
 "nbformat_minor": 2
}
