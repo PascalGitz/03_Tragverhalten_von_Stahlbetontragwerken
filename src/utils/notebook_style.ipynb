{
 "cells": [
  {
   "cell_type": "code",
   "execution_count": 1,
   "metadata": {},
   "outputs": [],
   "source": [
    "## Sympy und Hilfsfunktionen\n",
    "\n",
    "import sympy as sp \n",
    "from sympycalcs import render, convert, export, calcs\n",
    "from sympycalcs.helpers import Equation as Eqn\n",
    "import sympy.physics.units as unit\n",
    "from sympy.abc import *\n",
    "\n",
    "from sympy_helpers import Eq_subs\n",
    "sp.init_printing(use_latex='mathjax', latex_mode='equation', mat_symbol_style = 'bold')\n",
    "\n",
    "## Numerische Berechnungen\n",
    "\n",
    "import numpy as np\n",
    "import scipy.integrate as integrate\n",
    "# from astropy import units as unit\n",
    "\n",
    "## Plotting und display\n",
    "\n",
    "import matplotlib.pyplot as plt\n",
    "from plotstyle import set_engineering_style # Plotstyle\n",
    "set_engineering_style()\n",
    "%config InlineBackend.figure_formats = ['svg'] # Plots sollen als SVG erstellt werden um Vektorgrafiken im Quarto einzubinden\n",
    "from IPython.display import Markdown # Für Tabellen\n",
    "\n",
    "## Pfad um Import von src zu vereinfachen\n",
    "import sys\n",
    "sys.path.append('../')"
   ]
  }
 ],
 "metadata": {
  "kernelspec": {
   "display_name": "calcs",
   "language": "python",
   "name": "python3"
  },
  "language_info": {
   "codemirror_mode": {
    "name": "ipython",
    "version": 3
   },
   "file_extension": ".py",
   "mimetype": "text/x-python",
   "name": "python",
   "nbconvert_exporter": "python",
   "pygments_lexer": "ipython3",
   "version": "3.10.12"
  },
  "orig_nbformat": 4
 },
 "nbformat": 4,
 "nbformat_minor": 2
}
